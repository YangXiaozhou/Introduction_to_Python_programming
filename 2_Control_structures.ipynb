{
 "cells": [
  {
   "cell_type": "markdown",
   "metadata": {},
   "source": [
    "# Control structures\n",
    "\n",
    "Control structures are programming statements that control, in what sequence, a series of code are run. They put some \"human logic\" in to a block of code. Until now, all the programs that we've written run from top to bottom in a linear sequence. It's easier to interpret and debug. However, the power of programming shows significantly once we add in control structures. For example, control structures we learn next will be able do things like:\n",
    "\n",
    "- If a pre-specified condition is met, run code block A; If not, run code block B.\n",
    "- If condition 1, 2, and 3 are all met, run code block A; If condition 1 is met, run code block B; If condition 2 is met, run code block C; if condition 3 and 4 are met, run code block D.\n",
    "- Repeatedly run the next block of code for 10 time.\n",
    "- Repeatedly run the next block of code until a pre-specified condition is met.\n",
    "\n",
    "And many other powerful things. "
   ]
  },
  {
   "cell_type": "markdown",
   "metadata": {},
   "source": [
    "# Conditionals\n",
    "\n",
    "The first kind of control structures is called conditionals. They are statements that control which segment of code is executed based on the result of a condition evaluation. \n",
    "\n",
    "In Python, we work with three conditional keywords: `if`, `elif`, `else`. See the following example of a chained conditional.\n",
    "\n",
    "```python\n",
    "Some code here  # Outside if-else block\n",
    "\n",
    "if <expression_1>:\n",
    "    Code block A\n",
    "elif <expression_2>:\n",
    "    Code block B\n",
    "elif ...:\n",
    "    Some code\n",
    "elif ...:\n",
    "    Some code\n",
    "else:\n",
    "    Code block C\n",
    "  \n",
    "Some code here  # Outside if-else block\n",
    "```\n",
    "\n",
    "Notice a few things in the conditional template above:\n",
    "\n",
    "- Conditional code forms a block by itself. Code above it and below it are not affected by the control logic, i.e., they are not subject to any of the conditional evaluation.\n",
    "- `if` and `elif` means \"if something is true\" and \"*el*se, *if* something is true\". \n",
    "- `<expression>` follows `if` and `elif` to specify what that \"something\" is. It is a Boolean value or the equivalent of it, e.g., `True`, `10 > 0`, `False`, `True and False`. \n",
    "- If `<expression_1>` is not true, the program skips Code block A and continues to the next conditional evaluation.\n",
    "- `else` means all the previous conditionals are rejected, as a last resort, we'll run Code block C, without evaluating any condition.\n",
    "- In a chained conditional like the above, at most one block of code is run. Which code block runs depend on the condition evaluation result. "
   ]
  },
  {
   "cell_type": "code",
   "execution_count": 2,
   "metadata": {},
   "outputs": [
    {
     "name": "stdout",
     "output_type": "stream",
     "text": [
      "a is not smaller than half of b.\n"
     ]
    }
   ],
   "source": [
    "# A simple example to illustrate conditionals\n",
    "a = 10\n",
    "b = 20\n",
    "\n",
    "if a >= b:\n",
    "    print('a is not smaller than b.')\n",
    "elif a >= 0.5 * b:\n",
    "    print('a is not smaller than half of b.')  # This statement is executed.\n",
    "else:\n",
    "    print('a is smaller than half of b.')"
   ]
  },
  {
   "cell_type": "markdown",
   "metadata": {},
   "source": [
    "Besides Boolean evaluations, there are a few special things that are considered as `False` in Python:\n",
    "\n",
    "- Empty strings: `\"\"`, `''`\n",
    "- Empty list: `[]`, `()`\n",
    "- `0`\n",
    "- Singleton none: `None`"
   ]
  },
  {
   "cell_type": "code",
   "execution_count": 11,
   "metadata": {},
   "outputs": [
    {
     "name": "stdout",
     "output_type": "stream",
     "text": [
      "Run\n",
      "Run\n",
      "Run\n"
     ]
    }
   ],
   "source": [
    "# Empty string is False\n",
    "if \"\" or '':\n",
    "    print('Not run')\n",
    "else:\n",
    "    print('Run')\n",
    "\n",
    "# 0 is False\n",
    "if 0:\n",
    "    print('Not run')\n",
    "else:\n",
    "    print('Run')\n",
    "\n",
    "# None is False\n",
    "if None:\n",
    "    print('Not run')\n",
    "else:\n",
    "    print('Run')"
   ]
  },
  {
   "cell_type": "markdown",
   "metadata": {},
   "source": [
    "Python supports a shorter way to express single if-else conditional evaluation. Instead of the sequential way above, we can write:\n",
    "```Python\n",
    "a_line_of_code if <expression> else another_line_of_code\n",
    "```\n",
    "The above code runs `a_line_of_code` if `<expression>` is true. If not, it runs `another_line_of_code`."
   ]
  },
  {
   "cell_type": "code",
   "execution_count": 7,
   "metadata": {},
   "outputs": [
    {
     "name": "stdout",
     "output_type": "stream",
     "text": [
      "a < b\n",
      "a < b\n"
     ]
    }
   ],
   "source": [
    "# A shorter way for single conditional\n",
    "print('a >= b') if a >= b else print('a < b')\n",
    "\n",
    "# The above is equivalent to\n",
    "if a >= b:\n",
    "    print('a >= b')\n",
    "else:\n",
    "    print('a < b')"
   ]
  },
  {
   "cell_type": "markdown",
   "metadata": {},
   "source": [
    "## Practice problems"
   ]
  },
  {
   "cell_type": "code",
   "execution_count": 1,
   "metadata": {},
   "outputs": [
    {
     "name": "stdout",
     "output_type": "stream",
     "text": [
      "Transaction\n",
      "PIN\n",
      "Password\n"
     ]
    }
   ],
   "source": [
    "# Write a function called interpret_cashier. interpret_cashier\n",
    "# should have one parameter, a string. interpret_cashier\n",
    "# should interpret the type of input at a casher. If the \n",
    "# input, a string, contains numeric only, it is a 'PIN'; \n",
    "# If it contains only one dot, it is a 'Transaction';\n",
    "# Otherwise, it is a 'Password'.\n",
    "\n",
    "# Example:\n",
    "# interpret_cashier('24.59') --> 'Transaction'\n",
    "# interpret_cashier('123456') --> 'PIN'\n",
    "# interpret_cashier('my$up3rs3cur3p4$$w0rd') --> 'Password'\n",
    "\n",
    "def interpret_cashier(cashier_input):\n",
    "    is_pin = True\n",
    "    no_of_dots = 0\n",
    "    for char in cashier_input:\n",
    "        if str(0) > char or str(9) < char:\n",
    "            is_pin = False\n",
    "            if char != '.':\n",
    "                return 'Password'\n",
    "            else:\n",
    "                no_of_dots += 1\n",
    "                if no_of_dots >= 2:\n",
    "                    return 'Password'\n",
    "    if is_pin:\n",
    "        return 'PIN'\n",
    "    elif no_of_dots == 1:\n",
    "        return 'Transaction'\n",
    "    else:\n",
    "        return 'Password'\n",
    "    \n",
    "print(interpretCashier(\"24.59\"))\n",
    "print(interpretCashier(\"123456\"))\n",
    "print(interpretCashier(\"my$up3rs3cur3p4$$w0rd\"))"
   ]
  },
  {
   "cell_type": "code",
   "execution_count": 2,
   "metadata": {},
   "outputs": [
    {
     "name": "stdout",
     "output_type": "stream",
     "text": [
      "576 ns ± 29.5 ns per loop (mean ± std. dev. of 7 runs, 1000000 loops each)\n"
     ]
    }
   ],
   "source": [
    "%timeit interpretCashier(\"my$up3rs3cur3p4$$w0rd\")"
   ]
  },
  {
   "cell_type": "code",
   "execution_count": 4,
   "metadata": {},
   "outputs": [
    {
     "name": "stdout",
     "output_type": "stream",
     "text": [
      "ZOMGHCS\n",
      "ello\n",
      ",1010!!\n",
      "2\n"
     ]
    }
   ],
   "source": [
    "# Write a function called sort_string. sort_string should\n",
    "# have one parameter, a string. sort_string should sort \n",
    "# the input string according to upper letters, lower \n",
    "# letters, punctuation and numeric letters, and count the \n",
    "# number of spaces in the string. sort_string should\n",
    "# return them in a new string with each sorted item\n",
    "# in a separate line.\n",
    "\n",
    "# Example:\n",
    "# sort_string(\"ZOMG Hello, CS1010!!\") --> \n",
    "# ZOMGHCS\n",
    "# ello\n",
    "# ,1301!!\n",
    "# 2\n",
    "\n",
    "def sort_string(input_str):\n",
    "    if type(input_str) != str:\n",
    "        return 'Not a string!'\n",
    "\n",
    "    upp_letters = \"\"\n",
    "    low_letters = \"\"\n",
    "    punc_num_marks = \"\"\n",
    "    no_of_spaces = 0\n",
    "    for char in input_str:\n",
    "        char_position = ord(char)\n",
    "        if 65 <= char_position <= 90:\n",
    "            upp_letters += char\n",
    "        elif 97 <= char_position <= 122:\n",
    "            low_letters += char\n",
    "        elif 33 <= char_position <= 64:\n",
    "            punc_num_marks += char \n",
    "        elif char_position == 32:\n",
    "            no_of_spaces += 1\n",
    "\n",
    "    return upp_letters + '\\n' + low_letters + '\\n' + punc_num_marks + '\\n' + str(no_of_spaces)\n",
    "\n",
    "print(sort_string(\"ZOMG Hello, CS1010!!\"))"
   ]
  },
  {
   "cell_type": "code",
   "execution_count": 6,
   "metadata": {},
   "outputs": [
    {
     "name": "stdout",
     "output_type": "stream",
     "text": [
      "4.71 µs ± 446 ns per loop (mean ± std. dev. of 7 runs, 100000 loops each)\n"
     ]
    }
   ],
   "source": [
    "%timeit sort_string(\"ZOMG Hello, CS1301!!\")"
   ]
  },
  {
   "cell_type": "markdown",
   "metadata": {},
   "source": [
    "# Loops\n",
    "What if we wish to execute a segment of code repeatedly, e.g., for ten times, or until a condition is met? Loops allow us to do exactly that. There are two Python keywords to construct loops: `for` and `while`. `for` constructs loops where the number of repeats is known; `while` is used when we only know a terminating condition. \n",
    "\n",
    "Here's a template for `for` loops:\n",
    "\n",
    "```python\n",
    "for i in [1,2,3]:  # For each number i in the list of [1, 2, 3]\n",
    "    print(i)\n",
    "  \n",
    "# The code above prints\n",
    "# 1\n",
    "# 2\n",
    "# 3\n",
    "```"
   ]
  },
  {
   "cell_type": "markdown",
   "metadata": {},
   "source": [
    "And the template for `while` loop:\n",
    "\n",
    "```python\n",
    "number = 1\n",
    "while number <= 3:  # Repeat while number is less than or equal to 3\n",
    "    print(number)  \n",
    "    number += 1\n",
    "\n",
    "# The code above prints\n",
    "# 1\n",
    "# 2\n",
    "# 3\n",
    "```"
   ]
  },
  {
   "cell_type": "code",
   "execution_count": 59,
   "metadata": {},
   "outputs": [
    {
     "name": "stdout",
     "output_type": "stream",
     "text": [
      "1\n",
      "2\n",
      "3\n"
     ]
    }
   ],
   "source": [
    "# An equivalent code for the above task. \n",
    "# You can use i, j, or whatever variable \n",
    "# name to represent the iterable element. \n",
    "# range(start, end) is a function that generates\n",
    "# a sequence of numbers from start to end (excluding).\n",
    "for j in range(1, 4):\n",
    "    print(j)"
   ]
  },
  {
   "cell_type": "markdown",
   "metadata": {},
   "source": [
    "There are some keywords that we can use inside the loop for special control purposes. \n",
    "\n",
    "- `continue`: Ignore the rest of the code in this current loop, continue with the next round of execution. \n",
    "- `break`: Ignore the rest of the code in the current loop and exit the loop. \n",
    "- `pass`: Do nothing, continue with the next iteration in the loop. "
   ]
  },
  {
   "cell_type": "code",
   "execution_count": 66,
   "metadata": {},
   "outputs": [
    {
     "name": "stdout",
     "output_type": "stream",
     "text": [
      "1\n"
     ]
    }
   ],
   "source": [
    "for i in range(0, 10):  # For each number from 0 to 9\n",
    "    if i % 2 == 0:  # If the number is even\n",
    "        continue  # Skip the rest of the loop.\n",
    "    \n",
    "    if i % 3 == 0:  # If 3 is a factor of the number\n",
    "        break  # Skip the rest of the loop and exit the loop.\n",
    "        \n",
    "    print(i)  # If the number is odd and 3 is not a factor, print it."
   ]
  },
  {
   "cell_type": "code",
   "execution_count": 67,
   "metadata": {},
   "outputs": [],
   "source": [
    "for i in range(0, 3):\n",
    "    pass  # pass lets us do nothing in a loop or function."
   ]
  },
  {
   "cell_type": "markdown",
   "metadata": {},
   "source": [
    "## Practice problems"
   ]
  },
  {
   "cell_type": "code",
   "execution_count": 76,
   "metadata": {},
   "outputs": [
    {
     "name": "stdout",
     "output_type": "stream",
     "text": [
      "0\n",
      "2\n",
      "0\n",
      "6\n",
      "6\n"
     ]
    }
   ],
   "source": [
    "# Write a function called num_factors. num_factors should\n",
    "# have one parameter, an integer. num_factors should count\n",
    "# how many factors the number has and return that count as\n",
    "# an integer\n",
    "#\n",
    "# A number is a factor of another number if it divides\n",
    "# evenly into that number. For example, 3 is a factor of 6,\n",
    "# but 4 is not. As such, all factors will be less than the\n",
    "# number itself.\n",
    "#\n",
    "# Do not count 1 or the number itself in your factor count.\n",
    "# For example, 6 should have 2 factors: 2 and 3. Do not\n",
    "# count 1 and 6. You may assume the number will be less than\n",
    "# 1000.\n",
    "\n",
    "def num_factors(number):\n",
    "    no_of_factors = 0\n",
    "    for i in range(2, number):\n",
    "        if number % i == 0:\n",
    "            no_of_factors += 1\n",
    "    return no_of_factors   \n",
    "\n",
    "# Below are some lines of code that will test your function.\n",
    "# You can change the value of the variable(s) to test your\n",
    "# function with different inputs.\n",
    "#\n",
    "# If your function works correctly, this will originally\n",
    "# print: 0, 2, 0, 6, 6, each on their own line.\n",
    "print(num_factors(5))\n",
    "print(num_factors(6))\n",
    "print(num_factors(97))\n",
    "print(num_factors(105))\n",
    "print(num_factors(999))"
   ]
  },
  {
   "cell_type": "code",
   "execution_count": 77,
   "metadata": {},
   "outputs": [
    {
     "name": "stdout",
     "output_type": "stream",
     "text": [
      "64.7 µs ± 2.89 µs per loop (mean ± std. dev. of 7 runs, 10000 loops each)\n"
     ]
    }
   ],
   "source": [
    "%timeit num_factors(999)"
   ]
  },
  {
   "cell_type": "code",
   "execution_count": 78,
   "metadata": {},
   "outputs": [
    {
     "name": "stdout",
     "output_type": "stream",
     "text": [
      "0\n",
      "2\n",
      "0\n",
      "6\n",
      "6\n"
     ]
    }
   ],
   "source": [
    "# A faster version.\n",
    "def num_factors(number):\n",
    "    no_of_factors = 0\n",
    "    curr_factor = 2\n",
    "    counter_factor = number / curr_factor\n",
    "    \n",
    "    while counter_factor > curr_factor:\n",
    "        if number % curr_factor == 0:\n",
    "            counter_factor = number / curr_factor\n",
    "            no_of_factors += 2\n",
    "        \n",
    "        curr_factor += 1\n",
    "    \n",
    "    return no_of_factors\n",
    "\n",
    "print(num_factors(5))\n",
    "print(num_factors(6))\n",
    "print(num_factors(97))\n",
    "print(num_factors(105))\n",
    "print(num_factors(999))"
   ]
  },
  {
   "cell_type": "code",
   "execution_count": 79,
   "metadata": {},
   "outputs": [
    {
     "name": "stdout",
     "output_type": "stream",
     "text": [
      "3.61 µs ± 20.2 ns per loop (mean ± std. dev. of 7 runs, 100000 loops each)\n"
     ]
    }
   ],
   "source": [
    "%timeit num_factors(999)"
   ]
  },
  {
   "cell_type": "markdown",
   "metadata": {},
   "source": [
    "# Functions\n",
    "\n",
    "Function is a block of of related code grouped together to perform a specific task. They replace repetitive codes with a simple line of function call. They help to make our program concise and organized. Functions can be built-in by a language or used-defined.\n",
    "\n",
    "```python\n",
    "def first_function(a, b):\n",
    "    \"\"\"Add a and b.\"\"\"\n",
    "\tc = a + b\n",
    "    print(c)\n",
    "    \n",
    "    return c\n",
    "```\n",
    "\n",
    "The above is an example of defining a function in Python:\n",
    "\n",
    "- The function is declared using the keyword `def` followed by the function name that we give it.\n",
    "- A function can take as many arguments as necessary separated by comma. In this case, it has two arguments, `a` and `b`.\n",
    "- Functions docstring using `\"\"\"` details what the function does and how to use it.\n",
    "- The function returns some value through the keyword `return`."
   ]
  },
  {
   "cell_type": "markdown",
   "metadata": {},
   "source": [
    "The concept of scope\n",
    "\n",
    "- Scope means the portion of program that a variable can be seen and accessed. \n",
    "- Compiled languages are generally different in scope design from scripted languages. \n",
    "- Scope is usually defined by control structures.\n",
    "\n",
    "Scoping in Python: Built-in scope >= global scope >= enclosing scope >= local scope\n",
    "\n",
    "- Local scope: Variables created inside Python functions.\n",
    "- Enclosing scope: Not local nor global scope, hence nonlocal scope, e.g. inside one function but outside another.\n",
    "- Global scope: Variables which can be accessed anywhere in a program.\n",
    "- Build-in scope: Largest scope, all variable names loaded into Python interpreter, e.g., `print()`, `len()`, `int()`.\n",
    "\n",
    "Parameter: Variable that functions expect to receive an input.\n",
    "\n",
    "Argument: Value of the function parameter passed as input."
   ]
  },
  {
   "cell_type": "markdown",
   "metadata": {},
   "source": [
    "# Error handling\n",
    "\n",
    "Python error handling: \n",
    "\n",
    "- `try` - `except` - `else` - `finally`\n",
    "- `try` to execute this segment of code, `except` some error occurs, then do that instead. `else`, if no error occurred, run this segment of code. `finally`, regardless of the occurrence of errors, run this segment of code. \n",
    "- `finally`: segment of code to run no matter what happens above, e.g., closing a file. \n",
    "\n",
    "Nested exception-handling structure\n",
    "\n",
    "- Errors escalate up incrementally to see if they can be caught. \n",
    "- Errors also rise through function calls, e.g., an error occurred inside a function. "
   ]
  },
  {
   "cell_type": "markdown",
   "metadata": {},
   "source": [
    "# Practice problesm"
   ]
  },
  {
   "cell_type": "code",
   "execution_count": 11,
   "metadata": {},
   "outputs": [
    {
     "name": "stdout",
     "output_type": "stream",
     "text": [
      "True\n",
      "True\n",
      "False\n",
      "False\n",
      "False\n"
     ]
    }
   ],
   "source": [
    "\"\"\"\n",
    "Check if a password is valid.\n",
    "It should satisfy all of the following:\n",
    "- Not less than 8 characters long.\n",
    "- Contains at least one upper case letter.\n",
    "- Contains at least one lower case letter.\n",
    "- Contains at least one allowed punctuation mark.\n",
    "- Contains at least one number.\n",
    "- Does not contain anything outside the four\n",
    "categories specified above. \n",
    "\n",
    "Allowed punctuation marks: !@#$%&()-_[]{};:\",./<>?\n",
    "\n",
    "Return True if the password is valid; Otherwise, return False.\n",
    "\n",
    "Example:\n",
    "password_check(\"2.shOrt\") --> False\n",
    "\n",
    "\"\"\"\n",
    "def password_check(input_str):\n",
    "    punc_marks = '!@#$%&()-_[]'+'{'+'}'+';'+':'+'\"'+',./'+'<>?'\n",
    "    numbers = '0123456789'\n",
    "\n",
    "    has_upp = False\n",
    "    has_low = False\n",
    "    has_num = False\n",
    "    has_pun = False\n",
    "\n",
    "    if len(input_str) < 8:\n",
    "        return False\n",
    "\n",
    "    for char in input_str:\n",
    "        char_position = ord(char) \n",
    "        if ((char_position > 122 or (90 < char_position < 97) \n",
    "            or char_position < 65) and char not in punc_marks \n",
    "            and char not in numbers):\n",
    "            return False\n",
    "        elif 97 <= char_position <= 122:\n",
    "            has_upp = True\n",
    "        elif 65 <= char_position <= 90:\n",
    "            has_low = True\n",
    "        elif char in punc_marks:\n",
    "            has_pun = True\n",
    "        elif char in numbers:\n",
    "            has_num = True\n",
    "\n",
    "    return has_low and has_upp and has_num and has_pun\n",
    "\n",
    "print(password_check(\"tHIs1sag00d.p4ssw0rd.\"))\n",
    "print(password_check(\"3@t7ENZ((T\"))\n",
    "print(password_check(\"2.shOrt\"))\n",
    "print(password_check(\"all.l0wer.case\"))\n",
    "print(password_check(\"inv4l1d CH4R4CTERS~\"))"
   ]
  },
  {
   "cell_type": "code",
   "execution_count": 12,
   "metadata": {},
   "outputs": [
    {
     "name": "stdout",
     "output_type": "stream",
     "text": [
      "2.12 µs ± 182 ns per loop (mean ± std. dev. of 7 runs, 100000 loops each)\n"
     ]
    }
   ],
   "source": [
    "%timeit password_check(\"inv4l1d CH4R4CTERS~\")"
   ]
  },
  {
   "cell_type": "code",
   "execution_count": 7,
   "metadata": {},
   "outputs": [
    {
     "name": "stdout",
     "output_type": "stream",
     "text": [
      "12\n",
      "0\n",
      "66\n"
     ]
    }
   ],
   "source": [
    "# Calculate the sum of all even \n",
    "# numbers between a minimum and \n",
    "# a maximum.\n",
    "def sum_evens(minimum, maximum):\n",
    "    if minimum % 2 != 0:\n",
    "        minimum += 1\n",
    "    if maximum % 2 != 0:\n",
    "        maximum -= 1\n",
    "    n = (maximum - minimum)/2\n",
    "    \n",
    "    return int((minimum + n) * (n + 1))\n",
    "\n",
    "print(sum_evens(2, 6))\n",
    "print(sum_evens(-2, 2))\n",
    "print(sum_evens(5, 17))"
   ]
  },
  {
   "cell_type": "code",
   "execution_count": 8,
   "metadata": {},
   "outputs": [
    {
     "name": "stdout",
     "output_type": "stream",
     "text": [
      "395 ns ± 8.52 ns per loop (mean ± std. dev. of 7 runs, 1000000 loops each)\n"
     ]
    }
   ],
   "source": [
    "%timeit sum_evens(5, 17)"
   ]
  }
 ],
 "metadata": {
  "kernelspec": {
   "display_name": "Python 3",
   "language": "python",
   "name": "python3"
  },
  "language_info": {
   "codemirror_mode": {
    "name": "ipython",
    "version": 3
   },
   "file_extension": ".py",
   "mimetype": "text/x-python",
   "name": "python",
   "nbconvert_exporter": "python",
   "pygments_lexer": "ipython3",
   "version": "3.8.6"
  },
  "toc": {
   "base_numbering": 1,
   "nav_menu": {},
   "number_sections": true,
   "sideBar": true,
   "skip_h1_title": false,
   "title_cell": "Table of Contents",
   "title_sidebar": "Contents",
   "toc_cell": false,
   "toc_position": {
    "height": "calc(100% - 180px)",
    "left": "10px",
    "top": "150px",
    "width": "186px"
   },
   "toc_section_display": true,
   "toc_window_display": true
  },
  "toc-autonumbering": true,
  "toc-showmarkdowntxt": false
 },
 "nbformat": 4,
 "nbformat_minor": 4
}
