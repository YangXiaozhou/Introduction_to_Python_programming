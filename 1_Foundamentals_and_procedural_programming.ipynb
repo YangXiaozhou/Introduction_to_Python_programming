{
 "cells": [
  {
   "cell_type": "markdown",
   "metadata": {},
   "source": [
    "# Fundamentals and Procedural Programming"
   ]
  },
  {
   "cell_type": "markdown",
   "metadata": {},
   "source": [
    "## Computing\n",
    "\n",
    "First up, is computing and programming the same thing?\n",
    "\n",
    "Computing is loosely anything we do that involves computers. Programming is the act of giving a set of instructions for computers to act on. Computing is about what we want to do with computers using the programming language that we learnt.\n",
    "\n",
    "Here are some commonly used programming vocabularies to distinguish:\n",
    "\n",
    "1. Program and code\n",
    "    - Program: A set of lines of code that usually serve one overall function. \n",
    "    - A line of code: The smallest unit of programming that instructs computer to do something.\n",
    "2. Input and output\n",
    "    - Input: What a program takes in to work with.\n",
    "    - Output: What a program produces in return.\n",
    "3. Compiling and executing\n",
    "    - Compiling: Compilers look for syntax errors in our code, like proofreading an article.\n",
    "    - Executing: Actually running the program written. \n",
    "4. Console and graphical user interface (GUI):\n",
    "    - Console: Command-line interface that is solely based on text input and output, e.g., Terminal on Mac.\n",
    "    - GUI: Much more complex and commonly used interface of computer programs, e.g., Microsoft Word. \n",
    "\n",
    "What are programming languages?\n",
    "\n",
    "To be able to write Japanese essays, we need to learn Japanese, Similarly, to write computer programs, we need to learn programming languages. However, languages differ in many ways, it's important to keep in mind the [language spectrum](https://www.realpythonproject.com/you-need-to-know-compiled-interpreted-static-dynamic-and-strong-weak-typing/).\n",
    "\n",
    "- Static and compiled: e.g., C, C++, Java. These languages do not allow variable type changes after declaration. The program is translated into machine-readable code at once. \n",
    "- Dynamic and interpreted: e.g., Python, JavaScript. These languages allow dynamically changing variable types. The program is translated into machine-readable code one line at a time."
   ]
  },
  {
   "cell_type": "markdown",
   "metadata": {},
   "source": [
    "## Introduction to Python\n",
    "\n",
    "Python was created in the 90s, became popular in 2000s. It is one of the most popular languages today. \n",
    "\n",
    "It is a high-level language in the sense that it\n",
    "\n",
    "- abstracts aways from core computer processor and memory and\n",
    "- is more portable across different operating systems.\n",
    "\n",
    "It is also an interpreted language as it runs code line by line without trying to compile the whole program first.\n",
    "\n",
    "### Python programming\n",
    "\n",
    "The common work flow of programming is: Writing code --> Running code --> Evaluating results --> Repeat. \n",
    "\n",
    "Multiple instructions are chained together through lines of code. When we wish to see the value of a variable or the result of a program, `print()` function is usually used. Also, it is recommended to work in small chunks of code at a time for Python programming. \n",
    "\n",
    "### First Python program: Hello, world. \n",
    "\n",
    "- `print` is in lower case\n",
    "- the message to be printed is enclosed by parenthesis\n",
    "- the actual message to be printed is in quotation marks"
   ]
  },
  {
   "cell_type": "code",
   "execution_count": 1,
   "metadata": {},
   "outputs": [
    {
     "name": "stdout",
     "output_type": "stream",
     "text": [
      "Hello world!\n"
     ]
    }
   ],
   "source": [
    "print('Hello world!')"
   ]
  },
  {
   "cell_type": "markdown",
   "metadata": {},
   "source": [
    "### Compiling vs executing\n",
    "\n",
    "The difference between compiling and executing a program can be understood through the analogy of building a table with parts and instructions. Compiling means reading the instructions to make sure every parts are in place and the instructions make sense. Executing means actually building the table with the instructions. \n",
    "\n",
    "Compiling\n",
    "\n",
    "- Practically, this process looks over our code to see if everything makes sense. \n",
    "- Technically, it also translates our code into lower-level machine-understandable code. \n",
    "- Compiling before running is not required for every language, .e.g., interpreted languages like Python and JavaScript.\n",
    "\n",
    "Executing\n",
    "\n",
    "- Actually running the code and letting it do when we want it to do.\n",
    "\n",
    "### Evaluating results\n",
    "\n",
    "After executing our program, three scenarios can happen:\n",
    "\n",
    "1. Run as intended.\n",
    "2. Did not do what we intend it to do.\n",
    "3. Run into errors.\n",
    "\n",
    "In the first case, we obtain correct results and we're happy. In the second case, the program executes successfully but produces incorrect results, e.g., instead of printing 1 to 10, it prints 1 to 9. In this case, we need to locate the code that causes the error and revise it. Finally, the program runs into errors and aborts right away. In another words, our program crashes. We need to locate the error-causing code and correct them."
   ]
  },
  {
   "cell_type": "code",
   "execution_count": 2,
   "metadata": {},
   "outputs": [
    {
     "name": "stdout",
     "output_type": "stream",
     "text": [
      "A sentence to print.\n"
     ]
    }
   ],
   "source": [
    "# Case 1: Correct result\n",
    "print('A sentence to print.')"
   ]
  },
  {
   "cell_type": "code",
   "execution_count": 6,
   "metadata": {},
   "outputs": [
    {
     "name": "stdout",
     "output_type": "stream",
     "text": [
      "1 2 3 4 5 6 7 8 9 "
     ]
    }
   ],
   "source": [
    "# Case 2: Incorrect result\n",
    "# Intention: print out number\n",
    "# 1, 2, 3, 4, 5, 6, 7, 8, 9, 10\n",
    "for i in range(1, 10):\n",
    "    print(i, end=' ')"
   ]
  },
  {
   "cell_type": "code",
   "execution_count": 7,
   "metadata": {},
   "outputs": [
    {
     "ename": "SyntaxError",
     "evalue": "invalid syntax (<ipython-input-7-5efb0e02c05e>, line 2)",
     "output_type": "error",
     "traceback": [
      "\u001b[0;36m  File \u001b[0;32m\"<ipython-input-7-5efb0e02c05e>\"\u001b[0;36m, line \u001b[0;32m2\u001b[0m\n\u001b[0;31m    for i within range(1, 10):\u001b[0m\n\u001b[0m          ^\u001b[0m\n\u001b[0;31mSyntaxError\u001b[0m\u001b[0;31m:\u001b[0m invalid syntax\n"
     ]
    }
   ],
   "source": [
    "# Case 3: Error\n",
    "# within is not a valid Python keyword.\n",
    "for i within range(1, 10):\n",
    "    print(i, end=' ')"
   ]
  },
  {
   "cell_type": "markdown",
   "metadata": {},
   "source": [
    "## Debugging\n",
    "\n",
    "What is debugging?\n",
    "\n",
    "When our program causes error or produces incorrect results, we want to do debugging. Debugging is the process of finding out why our code doesn't behave the way we want it to. It is also like doing research on our code; the aim is to gather as much information as necessary to debug.\n",
    "\n",
    "Debugging sometimes is like \n",
    "\n",
    "![debugging](assets/debugging.gif) \n",
    "\n",
    "or like \n",
    "\n",
    "![debugging](assets/debugging2.png)"
   ]
  },
  {
   "cell_type": "markdown",
   "metadata": {},
   "source": [
    "### Error types and common errors\n",
    "\n",
    "There are three types of errors with which we need to debug. We can still think of them in terms of building a table from instructions.\n",
    "\n",
    "1. Compilation errors: These are the errors when we say: \"The instructions do not make sense.\" For example, the code syntax is incorrect (syntax error).\n",
    "2. Runtime error: These are errors encountered when we are building the table/running the code. For example, if one line of code tries to divide by zero, it would cause divide-by-zero error. \n",
    "3. Semantic error: If the table is successfully built but perhaps with reversed tabletop surface, we've encountered semantic error. For example, an incorrect code logic might not crash the program but produces an incorrect result. \n",
    "\n",
    "Here are four commonly encountered errors in Python: \n",
    "\n",
    "- `NameError`: Using a variable that does not exist.\n",
    "- `TypeError`: Doing something that does not make sense for the type of variable.\n",
    "- `AttributeError`: Using attribute of some type of variable which does not make sense\n",
    "- `SyntaxError`: A catch-all name for all sorts of invalid syntax errors in Python"
   ]
  },
  {
   "cell_type": "code",
   "execution_count": 15,
   "metadata": {},
   "outputs": [
    {
     "ename": "NameError",
     "evalue": "name 'a' is not defined",
     "output_type": "error",
     "traceback": [
      "\u001b[0;31m---------------------------------------------------------------------------\u001b[0m",
      "\u001b[0;31mNameError\u001b[0m                                 Traceback (most recent call last)",
      "\u001b[0;32m<ipython-input-15-163798b64346>\u001b[0m in \u001b[0;36m<module>\u001b[0;34m\u001b[0m\n\u001b[0;32m----> 1\u001b[0;31m \u001b[0mprint\u001b[0m\u001b[0;34m(\u001b[0m\u001b[0ma\u001b[0m\u001b[0;34m)\u001b[0m \u001b[0;31m# NameError since a does not exist\u001b[0m\u001b[0;34m\u001b[0m\u001b[0;34m\u001b[0m\u001b[0m\n\u001b[0m",
      "\u001b[0;31mNameError\u001b[0m: name 'a' is not defined"
     ]
    }
   ],
   "source": [
    "print(a) # NameError since a does not exist."
   ]
  },
  {
   "cell_type": "code",
   "execution_count": 17,
   "metadata": {},
   "outputs": [
    {
     "ename": "TypeError",
     "evalue": "unsupported operand type(s) for +: 'int' and 'str'",
     "output_type": "error",
     "traceback": [
      "\u001b[0;31m---------------------------------------------------------------------------\u001b[0m",
      "\u001b[0;31mTypeError\u001b[0m                                 Traceback (most recent call last)",
      "\u001b[0;32m<ipython-input-17-d39c3118dd9a>\u001b[0m in \u001b[0;36m<module>\u001b[0;34m\u001b[0m\n\u001b[1;32m      1\u001b[0m \u001b[0ma\u001b[0m \u001b[0;34m=\u001b[0m \u001b[0;36m10\u001b[0m\u001b[0;34m\u001b[0m\u001b[0;34m\u001b[0m\u001b[0m\n\u001b[1;32m      2\u001b[0m \u001b[0mb\u001b[0m \u001b[0;34m=\u001b[0m \u001b[0;34m'A sentence.'\u001b[0m\u001b[0;34m\u001b[0m\u001b[0;34m\u001b[0m\u001b[0m\n\u001b[0;32m----> 3\u001b[0;31m \u001b[0ma\u001b[0m \u001b[0;34m+\u001b[0m \u001b[0mb\u001b[0m  \u001b[0;31m# TypeError since addition between integer and string does not make sense.\u001b[0m\u001b[0;34m\u001b[0m\u001b[0;34m\u001b[0m\u001b[0m\n\u001b[0m",
      "\u001b[0;31mTypeError\u001b[0m: unsupported operand type(s) for +: 'int' and 'str'"
     ]
    }
   ],
   "source": [
    "a = 10\n",
    "b = 'A sentence.'\n",
    "a + b  # TypeError since addition between integer and string does not make sense."
   ]
  },
  {
   "cell_type": "code",
   "execution_count": 23,
   "metadata": {},
   "outputs": [
    {
     "ename": "TypeError",
     "evalue": "count() takes exactly one argument (0 given)",
     "output_type": "error",
     "traceback": [
      "\u001b[0;31m---------------------------------------------------------------------------\u001b[0m",
      "\u001b[0;31mTypeError\u001b[0m                                 Traceback (most recent call last)",
      "\u001b[0;32m<ipython-input-23-1e8a28423d8c>\u001b[0m in \u001b[0;36m<module>\u001b[0;34m\u001b[0m\n\u001b[1;32m      1\u001b[0m \u001b[0ma_list\u001b[0m \u001b[0;34m=\u001b[0m \u001b[0;34m[\u001b[0m\u001b[0;36m1\u001b[0m\u001b[0;34m,\u001b[0m \u001b[0;36m2\u001b[0m\u001b[0;34m,\u001b[0m \u001b[0;36m3\u001b[0m\u001b[0;34m,\u001b[0m \u001b[0;36m4\u001b[0m\u001b[0;34m,\u001b[0m \u001b[0;36m5\u001b[0m\u001b[0;34m]\u001b[0m\u001b[0;34m\u001b[0m\u001b[0;34m\u001b[0m\u001b[0m\n\u001b[0;32m----> 2\u001b[0;31m \u001b[0ma_list\u001b[0m\u001b[0;34m.\u001b[0m\u001b[0mcount\u001b[0m\u001b[0;34m(\u001b[0m\u001b[0;34m)\u001b[0m\u001b[0;34m\u001b[0m\u001b[0;34m\u001b[0m\u001b[0m\n\u001b[0m\u001b[1;32m      3\u001b[0m \u001b[0ma_list\u001b[0m\u001b[0;34m.\u001b[0m\u001b[0mvolume\u001b[0m  \u001b[0;31m# AttributeError since list objects in Python do not have volume\u001b[0m\u001b[0;34m\u001b[0m\u001b[0;34m\u001b[0m\u001b[0m\n",
      "\u001b[0;31mTypeError\u001b[0m: count() takes exactly one argument (0 given)"
     ]
    }
   ],
   "source": [
    "a_list = [1, 2, 3, 4, 5]\n",
    "a_list.volume  # AttributeError since list objects in Python do not have volume."
   ]
  },
  {
   "cell_type": "code",
   "execution_count": 31,
   "metadata": {},
   "outputs": [
    {
     "ename": "SyntaxError",
     "evalue": "invalid syntax (<ipython-input-31-9afd02133f4c>, line 1)",
     "output_type": "error",
     "traceback": [
      "\u001b[0;36m  File \u001b[0;32m\"<ipython-input-31-9afd02133f4c>\"\u001b[0;36m, line \u001b[0;32m1\u001b[0m\n\u001b[0;31m    for i within range(10):  # SyntaxError since within is not a valid Python keyword.\u001b[0m\n\u001b[0m          ^\u001b[0m\n\u001b[0;31mSyntaxError\u001b[0m\u001b[0;31m:\u001b[0m invalid syntax\n"
     ]
    }
   ],
   "source": [
    "for i within range(10):  # SyntaxError since within is not a valid Python keyword.\n",
    "    print(i)"
   ]
  },
  {
   "cell_type": "markdown",
   "metadata": {},
   "source": [
    "### Basic debugging techniques\n",
    "\n",
    "Here are some basic debugging techniques that people use frequently.\n",
    "\n",
    "- Print debugging/tracing: Printing out the status of the code throughout the program to identify which part is not running as expected.\n",
    "- Scope debugging: Debugging incrementally on the basis of small sections of code. \n",
    "- Rubber duck debugging: Explaining in detail the logic, goal, and operations of the code to a third person/object (e.g., a rubber duck)."
   ]
  },
  {
   "cell_type": "code",
   "execution_count": 1,
   "metadata": {},
   "outputs": [
    {
     "name": "stdout",
     "output_type": "stream",
     "text": [
      "6.833333333333333\n"
     ]
    }
   ],
   "source": [
    "# An example using print and scope debugging.\n",
    "grades = [100, 95, 93, 91, 90, 89, 87, 87, 85, 85, 84, 82]\n",
    "total = 0\n",
    "count = 0\n",
    "for grade in grades:\n",
    "    count = count + 1\n",
    "    total = grade\n",
    "print(total / count)"
   ]
  },
  {
   "cell_type": "code",
   "execution_count": 2,
   "metadata": {},
   "outputs": [
    {
     "name": "stdout",
     "output_type": "stream",
     "text": [
      "Calculating...\n",
      "Adding grade 1...\n",
      "Adding grade 2...\n",
      "Adding grade 3...\n",
      "Adding grade 4...\n",
      "Adding grade 5...\n",
      "Adding grade 6...\n",
      "Adding grade 7...\n",
      "Adding grade 8...\n",
      "Adding grade 9...\n",
      "Adding grade 10...\n",
      "Adding grade 11...\n",
      "Adding grade 12...\n",
      "6.833333333333333\n"
     ]
    }
   ],
   "source": [
    "print(\"Calculating...\")\n",
    "grades = [100, 95, 93, 91, 90, 89, 87, 87, 85, 85, 84, 82]\n",
    "sum = 0\n",
    "count = 0\n",
    "for grade in grades:\n",
    "    count = count + 1\n",
    "    print(\"Adding grade \", count, \"...\", sep=\"\")\n",
    "    total = grade\n",
    "print(total / count)"
   ]
  },
  {
   "cell_type": "code",
   "execution_count": 3,
   "metadata": {},
   "outputs": [
    {
     "name": "stdout",
     "output_type": "stream",
     "text": [
      "Calculating...\n",
      "Current sum: 100\n",
      "Current sum: 95\n",
      "Current sum: 93\n",
      "Current sum: 91\n",
      "Current sum: 90\n",
      "Current sum: 89\n",
      "Current sum: 87\n",
      "Current sum: 87\n",
      "Current sum: 85\n",
      "Current sum: 85\n",
      "Current sum: 84\n",
      "Current sum: 82\n",
      "6.833333333333333\n"
     ]
    }
   ],
   "source": [
    "print(\"Calculating...\")\n",
    "grades = [100, 95, 93, 91, 90, 89, 87, 87, 85, 85, 84, 82]\n",
    "total = 0\n",
    "count = 0\n",
    "for grade in grades:\n",
    "    count = count + 1\n",
    "    total = grade\n",
    "    print(\"Current sum:\", total)\n",
    "print(total / count)"
   ]
  },
  {
   "cell_type": "code",
   "execution_count": 4,
   "metadata": {},
   "outputs": [
    {
     "name": "stdout",
     "output_type": "stream",
     "text": [
      "Calculating...\n",
      "Current sum: 100\n",
      "Current sum: 195\n",
      "Current sum: 288\n",
      "Current sum: 379\n",
      "Current sum: 469\n",
      "Current sum: 558\n",
      "Current sum: 645\n",
      "Current sum: 732\n",
      "Current sum: 817\n",
      "Current sum: 902\n",
      "Current sum: 986\n",
      "Current sum: 1068\n",
      "89.0\n"
     ]
    }
   ],
   "source": [
    "print(\"Calculating...\")\n",
    "grades = [100, 95, 93, 91, 90, 89, 87, 87, 85, 85, 84, 82]\n",
    "total = 0\n",
    "count = 0\n",
    "for grade in grades:\n",
    "    count = count + 1\n",
    "    total = total + grade\n",
    "    print(\"Current sum:\", total)\n",
    "print(total / count)"
   ]
  },
  {
   "cell_type": "markdown",
   "metadata": {},
   "source": [
    "### Advanced debugging techniques\n",
    "\n",
    "In some modern integreted development environments (IDEs), more advanced debugging support is provided.\n",
    "\n",
    "- Step-by-step execution: The program is run one line at a time, stopping anywhere we wish. \n",
    "- Variable visualization: We could also visualize all active variables as the program runs. \n",
    "- In-line debugging: Automatic checking of errors is done while we're writing the code.\n",
    "\n",
    "To learn more about testing and debugging our code, check out the [Testing and Debugging lecture](https://ocw.mit.edu/courses/electrical-engineering-and-computer-science/6-00-introduction-to-computer-science-and-programming-fall-2008/video-lectures/lecture-11/) from MIT OpenCourseware's Introduction to Computer Science and Programming."
   ]
  },
  {
   "cell_type": "markdown",
   "metadata": {},
   "source": [
    "## Procedural programming\n",
    "\n",
    "There are different programming paradigms to use when we write code for a program. Here are four common paradigms:\n",
    "\n",
    "- Procedural programming: Giving lines of instructions to the computer to carry out in order.\n",
    "- Functional programming: Writing programs based on functions/methods with inputs and outputs.\n",
    "- Object-oriented programming: Writing programs with custom data types that have custom methods to express complex concepts.\n",
    "- Event-driven programming: Writing programs which wait and react to events rather than running code linearly.\n",
    "\n",
    "In this course, we start with procedural programming, then functional programming. In the last Chapter, we introduce objected-oriented programming. \n",
    "\n",
    "Another important part of the code that we write is not computer code but comments and documentation. They are there to help future us and others understand the code so that future improvements can be made. There are mainly two kinds of comments.\n",
    "\n",
    "- In-line comment: Alongside lines of code, to explain the specific line of code.\n",
    "- Code-block comment: before segments of code, to explain what the segment of code does."
   ]
  },
  {
   "cell_type": "code",
   "execution_count": 7,
   "metadata": {},
   "outputs": [
    {
     "name": "stdout",
     "output_type": "stream",
     "text": [
      "Fibonacci: 1 1 2 3 5\n"
     ]
    }
   ],
   "source": [
    "# This is a code-block comment that\n",
    "# explains what the following block\n",
    "# of code does.\n",
    "# The code prints five Fibonacci numbers.\n",
    "a = 1\n",
    "b = 1\n",
    "c = 2\n",
    "d = 3\n",
    "e = 5\n",
    "print('Fibonacci:', a, b, c, d, e)  # Print the numbers in order. This is an in-line comment."
   ]
  },
  {
   "cell_type": "markdown",
   "metadata": {},
   "source": [
    "## Variables\n",
    "\n",
    "What is a variable?\n",
    "\n",
    "It is a name in our program that holds some value. Variables are central to programming; Like variables in mathematics, they hold pieces of information. However, variables in computer programs can contain numbers and other things, e.g., characters, list of things, `True`/`False` values. The type of the value is called data type, e.g., 3 is an integer. We use `type(a_variable)` to access the type of `a_variable`.\n",
    "\n",
    "Here are some common data types in Python.\n",
    "\n",
    "- `int`: Integer, e.g., `1`, `10`, `-100`.\n",
    "- `float`: Floating point number, e.g., `0.3`, `-1000.0`.\n",
    "- `str`: A string of characters, e.g., `'a'`, `'a & b'`, `'word'`, `'A sentence is also a string.'`.\n",
    "- `bool`: Boolean variable, e.g., `True`, `False`.\n",
    "\n",
    "If possible, we could also convert data between different types. Here are the functions to do it in Python.\n",
    "\n",
    "- `int()`\n",
    "- `float()`\n",
    "- `str()`\n",
    "- `bool()`"
   ]
  },
  {
   "cell_type": "code",
   "execution_count": 16,
   "metadata": {},
   "outputs": [
    {
     "name": "stdout",
     "output_type": "stream",
     "text": [
      "<class 'int'>\n",
      "<class 'float'>\n",
      "<class 'str'>\n",
      "<class 'bool'>\n",
      "Original: -1000.0  Type: <class 'float'>\n",
      "Converted: -1000  Type: <class 'int'>\n"
     ]
    }
   ],
   "source": [
    "a = -100\n",
    "print(type(a))\n",
    "\n",
    "b = -1000.0\n",
    "print(type(b))\n",
    "\n",
    "c = 'a & b'\n",
    "print(type(c))\n",
    "\n",
    "d = False\n",
    "print(type(d))\n",
    "\n",
    "print('Original:', b, ' Type:', type(b))  # b is float by declaration.\n",
    "print('Converted:', int(b), ' Type:', type(int(b)))  # int(b) converts b to an integer."
   ]
  },
  {
   "cell_type": "markdown",
   "metadata": {},
   "source": [
    "## Operators\n",
    "\n",
    "Operators are the simplest ways to act on data, mostly on basic data types introduced above. There are two types of operators.\n",
    "\n",
    "- Mathematical operators: Perform mathematical operations, e.g., `+`, `-`. They are commonly known but not the most useful in programming.\n",
    "- Logical operators: Perform logical judgements, e.g., `>`, `<`. They are less known but play a bigger role in programming.\n",
    "\n",
    "Logical operators can be further broken down into relational (larger, smaller) and boolean (true, false) operators. "
   ]
  },
  {
   "cell_type": "markdown",
   "metadata": {},
   "source": [
    "### Mathematical operators\n",
    "\n",
    "Most of us are familiar with mathematical operators:\n",
    "\n",
    "- `+`, `-`, `/`, `*`, \n",
    "- `%` (remainder), `//` (floor division), `**` (exponentiation)\n",
    "\n",
    "A special meaning is attached to the equal sign `=`: Assignment operator. We use `=` to assign value to a variable.\n",
    "\n",
    "- Normal assignment: The format is `a_variable = a_value`, e.g., `a = 3`. \n",
    "- Self-assignment: A Python way of assigning a new value to a variable based on the variable's current value, e.g., `+=`, `*=`.\n",
    "    - `number = number + 1` is equivalent to `number += 1``\n",
    "    - ``number = number / 3` is equivalent to `number /= 3`"
   ]
  },
  {
   "cell_type": "code",
   "execution_count": 33,
   "metadata": {},
   "outputs": [
    {
     "name": "stdout",
     "output_type": "stream",
     "text": [
      "8\n",
      "4\n",
      "8\n",
      "4\n"
     ]
    }
   ],
   "source": [
    "var_1 = 6\n",
    "var_2 = 2\n",
    "\n",
    "# This is one way of printing out\n",
    "# the sum and difference.\n",
    "var_sum = var_1 + var_2\n",
    "var_diff = var_1 - var_2\n",
    "\n",
    "print(var_sum)\n",
    "print(var_diff)\n",
    "\n",
    "# Here's another way.\n",
    "print(var_1 + var_2)\n",
    "print(var_1 - var_2)"
   ]
  },
  {
   "cell_type": "code",
   "execution_count": 34,
   "metadata": {},
   "outputs": [
    {
     "name": "stdout",
     "output_type": "stream",
     "text": [
      "12\n",
      "3.0\n",
      "0\n",
      "3\n",
      "36\n"
     ]
    }
   ],
   "source": [
    "# And we can do other operations too.\n",
    "print(var_1 * var_2)\n",
    "print(var_1 / var_2)\n",
    "print(var_1 % var_2)\n",
    "print(var_1 // var_2)\n",
    "print(var_1 ** var_2)"
   ]
  },
  {
   "cell_type": "code",
   "execution_count": 35,
   "metadata": {},
   "outputs": [
    {
     "name": "stdout",
     "output_type": "stream",
     "text": [
      "60\n"
     ]
    }
   ],
   "source": [
    "var_1 *= 10  # Equivalent to var_1 = var_1 * 10.\n",
    "print(var_1)"
   ]
  },
  {
   "cell_type": "markdown",
   "metadata": {},
   "source": [
    "### Relational operators\n",
    "\n",
    "Unlike mathematical operators, we always receive Boolean values (`True` or `False`) as answers when using logical operators. There are two specific types of logical operators: relational and Boolean.\n",
    "\n",
    "- Relational operators: `<`, `>`, `>=`, `<=`, `==`, `in`.\n",
    "\n",
    "Therefore, relational operators compare the two sides and ask questions like: is the left hand side larger/smaller/equal to the right hand side? Specifically, `==` is asking whether the two things are equal; `in` is asking whether the left hand side is an element in the right hand side (e.g., if `a` $\\in$ `[a, b, c]`). \n",
    "\n",
    "There are some operators that work on strings as well. For example, relational comparison of two strings is done based on the order of their constituent characters, e.g., `'abc > bac'` would produce `False` since the position of `a` is before `b`. `ord()` can be used to check the position of a character.\n",
    "\n",
    "- Strings work with: `+`, `*`, `<`, `>`, `==`, `<=`, `>=`.\n",
    "    - `+` concatenates two strings; `*` duplicates a string by an integer."
   ]
  },
  {
   "cell_type": "code",
   "execution_count": 42,
   "metadata": {},
   "outputs": [
    {
     "name": "stdout",
     "output_type": "stream",
     "text": [
      "False\n",
      "True\n",
      "True\n",
      "True\n",
      "False\n"
     ]
    }
   ],
   "source": [
    "print(5 > 5)\n",
    "print(5 >= 5)\n",
    "print(5 == 5)\n",
    "print(5 <= 5)\n",
    "print(5 < 5)"
   ]
  },
  {
   "cell_type": "code",
   "execution_count": 51,
   "metadata": {},
   "outputs": [
    {
     "name": "stdout",
     "output_type": "stream",
     "text": [
      "True\n",
      "False\n",
      "True\n",
      "False\n",
      "72 119\n"
     ]
    }
   ],
   "source": [
    "a = \"Hello, world\"\n",
    "b = \"Hello, world\"\n",
    "c = \"Hello, \"\n",
    "d = \"world\"\n",
    "\n",
    "print(a == b)\n",
    "print(a == c)\n",
    "print(a == c + d)  # c and d are concatenated to compare with a.\n",
    "print(c > d)  # c is not larger than d by comparing `H` and `w`.\n",
    "print(ord('H'), ord('w')) "
   ]
  },
  {
   "cell_type": "code",
   "execution_count": 52,
   "metadata": {},
   "outputs": [
    {
     "name": "stdout",
     "output_type": "stream",
     "text": [
      "False\n",
      "True\n"
     ]
    }
   ],
   "source": [
    "from datetime import time\n",
    "from datetime import date\n",
    "\n",
    "# Relational operators work on non-integer \n",
    "# objects in Python too as long as the\n",
    "# comparison makes sense.\n",
    "date_1 = date(2017, 1, 15)  # A date object.\n",
    "date_2 = date(2017, 1, 16)\n",
    "time_1 = time(12, 45)  # A time object.\n",
    "time_2 = time(12, 50)\n",
    "\n",
    "print(date_1 == date_2)  # The two dates are different.\n",
    "print(time_1 < time_2)  # time_1 is smaller(earlier) than time_2."
   ]
  },
  {
   "cell_type": "code",
   "execution_count": 53,
   "metadata": {},
   "outputs": [
    {
     "name": "stdout",
     "output_type": "stream",
     "text": [
      "False\n",
      "False\n"
     ]
    }
   ],
   "source": [
    "# We wish to print out whether we can afford an item\n",
    "# given our current balance, the price of the item\n",
    "# and the sales tax rate.\n",
    "\n",
    "balance = 20.0\n",
    "price = 19.0\n",
    "sales_tax_rate = 1.06\n",
    "\n",
    "# There are a few ways we can do this, depending on how much\n",
    "# we want to break it up.\n",
    "#\n",
    "# First, we could just print the result of the entire\n",
    "# calculation and comparison all on one line:\n",
    "\n",
    "print(balance >= price * sales_tax_rate)\n",
    "\n",
    "# We might want to put parentheses around the calculation on\n",
    "# the right to emphasize it should be done first, but in this\n",
    "# case, we generally assume all arithmetic calculations will\n",
    "# be done before any comparisons.\n",
    "\n",
    "# Alternatively, we could break it down into smaller chunks:\n",
    "\n",
    "total_price = price * sales_tax_rate\n",
    "success = balance >= total_price\n",
    "print(success)"
   ]
  },
  {
   "cell_type": "markdown",
   "metadata": {},
   "source": [
    "### Boolean operators\n",
    "\n",
    "Another kind of logical operators is Boolean operators. They act on Boolean values and also return Boolean values.\n",
    "\n",
    "The are `not`, `and`, `or`:\n",
    "\n",
    "- `not`: Flips the Boolean value that follows `not`.\n",
    "- `and`: Only returns `True` if both sides are true.\n",
    "- `or`: Returns `True` when at least one side is true.\n",
    "\n",
    "For example, `not True` would produce `False`; `True and False` would produce `False`; `True or False` would produce `True`. Sometimes we encounter a long chain of Boolean evaluation. Python has an internal order of evaluation: `not` > `and` > `or`."
   ]
  },
  {
   "cell_type": "code",
   "execution_count": 54,
   "metadata": {},
   "outputs": [
    {
     "name": "stdout",
     "output_type": "stream",
     "text": [
      "False False True True True\n"
     ]
    }
   ],
   "source": [
    "bool_1 = not (True or True)\n",
    "bool_2 = True and (False or False)\n",
    "bool_3 = True or (False or False)\n",
    "bool_4 = (True or not True) and (True and True)\n",
    "bool_5 = (True or False) or (False and not True)\n",
    "\n",
    "print(bool_1, bool_2, bool_3, bool_4, bool_5)"
   ]
  },
  {
   "cell_type": "code",
   "execution_count": 58,
   "metadata": {},
   "outputs": [
    {
     "name": "stdout",
     "output_type": "stream",
     "text": [
      "False\n"
     ]
    }
   ],
   "source": [
    "# The following code illustrates\n",
    "# the order of evaluation.\n",
    "a = True\n",
    "b = False\n",
    "c = True\n",
    "d = not a or b and c\n",
    "print(d)"
   ]
  },
  {
   "cell_type": "code",
   "execution_count": 59,
   "metadata": {},
   "outputs": [
    {
     "name": "stdout",
     "output_type": "stream",
     "text": [
      "False\n"
     ]
    }
   ],
   "source": [
    "hungry = True\n",
    "coworkers_going = False\n",
    "brought_lunch = True\n",
    "\n",
    "# Imagine you're deciding whether or not to go out to lunch.\n",
    "# You only want to go if you're hungry. If you're hungry, even\n",
    "# then you only want to go if you didn't bring lunch or if\n",
    "# your coworkers are going. If your coworkers are going, you\n",
    "# still want to go to be social even if you brought your lunch.\n",
    "#\n",
    "# Write some code that will use the three boolean variables\n",
    "# defined above to print whether or not to go out to lunch.\n",
    "# It should print True if hungry is True, and either\n",
    "# coworkers_going is True or brought_lunch is False.\n",
    "# Otherwise, it should print False.\n",
    "\n",
    "#Write your code here!\n",
    "print(hungry and coworkers_going or not brought_lunch)"
   ]
  },
  {
   "cell_type": "markdown",
   "metadata": {},
   "source": [
    "## Practice problems"
   ]
  },
  {
   "cell_type": "code",
   "execution_count": 60,
   "metadata": {},
   "outputs": [
    {
     "name": "stdout",
     "output_type": "stream",
     "text": [
      "ABCDE.ABCDE.ABCDE.???\n",
      "ABCDE.ABCDE.ABCDE.???\n"
     ]
    }
   ],
   "source": [
    "# Write a program to convert the following string\n",
    "# to \"ABCDE.ABCDE.ABCDE.???\" using the \n",
    "# mathematical operators that work on strings.\n",
    "mystery_string = \"ABCDE\"\n",
    "\n",
    "\n",
    "# The period is repeated along with the original string, so\n",
    "# we want to start off by adding a period to the original\n",
    "# string:\n",
    "\n",
    "mystery_string += \".\"\n",
    "\n",
    "# mystery_string is now \"ABCDE.\" That should be repeated three\n",
    "#times:\n",
    "\n",
    "mystery_string *= 3\n",
    "\n",
    "# Finally, we want to add three exclamation points. However,\n",
    "# we can't create a new string longer than one character. So,\n",
    "# we create a one-character string and multiply it by three,\n",
    "# and add it to mystery_string:\n",
    "\n",
    "mystery_string += \"?\" * 3\n",
    "print(mystery_string)\n",
    "\n",
    "# We could also do this all in one line if we wanted to:\n",
    "mystery_string = \"ABCDE\"\n",
    "print(((mystery_string + \".\")) * 3 + (\"?\" * 3))"
   ]
  },
  {
   "cell_type": "code",
   "execution_count": 61,
   "metadata": {},
   "outputs": [
    {
     "name": "stdout",
     "output_type": "stream",
     "text": [
      "Hat: False\n",
      "Gloves: False\n",
      "Umbrella: True\n",
      "Scarf: False\n"
     ]
    }
   ],
   "source": [
    "# Write a program to recommend some accessories based on \n",
    "# whether the whether is hot, cold, rainy, windy, or\n",
    "# snowy.\n",
    "#\n",
    "# Specifically, the program should recommend:\n",
    "#\n",
    "# - a hat if it's cold, or if it's hot but not rainy (cold\n",
    "#   and rainy still means a hat, though).\n",
    "# - gloves if it's cold and either snowy or rainy.\n",
    "# - an umbrella if it's hot, snowy, or rainy.\n",
    "# - a scarf if it's cold and windy or cold and snowy\n",
    "#   unless it's rainy. Rain means no scarf regardless of\n",
    "#   whether it's cold, windy, or snowy.\n",
    "\n",
    "hot = True\n",
    "cold = False\n",
    "rainy = True\n",
    "windy = False\n",
    "snowy = False\n",
    "\n",
    "# Write some code below that will print four lines, one for\n",
    "# each of the four types of clothing. The lines should look\n",
    "# like this:\n",
    "#\n",
    "# Hat: True\n",
    "# Gloves: True\n",
    "# Umbrella: False\n",
    "# Scarf: False\n",
    "#\n",
    "# The values (True and False) will differ based on the\n",
    "# values assigned to hot, cold, windy, snowy, and rainy\n",
    "# at the start of the program.\n",
    "\n",
    "print('Hat:', cold or (hot and not rainy))\n",
    "print('Gloves:', cold and (snowy or rainy))\n",
    "print('Umbrella:', hot or snowy or rainy)\n",
    "print('Scarf:', ((cold and windy) or (cold and snowy)) and not rainy)"
   ]
  },
  {
   "cell_type": "code",
   "execution_count": 62,
   "metadata": {},
   "outputs": [
    {
     "name": "stdout",
     "output_type": "stream",
     "text": [
      "True\n"
     ]
    }
   ],
   "source": [
    "import datetime\n",
    "\n",
    "start_date = datetime.date(2017, 2, 16)\n",
    "end_date = datetime.date(2017, 2, 16)\n",
    "start_time = datetime.time(4, 30, 0)\n",
    "end_time = datetime.time(4, 30, 17)\n",
    "\n",
    "\n",
    "# Above, there are four variables: start_date, end_date,\n",
    "# start_time, and end_time. start_date and start_time together\n",
    "# represent a certain time on a certain date, and end_date and\n",
    "# end_time represent a different time on a different date.\n",
    "#\n",
    "# Add some code below that will print True if the end time\n",
    "# occurs after the start time. Print False if the end time\n",
    "# occurs before the start time. For example, 11:15:00 on\n",
    "# 01/01/2017 would be before 09:00:00 on 01/05/2017, which\n",
    "# would be before 11:25:00 on 01/05/2017.\n",
    "#\n",
    "# Note that you may use dot notation to access the individual\n",
    "# parts of the dates and times. You can access the hour,\n",
    "# minute, and seconds from start_time with start_time.hour,\n",
    "# start_time.minute, and start_time.second. You can access\n",
    "# the year, month, and day of start_date with\n",
    "# start_date.year, start_date.month, and start_date.day. You\n",
    "# can use the same syntax to access the parts of end_date.\n",
    "# Note that Python uses 24-hour time.\n",
    "#\n",
    "# Hint: You may use conditionals to solve this if you want,\n",
    "# but you don't need to.\n",
    "#\n",
    "# Hint 2: You can use relational operators with both dates\n",
    "# and times. start_time < end_time is True if start_time is\n",
    "# before end_time. start_date >= end_date is True if\n",
    "# start_date is later than end_date, or the same date. With\n",
    "# this, you can avoid using dot notation altogether if\n",
    "# you'd like.\n",
    "\n",
    "\n",
    "print(start_date < end_date or (start_date == end_date and start_time < end_time))"
   ]
  },
  {
   "cell_type": "code",
   "execution_count": 63,
   "metadata": {},
   "outputs": [
    {
     "name": "stdout",
     "output_type": "stream",
     "text": [
      "!!!golakersgolakersgolakers!!!golakersgolakersgolakers!!!golakersgolakersgolakers!!!\n"
     ]
    }
   ],
   "source": [
    "message = \"golakers\"\n",
    "punct = \"!\"\n",
    "num = 3\n",
    "\n",
    "# Using the values of message, punct, and num, print\n",
    "# a string that looks like the one below if message = \"lol\",\n",
    "# punct = \"!\", and num = 3:\n",
    "#\n",
    "# !!!lollollol!!!lollollol!!!lollollol!!!\n",
    "#\n",
    "# Specifically, it should start by printing punct num\n",
    "# times, then print message num times, repeat that entire\n",
    "# process num times, and then print punct num times\n",
    "# again.\n",
    "#\n",
    "# Here are a couple other examples:\n",
    "#\n",
    "# message = \"bbl\", punct = \":\", num = 1 -> :bbl:\n",
    "# message = \"bbq\", punct = \"?\", num = 2 -> \"??bbqbbq??bbqbbq??\n",
    "# message = \"brb\", punct = \".\", num = 4 -> ....brbbrbbrbbrb....brbbrbbrbbrb....brbbrbbrbbrb....brbbrbbrbbrb....\n",
    "\n",
    "\n",
    "message = punct*num + (message*num + punct*num)*num\n",
    "print(message)"
   ]
  },
  {
   "cell_type": "markdown",
   "metadata": {},
   "source": []
  }
 ],
 "metadata": {
  "kernelspec": {
   "display_name": "Python 3",
   "language": "python",
   "name": "python3"
  },
  "language_info": {
   "codemirror_mode": {
    "name": "ipython",
    "version": 3
   },
   "file_extension": ".py",
   "mimetype": "text/x-python",
   "name": "python",
   "nbconvert_exporter": "python",
   "pygments_lexer": "ipython3",
   "version": "3.8.6"
  },
  "toc": {
   "base_numbering": 1,
   "nav_menu": {},
   "number_sections": true,
   "sideBar": true,
   "skip_h1_title": false,
   "title_cell": "Table of Contents",
   "title_sidebar": "Contents",
   "toc_cell": false,
   "toc_position": {
    "height": "calc(100% - 180px)",
    "left": "10px",
    "top": "150px",
    "width": "221.108px"
   },
   "toc_section_display": true,
   "toc_window_display": true
  },
  "toc-autonumbering": true,
  "toc-showcode": false
 },
 "nbformat": 4,
 "nbformat_minor": 4
}
