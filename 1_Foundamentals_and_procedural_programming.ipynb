{
 "cells": [
  {
   "cell_type": "markdown",
   "metadata": {},
   "source": [
    "# Fundamentals and Procedural Programming\n",
    "\n",
    "## Computing\n",
    "\n",
    "### Computing vs programming\n",
    "\n",
    "- Computing is loosely anything we do that involves computers.\n",
    "- Programming is the act of giving a set of instructions for computers to act on.\n",
    "- Computing is about what we want to do with computers using the programming language that we learnt.\n",
    "\n",
    "### Programming vocabulary\n",
    "\n",
    "Program and code\n",
    "\n",
    "- A line of code: generally the smallest unit of programming that instructs computer to do something.\n",
    "- Program: a set of lines of code that usually serve one overall function. \n",
    "\n",
    "Input and output\n",
    "\n",
    "- Input: what a program takes in to work on.\n",
    "- Output: what a program produces in return.\n",
    "\n",
    "Compiling and executing\n",
    "\n",
    "- Compiling: compilers look for syntax errors in our code, like proofreading an article.\n",
    "- Executing: actually running the program written. \n",
    "\n",
    "Programming languages\n",
    "\n",
    "- To write computer programs, we need to learn programming languages, like learning to write.\n",
    "- Languages differ in many ways, it's important to keep in mind the language spectrum.\n",
    "    - Static and compiled vs dynamic and interpreted. \n",
    "    - Execute one line at a time rather than script-based\n",
    "\n",
    "Console vs graphical user interface (GUI)\n",
    "\n",
    "- We interact with computer programs through interfaces, like Terminal and Words.\n",
    "- To focus our learning on computing, we start with text-based input and output.\n",
    "    - Console: command-line interface that is solely based on text.\n",
    "    - GUI: much more complex and commonly used interface of computer programs.\n",
    "\n",
    "### Introduction to Python\n",
    "\n",
    "Created in 1990s, became popular in 2000s, one of the most popular today. Python is a high-level language: \n",
    "\n",
    "- abstracts aways from core processor and memory\n",
    "- more portable across different operating systems\n",
    "\n",
    "Python is also an interpreted language:\n",
    "\n",
    "- run code line-by-line without trying to compile it first\n",
    "\n",
    "### Programming\n",
    "\n",
    "Programming flow: Writing code --> Running code --> Evaluating results --> Repeat\n",
    "\n",
    "- Chaining together instructions through lines of code\n",
    "- `print()` function\n",
    "- Work in small chunks\n",
    "\n",
    "## First Python program: Hello, world. \n",
    "\n",
    "- `print` is in lower case\n",
    "- the message to be printed is enclosed by parenthesis\n",
    "- the actual message to be printed is in quotation marks"
   ]
  },
  {
   "cell_type": "code",
   "execution_count": 1,
   "metadata": {},
   "outputs": [
    {
     "name": "stdout",
     "output_type": "stream",
     "text": [
      "Hello world!\n"
     ]
    }
   ],
   "source": [
    "print('Hello world!')"
   ]
  },
  {
   "cell_type": "markdown",
   "metadata": {},
   "source": [
    "### Compiling vs executing\n",
    "\n",
    "Using the analogy of building a table with parts and instructions\n",
    "\n",
    "Compiling\n",
    "\n",
    "- Practically, this process looks over our code to see if everything makes sense. \n",
    "\n",
    "- Technically, it also translates our code into lower-level machine-understandable code. \n",
    "\n",
    "- Compiling before running is not required for every language.\n",
    "    - Static or compiled: C, Java\n",
    "    - Dynamic or interpreted: Python, JavaScript\n",
    "\n",
    "Executing\n",
    "\n",
    "- Actually running the code and letting it do when we want it to do.\n",
    "\n",
    "- Three scenarios can happen:\n",
    "    - Run into errors\n",
    "    - Did not do what we intend it to do\n",
    "    - Run as intended\n",
    "\n",
    "### Evaluating results\n",
    "\n",
    "- Correct results: we're happy. Move on.\n",
    "\n",
    "- Errors: locate and correct them.\n",
    "    - Error example: for i within range(1, 9): print(i)\n",
    "    - Demonstrate features of encountering error in Python\n",
    "\n",
    "- Incorrect results: locate and revise. \n",
    "    - Code example: print 1 to 9 instead of 1 to 10. "
   ]
  },
  {
   "cell_type": "markdown",
   "metadata": {},
   "source": [
    "## Debugging\n",
    "\n",
    "What is debugging?\n",
    "\n",
    "Debugging is trying to find why your code doesn't behave the way you want it to. It is also like doing research on our code; the aim is to gather as much information as necessary to debug.\n",
    "\n",
    "![debugging](debugging.gif 'Debugging')  \n",
    "\n",
    "![debugging](debugging2.png 'Debugging 2')"
   ]
  },
  {
   "cell_type": "markdown",
   "metadata": {},
   "source": [
    "### Basic debugging\n",
    "\n",
    "- Print debugging/tracing\n",
    "\t- Print out the status of the code throughout the run process\n",
    "- Scope debugging\n",
    "\t- Debug on the basis of small sections of code\n",
    "- Rubber duck debugging\n",
    "\t- Explaining in detail the logic, goal, and operations of the code to a third person/object"
   ]
  },
  {
   "cell_type": "markdown",
   "metadata": {},
   "source": [
    "#### Scope debugging example"
   ]
  },
  {
   "cell_type": "code",
   "execution_count": 1,
   "metadata": {},
   "outputs": [
    {
     "name": "stdout",
     "output_type": "stream",
     "text": [
      "6.833333333333333\n"
     ]
    }
   ],
   "source": [
    "grades = [100, 95, 93, 91, 90, 89, 87, 87, 85, 85, 84, 82]\n",
    "sum = 0\n",
    "count = 0\n",
    "for grade in grades:\n",
    "    count = count + 1\n",
    "    sum = grade\n",
    "print(sum / count)"
   ]
  },
  {
   "cell_type": "code",
   "execution_count": 2,
   "metadata": {},
   "outputs": [
    {
     "name": "stdout",
     "output_type": "stream",
     "text": [
      "Calculating...\n",
      "Adding grade 1...\n",
      "Adding grade 2...\n",
      "Adding grade 3...\n",
      "Adding grade 4...\n",
      "Adding grade 5...\n",
      "Adding grade 6...\n",
      "Adding grade 7...\n",
      "Adding grade 8...\n",
      "Adding grade 9...\n",
      "Adding grade 10...\n",
      "Adding grade 11...\n",
      "Adding grade 12...\n",
      "6.833333333333333\n"
     ]
    }
   ],
   "source": [
    "print(\"Calculating...\")\n",
    "grades = [100, 95, 93, 91, 90, 89, 87, 87, 85, 85, 84, 82]\n",
    "sum = 0\n",
    "count = 0\n",
    "for grade in grades:\n",
    "    count = count + 1\n",
    "    print(\"Adding grade \", count, \"...\", sep=\"\")\n",
    "    sum = grade\n",
    "print(sum / count)"
   ]
  },
  {
   "cell_type": "code",
   "execution_count": 3,
   "metadata": {},
   "outputs": [
    {
     "name": "stdout",
     "output_type": "stream",
     "text": [
      "Calculating...\n",
      "Current sum: 100\n",
      "Current sum: 95\n",
      "Current sum: 93\n",
      "Current sum: 91\n",
      "Current sum: 90\n",
      "Current sum: 89\n",
      "Current sum: 87\n",
      "Current sum: 87\n",
      "Current sum: 85\n",
      "Current sum: 85\n",
      "Current sum: 84\n",
      "Current sum: 82\n",
      "6.833333333333333\n"
     ]
    }
   ],
   "source": [
    "print(\"Calculating...\")\n",
    "grades = [100, 95, 93, 91, 90, 89, 87, 87, 85, 85, 84, 82]\n",
    "sum = 0\n",
    "count = 0\n",
    "for grade in grades:\n",
    "    count = count + 1\n",
    "    sum = grade\n",
    "    print(\"Current sum:\", sum)\n",
    "print(sum / count)"
   ]
  },
  {
   "cell_type": "code",
   "execution_count": 4,
   "metadata": {},
   "outputs": [
    {
     "name": "stdout",
     "output_type": "stream",
     "text": [
      "Calculating...\n",
      "Current sum: 100\n",
      "Current sum: 195\n",
      "Current sum: 288\n",
      "Current sum: 379\n",
      "Current sum: 469\n",
      "Current sum: 558\n",
      "Current sum: 645\n",
      "Current sum: 732\n",
      "Current sum: 817\n",
      "Current sum: 902\n",
      "Current sum: 986\n",
      "Current sum: 1068\n",
      "89.0\n"
     ]
    }
   ],
   "source": [
    "print(\"Calculating...\")\n",
    "grades = [100, 95, 93, 91, 90, 89, 87, 87, 85, 85, 84, 82]\n",
    "sum = 0\n",
    "count = 0\n",
    "for grade in grades:\n",
    "    count = count + 1\n",
    "    sum = sum + grade\n",
    "    print(\"Current sum:\", sum)\n",
    "print(sum / count)"
   ]
  },
  {
   "cell_type": "markdown",
   "metadata": {},
   "source": [
    "### Advanced debugging\n",
    "\n",
    "- Step-by-step execution\n",
    "- Variable visualization: real-time monitoring of variable values\n",
    "- In-line debugging: automatic checking of errors while writing the code\n",
    "\n",
    "Additional resource: \n",
    "- The [Testing and Debugging](https://ocw.mit.edu/courses/electrical-engineering-and-computer-science/6-00-introduction-to-computer-science-and-programming-fall-2008/video-lectures/lecture-11/) lecture from MIT OpenCourseware's Introduction to Computer Science and Programming."
   ]
  },
  {
   "cell_type": "markdown",
   "metadata": {},
   "source": [
    "## Logical operators\n",
    "\n",
    "Operators: Simplest ways to act on data, mostly on basic data types. There are two main types of operators.\n",
    "- Mathematical operators: perform mathematical operations, commonly known but not very useful in programming\n",
    "- Logical operators: perform logical judgements, less known but play bigger role in programming\n",
    "\n",
    "Most of us are familiar with mathematical operators:\n",
    "- `+`, `-`, `/`, `*`, \n",
    "- `%` (remainder), `//` (floor), `**` (exponentiation)\n",
    "\n",
    "Inside logical operators, there are two specific types:\n",
    "\n",
    "- Relational operators: `<`, `>`, `>=`, `<=`, `==`, `in` (set operator)\n",
    "\n",
    "- Boolean operators: `not`, `and`, `or`\n",
    "\n",
    "    - Order of evaluation: `not` > `and` > `or`\n",
    "\n",
    "Truth table: A table that maps out the Boolean values of a statement in Boolean logic, based on the value of the individual Boolean variables"
   ]
  },
  {
   "cell_type": "markdown",
   "metadata": {},
   "source": [
    "### Mathematical operators"
   ]
  },
  {
   "cell_type": "code",
   "execution_count": 11,
   "metadata": {},
   "outputs": [
    {
     "name": "stdout",
     "output_type": "stream",
     "text": [
      "8\n",
      "4\n",
      "12\n",
      "3.0\n",
      "0\n",
      "3\n",
      "36\n"
     ]
    }
   ],
   "source": [
    "mystery_value_1 = 6\n",
    "mystery_value_2 = 2\n",
    "\n",
    "#There are two ways we can do this: we can perform the\n",
    "#calculation and store it, then print it; or, we can print\n",
    "#the calculation directly.\n",
    "#\n",
    "#Here's what the first way looks like:\n",
    "\n",
    "mystery_sum = mystery_value_1 + mystery_value_2\n",
    "mystery_diff = mystery_value_1 - mystery_value_2\n",
    "\n",
    "print(mystery_sum)\n",
    "print(mystery_diff)\n",
    "\n",
    "#Here's what the second way looks like:\n",
    "\n",
    "print(mystery_value_1 * mystery_value_2)\n",
    "print(mystery_value_1 / mystery_value_2)\n",
    "print(mystery_value_1 % mystery_value_2)\n",
    "print(mystery_value_1 // mystery_value_2)\n",
    "print(mystery_value_1 ** mystery_value_2)"
   ]
  },
  {
   "cell_type": "code",
   "execution_count": 10,
   "metadata": {},
   "outputs": [
    {
     "name": "stdout",
     "output_type": "stream",
     "text": [
      "False\n",
      "False\n"
     ]
    }
   ],
   "source": [
    "balance = 20.0\n",
    "price = 19.0\n",
    "sales_tax_rate = 1.06\n",
    "\n",
    "#There are a few ways we can do this, depending on how much\n",
    "#we want to break it up.\n",
    "#\n",
    "#First, we could just print the result of the entire\n",
    "#calculation and comparison all on one line:\n",
    "\n",
    "print(balance >= price * sales_tax_rate)\n",
    "\n",
    "#We might want to put parentheses around the calculation on\n",
    "#the right to emphasize it should be done first, but in this\n",
    "#case, we generally assume all arithmetic calculations will\n",
    "#be done before any comparisons.\n",
    "\n",
    "#Alternatively, we could break it down into smaller chunks:\n",
    "\n",
    "total_price = price * sales_tax_rate\n",
    "success = balance >= total_price\n",
    "print(success)"
   ]
  },
  {
   "cell_type": "markdown",
   "metadata": {},
   "source": [
    "### Relational operators\n",
    "\n",
    "Assignment operator: `=`\n",
    "\n",
    "- Assign value to a variable\n",
    "\n",
    "- Self-assignment, e.g., `+=`, `*=`: assign a new value based on the variable's current value\n",
    "\n",
    "- Incrementing: increment the value of a variable, typically by one\n",
    "\n",
    "    - `num = num + 1` is equivalent to `num += 1`\n",
    "    - `num = num / 3` is equivalent to `num /= 3`\n",
    "\n",
    "Operators on strings:\n",
    "\n",
    "- Strings work with: `+`, `*`, `<`, `>`, `==`, `<=`, `>=`.\n",
    "- Relational comparison is done on the order of their appearance."
   ]
  },
  {
   "cell_type": "code",
   "execution_count": 1,
   "metadata": {},
   "outputs": [
    {
     "name": "stdout",
     "output_type": "stream",
     "text": [
      "False\n",
      "True\n",
      "True\n",
      "True\n",
      "False\n"
     ]
    }
   ],
   "source": [
    "print(5 > 5)\n",
    "print(5 >= 5)\n",
    "print(5 == 5)\n",
    "print(5 <= 5)\n",
    "print(5 < 5)"
   ]
  },
  {
   "cell_type": "code",
   "execution_count": 3,
   "metadata": {},
   "outputs": [
    {
     "name": "stdout",
     "output_type": "stream",
     "text": [
      "True\n",
      "True\n",
      "True\n"
     ]
    }
   ],
   "source": [
    "from datetime import time\n",
    "from datetime import date\n",
    "mystery_string_1 = \"Hello, world\"\n",
    "mystery_string_2 = \"Hello, world\"\n",
    "mystery_date_1 = date(2017, 1, 15)\n",
    "mystery_date_2 = date(2017, 1, 15)\n",
    "mystery_time_1 = time(12, 45)\n",
    "mystery_time_2 = time(12, 45)\n",
    "\n",
    "print(mystery_string_1 == mystery_string_2)\n",
    "print(mystery_date_1 == mystery_date_2)\n",
    "print(mystery_time_1 == mystery_time_2)"
   ]
  },
  {
   "cell_type": "code",
   "execution_count": 4,
   "metadata": {},
   "outputs": [
    {
     "name": "stdout",
     "output_type": "stream",
     "text": [
      "True\n",
      "False\n",
      "True\n"
     ]
    }
   ],
   "source": [
    "a = \"Hello, world\"\n",
    "b = \"Hello, world\"\n",
    "c = \"Hello, \"\n",
    "d = \"world\"\n",
    "print(a == b)\n",
    "print(a == c)\n",
    "print(a == c + d)"
   ]
  },
  {
   "cell_type": "markdown",
   "metadata": {},
   "source": [
    "### Boolean operators"
   ]
  },
  {
   "cell_type": "code",
   "execution_count": 6,
   "metadata": {},
   "outputs": [
    {
     "name": "stdout",
     "output_type": "stream",
     "text": [
      "False False True True True\n"
     ]
    }
   ],
   "source": [
    "bool_1 = not (True or True)\n",
    "bool_2 = True and (False or False)\n",
    "bool_3 = True or (False or False)\n",
    "bool_4 = (True or not True) and (True and True)\n",
    "bool_5 = (True or False) or (False and not True)\n",
    "\n",
    "print(bool_1, bool_2, bool_3, bool_4, bool_5)"
   ]
  },
  {
   "cell_type": "code",
   "execution_count": 7,
   "metadata": {},
   "outputs": [
    {
     "name": "stdout",
     "output_type": "stream",
     "text": [
      "False\n"
     ]
    }
   ],
   "source": [
    "hungry = True\n",
    "coworkers_going = False\n",
    "brought_lunch = True\n",
    "\n",
    "#You may modify the lines of code above, but don't move them!\n",
    "#When you Submit your code, we'll change these lines to\n",
    "#assign different values to the variables.\n",
    "\n",
    "#Imagine you're deciding whether or not to go out to lunch.\n",
    "#You only want to go if you're hungry. If you're hungry, even\n",
    "#then you only want to go if you didn't bring lunch or if\n",
    "#your coworkers are going. If your coworkers are going, you\n",
    "#still want to go to be social even if you brought your lunch.\n",
    "#\n",
    "#Write some code that will use the three boolean variables\n",
    "#defined above to print whether or not to go out to lunch.\n",
    "#It should print True if hungry is True, and either\n",
    "#coworkers_going is True or brought_lunch is False.\n",
    "#Otherwise, it should print False.\n",
    "\n",
    "\n",
    "#Write your code here!\n",
    "print((hungry and coworkers_going or not brought_lunch))"
   ]
  },
  {
   "cell_type": "code",
   "execution_count": 8,
   "metadata": {},
   "outputs": [
    {
     "name": "stdout",
     "output_type": "stream",
     "text": [
      "False\n"
     ]
    }
   ],
   "source": [
    "# Order of evaluation\n",
    "a = True\n",
    "b = False\n",
    "c = True\n",
    "d = not a or b and c\n",
    "print(d)"
   ]
  },
  {
   "cell_type": "code",
   "execution_count": 13,
   "metadata": {},
   "outputs": [
    {
     "name": "stdout",
     "output_type": "stream",
     "text": [
      "ABCDE.ABCDE.ABCDE.???\n",
      "ABCDE.ABCDE.ABCDE.???\n"
     ]
    }
   ],
   "source": [
    "mystery_string = \"ABCDE\"\n",
    "\n",
    "#If the goal is to convert the string above into the string\n",
    "#\"ABCDE.ABCDE.ABCDE.???\", we need to note in what order the\n",
    "#operations should be performed.\n",
    "\n",
    "#The period is repeated along with the original string, so\n",
    "#we want to start off by adding a period to the original\n",
    "#string:\n",
    "\n",
    "mystery_string += \".\"\n",
    "\n",
    "#mystery_string is now \"ABCDE.\" That should be repeated three\n",
    "#times:\n",
    "\n",
    "mystery_string *= 3\n",
    "\n",
    "#Finally, we want to add three exclamation points. However,\n",
    "#we can't create a new string longer than one character. So,\n",
    "#we create a one-character string and multiply it by three,\n",
    "#and add it to mystery_string:\n",
    "\n",
    "mystery_string += \"?\" * 3\n",
    "print(mystery_string)\n",
    "\n",
    "#We could also do this all in one line if we wanted to:\n",
    "mystery_string = \"ABCDE\"\n",
    "print(((mystery_string + \".\")) * 3 + (\"?\" * 3))"
   ]
  },
  {
   "cell_type": "markdown",
   "metadata": {},
   "source": [
    "## Practice problems"
   ]
  },
  {
   "cell_type": "code",
   "execution_count": 14,
   "metadata": {},
   "outputs": [
    {
     "name": "stdout",
     "output_type": "stream",
     "text": [
      "Hat: False\n",
      "Gloves: False\n",
      "Umbrella: True\n",
      "Scarf: False\n"
     ]
    }
   ],
   "source": [
    "hot = True\n",
    "cold = False\n",
    "rainy = True\n",
    "windy = False\n",
    "snowy = False\n",
    "\n",
    "#You may modify the lines of code above, but don't move them!\n",
    "#When you Submit your code, we'll change these lines to\n",
    "#assign different values to the variables.\n",
    "\n",
    "#Earlier, you wrote a program that made clothing\n",
    "#recommendations based on the weather. Your program could\n",
    "#specifically recommend a jacket, boots, flip-flips, or a\n",
    "#tshirt based on whether it was hot, cold, rainy, windy, or\n",
    "#snowy.\n",
    "#\n",
    "#Let's add some accessories to that program: a hat, gloves,\n",
    "#umbrella, and a scarf.\n",
    "#\n",
    "#Specifically, the program should recommend:\n",
    "#\n",
    "# - a hat if it's cold, or if it's hot but not rainy (cold\n",
    "#   and rainy still means a hat, though).\n",
    "# - gloves if it's cold and either snowy or rainy.\n",
    "# - an umbrella if it's hot, snowy, or rainy.\n",
    "# - a scarf if it's cold and windy or cold and snowy\n",
    "#   unless it's rainy. Rain means no scarf regardless of\n",
    "#   whether it's cold, windy, or snowy.\n",
    "#\n",
    "#Write some code below that will print four lines, one for\n",
    "#each of the four types of clothing. The lines should look\n",
    "#like this:\n",
    "#\n",
    "#Hat: True\n",
    "#Gloves: True\n",
    "#Umbrella: False\n",
    "#Scarf: False\n",
    "#\n",
    "#The values (True and False) will differ based on the\n",
    "#values assigned to hot, cold, windy, snowy, and rainy\n",
    "#at the start of the program.\n",
    "\n",
    "\n",
    "#Add your code here!\n",
    "print('Hat:', cold or (hot and not rainy))\n",
    "print('Gloves:', cold and (snowy or rainy))\n",
    "print('Umbrella:', hot or snowy or rainy)\n",
    "print('Scarf:', ((cold and windy) or (cold and snowy)) and not rainy)"
   ]
  },
  {
   "cell_type": "code",
   "execution_count": 15,
   "metadata": {},
   "outputs": [
    {
     "name": "stdout",
     "output_type": "stream",
     "text": [
      "True\n"
     ]
    }
   ],
   "source": [
    "import datetime\n",
    "start_date = datetime.date(2017, 2, 16)\n",
    "end_date = datetime.date(2017, 2, 16)\n",
    "start_time = datetime.time(4, 30, 0)\n",
    "end_time = datetime.time(4, 30, 17)\n",
    "\n",
    "#You may modify the lines of code above, but don't move them!\n",
    "#When you Submit your code, we'll change these lines to\n",
    "#assign different values to the variables.\n",
    "\n",
    "#Above, there are four variables: start_date, end_date,\n",
    "#start_time, and end_time. start_date and start_time together\n",
    "#represent a certain time on a certain date, and end_date and\n",
    "#end_time represent a different time on a different date.\n",
    "#\n",
    "#Add some code below that will print True if the end time\n",
    "#occurs after the start time. Print False if the end time\n",
    "#occurs before the start time. For example, 11:15:00 on\n",
    "#01/01/2017 would be before 09:00:00 on 01/05/2017, which\n",
    "#would be before 11:25:00 on 01/05/2017.\n",
    "#\n",
    "#Note that you may use dot notation to access the individual\n",
    "#parts of the dates and times. You can access the hour,\n",
    "#minute, and seconds from start_time with start_time.hour,\n",
    "#start_time.minute, and start_time.second. You can access\n",
    "#the year, month, and day of start_date with\n",
    "#start_date.year, start_date.month, and start_date.day. You\n",
    "#can use the same syntax to access the parts of end_date.\n",
    "#Note that Python uses 24-hour time.\n",
    "#\n",
    "#Hint: You may use conditionals to solve this if you want,\n",
    "#but you don't need to.\n",
    "#\n",
    "#Hint 2: You can use relational operators with both dates\n",
    "#and times. start_time < end_time is True if start_time is\n",
    "#before end_time. start_date >= end_date is True if\n",
    "#start_date is later than end_date, or the same date. With\n",
    "#this, you can avoid using dot notation altogether if\n",
    "#you'd like.\n",
    "\n",
    "\n",
    "#Add your code here!\n",
    "print(start_date < end_date or \n",
    "  (start_date == end_date and start_time < end_time))"
   ]
  },
  {
   "cell_type": "code",
   "execution_count": 17,
   "metadata": {},
   "outputs": [
    {
     "name": "stdout",
     "output_type": "stream",
     "text": [
      "!!!golakersgolakersgolakers!!!golakersgolakersgolakers!!!golakersgolakersgolakers!!!\n"
     ]
    }
   ],
   "source": [
    "message = \"golakers\"\n",
    "punct = \"!\"\n",
    "num = 3\n",
    "\n",
    "#You may modify the lines of code above, but don't move them!\n",
    "#When you Submit your code, we'll change these lines to\n",
    "#assign different values to the variables.\n",
    "\n",
    "#Using the values of message, punct, and num, print\n",
    "#a string that looks like the one below if message = \"lol\",\n",
    "#punct = \"!\", and num = 3:\n",
    "#\n",
    "# !!!lollollol!!!lollollol!!!lollollol!!!\n",
    "#\n",
    "#Specifically, it should start by printing punct num\n",
    "#times, then print message num times, repeat that entire\n",
    "#process num times, and then print punct num times\n",
    "#again.\n",
    "#\n",
    "#Here are a couple other examples:\n",
    "#\n",
    "# message = \"bbl\", punct = \":\", num = 1 -> :bbl:\n",
    "# message = \"bbq\", punct = \"?\", num = 2 -> \"??bbqbbq??bbqbbq??\n",
    "# message = \"brb\", punct = \".\", num = 4 -> ....brbbrbbrbbrb....brbbrbbrbbrb....brbbrbbrbbrb....brbbrbbrbbrb....\n",
    "\n",
    "\n",
    "#Add your code below!\n",
    "message = punct*num + (message*num + punct*num)*num\n",
    "print(message)"
   ]
  }
 ],
 "metadata": {
  "kernelspec": {
   "display_name": "Python 3",
   "language": "python",
   "name": "python3"
  },
  "language_info": {
   "codemirror_mode": {
    "name": "ipython",
    "version": 3
   },
   "file_extension": ".py",
   "mimetype": "text/x-python",
   "name": "python",
   "nbconvert_exporter": "python",
   "pygments_lexer": "ipython3",
   "version": "3.8.6"
  },
  "toc": {
   "base_numbering": 1,
   "nav_menu": {},
   "number_sections": true,
   "sideBar": true,
   "skip_h1_title": false,
   "title_cell": "Table of Contents",
   "title_sidebar": "Contents",
   "toc_cell": false,
   "toc_position": {
    "height": "calc(100% - 180px)",
    "left": "10px",
    "top": "150px",
    "width": "221.108px"
   },
   "toc_section_display": true,
   "toc_window_display": true
  }
 },
 "nbformat": 4,
 "nbformat_minor": 4
}
