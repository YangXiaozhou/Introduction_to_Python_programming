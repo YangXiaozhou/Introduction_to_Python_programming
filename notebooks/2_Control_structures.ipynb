{
 "cells": [
  {
   "cell_type": "markdown",
   "metadata": {},
   "source": [
    "# Control Structures\n",
    "\n",
    "- Conditionals: Statement that control which segment of code is executed.\n",
    "- Loops: Structure that executes a segment of code multiple times.\n",
    "- Exception handling: Structure that anticipates and catches errors to avoid crashing and execute certain code."
   ]
  },
  {
   "cell_type": "markdown",
   "metadata": {},
   "source": [
    "# Conditionals\n",
    "\n",
    "What are considered *False* in Python:\n",
    "\n",
    "- Empty strings: `\"\"`, `''`\n",
    "- `0`\n",
    "- Empty list: `[]`, `()`\n",
    "- Singleton: `None`"
   ]
  },
  {
   "cell_type": "code",
   "execution_count": 2,
   "metadata": {},
   "outputs": [
    {
     "name": "stdout",
     "output_type": "stream",
     "text": [
      "Transaction\n",
      "PIN\n",
      "Password\n"
     ]
    }
   ],
   "source": [
    "def interpretCashier(cashier_input):\n",
    "    is_pin = True\n",
    "    no_of_dots = 0\n",
    "    for char in cashier_input:\n",
    "        if str(0) > char or str(9) < char:\n",
    "            is_pin = False\n",
    "            if char != '.':\n",
    "                return 'Password'\n",
    "            else:\n",
    "                no_of_dots += 1\n",
    "                if no_of_dots >= 2:\n",
    "                    return 'Password'\n",
    "    if is_pin:\n",
    "        return 'PIN'\n",
    "    elif no_of_dots == 1:\n",
    "        return 'Transaction'\n",
    "    else:\n",
    "        return 'Password'\n",
    "    \n",
    "print(interpretCashier(\"24.59\"))\n",
    "print(interpretCashier(\"123456\"))\n",
    "print(interpretCashier(\"my$up3rs3cur3p4$$w0rd\"))"
   ]
  },
  {
   "cell_type": "code",
   "execution_count": 4,
   "metadata": {},
   "outputs": [
    {
     "name": "stdout",
     "output_type": "stream",
     "text": [
      "576 ns ± 39.2 ns per loop (mean ± std. dev. of 7 runs, 1000000 loops each)\n"
     ]
    }
   ],
   "source": [
    "%timeit interpretCashier(\"my$up3rs3cur3p4$$w0rd\")"
   ]
  },
  {
   "cell_type": "code",
   "execution_count": 11,
   "metadata": {},
   "outputs": [
    {
     "name": "stdout",
     "output_type": "stream",
     "text": [
      "ZOMGHCS\n",
      "ello\n",
      ",1301!!\n",
      "2\n"
     ]
    }
   ],
   "source": [
    "def sortString(input_str):\n",
    "    if type(input_str) != str:\n",
    "        return 'Not a string!'\n",
    "\n",
    "    upp_letters = \"\"\n",
    "    low_letters = \"\"\n",
    "    punc_num_marks = \"\"\n",
    "    no_of_spaces = 0\n",
    "    for char in input_str:\n",
    "        char_position = ord(char)\n",
    "        if 65 <= char_position <= 90:\n",
    "            upp_letters += char\n",
    "        elif 97 <= char_position <= 122:\n",
    "            low_letters += char\n",
    "        elif 33 <= char_position <= 64:\n",
    "            punc_num_marks += char \n",
    "        elif char_position == 32:\n",
    "            no_of_spaces += 1\n",
    "\n",
    "    return upp_letters + '\\n' + low_letters + '\\n' + punc_num_marks + '\\n' + str(no_of_spaces)\n",
    "\n",
    "print(sortString(\"ZOMG Hello, CS1301!!\"))"
   ]
  },
  {
   "cell_type": "code",
   "execution_count": 6,
   "metadata": {},
   "outputs": [
    {
     "name": "stdout",
     "output_type": "stream",
     "text": [
      "6.38 µs ± 3.02 µs per loop (mean ± std. dev. of 7 runs, 10000 loops each)\n"
     ]
    }
   ],
   "source": [
    "%timeit sortString(\"ZOMG Hello, CS1301!!\")"
   ]
  },
  {
   "cell_type": "code",
   "execution_count": 7,
   "metadata": {},
   "outputs": [
    {
     "name": "stdout",
     "output_type": "stream",
     "text": [
      "12\n",
      "0\n",
      "66\n"
     ]
    }
   ],
   "source": [
    "def sum_evens(minimum, maximum):\n",
    "    if minimum % 2 != 0:\n",
    "        minimum += 1\n",
    "    if maximum % 2 != 0:\n",
    "        maximum -= 1\n",
    "    n = (maximum - minimum)/2\n",
    "    \n",
    "    return int((minimum + n) * (n + 1))\n",
    "\n",
    "print(sum_evens(2, 6))\n",
    "print(sum_evens(-2, 2))\n",
    "print(sum_evens(5, 17))"
   ]
  },
  {
   "cell_type": "code",
   "execution_count": 8,
   "metadata": {},
   "outputs": [
    {
     "name": "stdout",
     "output_type": "stream",
     "text": [
      "481 ns ± 84.7 ns per loop (mean ± std. dev. of 7 runs, 1000000 loops each)\n"
     ]
    }
   ],
   "source": [
    "%timeit sum_evens(5, 17)"
   ]
  },
  {
   "cell_type": "code",
   "execution_count": 9,
   "metadata": {},
   "outputs": [
    {
     "name": "stdout",
     "output_type": "stream",
     "text": [
      "True\n",
      "True\n",
      "False\n",
      "False\n",
      "False\n"
     ]
    }
   ],
   "source": [
    "def password_check(input_str):\n",
    "    punc_marks = '!@#$%&()-_[]'+'{'+'}'+';'+':'+'\"'+',./'+'<>?'\n",
    "    numbers = '0123456789'\n",
    "\n",
    "    has_upp = False\n",
    "    has_low = False\n",
    "    has_num = False\n",
    "    has_pun = False\n",
    "\n",
    "    if len(input_str) < 8:\n",
    "        return False\n",
    "\n",
    "    for char in input_str:\n",
    "        char_position = ord(char) \n",
    "        if ((char_position > 122 or (90 < char_position < 97) \n",
    "            or char_position < 65) and char not in punc_marks \n",
    "            and char not in numbers):\n",
    "            return False\n",
    "        elif 97 <= char_position <= 122:\n",
    "            has_upp = True\n",
    "        elif 65 <= char_position <= 90:\n",
    "            has_low = True\n",
    "        elif char in punc_marks:\n",
    "            has_pun = True\n",
    "        elif char in numbers:\n",
    "            has_num = True\n",
    "\n",
    "    return has_low and has_upp and has_num and has_pun\n",
    "\n",
    "print(password_check(\"tHIs1sag00d.p4ssw0rd.\"))\n",
    "print(password_check(\"3@t7ENZ((T\"))\n",
    "print(password_check(\"2.shOrt\"))\n",
    "print(password_check(\"all.l0wer.case\"))\n",
    "print(password_check(\"inv4l1d CH4R4CTERS~\"))"
   ]
  },
  {
   "cell_type": "code",
   "execution_count": 10,
   "metadata": {},
   "outputs": [
    {
     "name": "stdout",
     "output_type": "stream",
     "text": [
      "1.96 µs ± 88.2 ns per loop (mean ± std. dev. of 7 runs, 100000 loops each)\n"
     ]
    }
   ],
   "source": [
    "%timeit password_check(\"inv4l1d CH4R4CTERS~\")"
   ]
  },
  {
   "cell_type": "markdown",
   "metadata": {},
   "source": [
    "# Loops\n",
    "\n",
    "- Zero-based indexing\n",
    "    - Legacy reason, in earlier primitive languages, variable pointers point to the first element in a list. Thus index then means how many items to skip to reach the target item, e.g. to get 5th item, we need to skip 4 items. \n",
    "- Special key words used in loop body:\n",
    "    - `continue`: Ignore the rest of the code in this current loop, continue with the next round of execution. \n",
    "    - `break`: Ignore the rest of the code in this current loop and exit the loop. \n",
    "    - `pass`: Do nothing, continue with the next iteration in the loop. "
   ]
  },
  {
   "cell_type": "code",
   "execution_count": 6,
   "metadata": {},
   "outputs": [
    {
     "name": "stdout",
     "output_type": "stream",
     "text": [
      "0\n",
      "2\n",
      "0\n",
      "6\n",
      "6\n"
     ]
    }
   ],
   "source": [
    "#Write a function called num_factors. num_factors should\n",
    "#have one parameter, an integer. num_factors should count\n",
    "#how many factors the number has and return that count as\n",
    "#an integer\n",
    "#\n",
    "#A number is a factor of another number if it divides\n",
    "#evenly into that number. For example, 3 is a factor of 6,\n",
    "#but 4 is not. As such, all factors will be less than the\n",
    "#number itself.\n",
    "#\n",
    "#Do not count 1 or the number itself in your factor count.\n",
    "#For example, 6 should have 2 factors: 2 and 3. Do not\n",
    "#count 1 and 6. You may assume the number will be less than\n",
    "#1000.\n",
    "\n",
    "\n",
    "#Add your code here!\n",
    "def num_factors(number):\n",
    "    no_of_factors = 0\n",
    "    curr_factor = 2\n",
    "    while number // curr_factor > curr_factor:\n",
    "        if number % curr_factor == 0:\n",
    "            counter_factor = number / curr_factor\n",
    "            no_of_factors += 2            \n",
    "        \n",
    "        curr_factor += 1\n",
    "    \n",
    "    return no_of_factors            \n",
    "\n",
    "\n",
    "#Below are some lines of code that will test your function.\n",
    "#You can change the value of the variable(s) to test your\n",
    "#function with different inputs.\n",
    "#\n",
    "#If your function works correctly, this will originally\n",
    "#print: 0, 2, 0, 6, 6, each on their own line.\n",
    "print(num_factors(5))\n",
    "print(num_factors(6))\n",
    "print(num_factors(97))\n",
    "print(num_factors(105))\n",
    "print(num_factors(999))"
   ]
  },
  {
   "cell_type": "code",
   "execution_count": 7,
   "metadata": {},
   "outputs": [
    {
     "name": "stdout",
     "output_type": "stream",
     "text": [
      "11.3 µs ± 711 ns per loop (mean ± std. dev. of 7 runs, 100000 loops each)\n"
     ]
    }
   ],
   "source": [
    "%%timeit\n",
    "num_factors(999)"
   ]
  },
  {
   "cell_type": "code",
   "execution_count": 8,
   "metadata": {},
   "outputs": [],
   "source": [
    "def num_factors(number):\n",
    "    no_of_factors = 0\n",
    "    for i in range(2, number):\n",
    "        if number % i == 0:\n",
    "            no_of_factors += 1\n",
    "    return no_of_factors   "
   ]
  },
  {
   "cell_type": "code",
   "execution_count": 9,
   "metadata": {},
   "outputs": [
    {
     "name": "stdout",
     "output_type": "stream",
     "text": [
      "713 µs ± 69 µs per loop (mean ± std. dev. of 7 runs, 1000 loops each)\n"
     ]
    }
   ],
   "source": [
    "%%timeit\n",
    "num_factors(999)"
   ]
  },
  {
   "cell_type": "markdown",
   "metadata": {},
   "source": [
    "# Functions\n",
    "\n",
    "The concept of scope\n",
    "\n",
    "- Scope means the portion of program that a variable can be seen and accessed. \n",
    "- Compiled languages are generally different in scope design from scripted languages. \n",
    "- Scope is usually defined by control structures.\n",
    "\n",
    "Scoping in Python: Built-in scope >= global scope >= enclosing scope >= local scope\n",
    "\n",
    "- Local scope: Variables created inside Python functions.\n",
    "- Enclosing scope: Not local nor global scope, hence nonlocal scope, e.g. inside one function but outside another.\n",
    "- Global scope: Variables which can be accessed anywhere in a program.\n",
    "- Build-in scope: Largest scope, all variable names loaded into Python interpreter, e.g., `print()`, `len()`, `int()`.\n",
    "\n",
    "Parameter: Variable that functions expect to receive an input.\n",
    "\n",
    "Argument: Value of the function parameter passed as input."
   ]
  },
  {
   "cell_type": "markdown",
   "metadata": {},
   "source": [
    "# Error handling\n",
    "\n",
    "Python error handling: \n",
    "\n",
    "- `try` - `except` - `else` - `finally`\n",
    "- `try` to execute this segment of code, `except` some error occurs, then do that instead. `else`, if no error occurred, run this segment of code. `finally`, regardless of the occurrence of errors, run this segment of code. \n",
    "- `finally`: segment of code to run no matter what happens above, e.g., closing a file. \n",
    "\n",
    "Nested exception-handling structure\n",
    "\n",
    "- Errors escalate up incrementally to see if they can be caught. \n",
    "- Errors also rise through function calls, e.g., an error occurred inside a function. "
   ]
  },
  {
   "cell_type": "code",
   "execution_count": null,
   "metadata": {},
   "outputs": [],
   "source": []
  }
 ],
 "metadata": {
  "kernelspec": {
   "display_name": "Python 3",
   "language": "python",
   "name": "python3"
  },
  "language_info": {
   "codemirror_mode": {
    "name": "ipython",
    "version": 3
   },
   "file_extension": ".py",
   "mimetype": "text/x-python",
   "name": "python",
   "nbconvert_exporter": "python",
   "pygments_lexer": "ipython3",
   "version": "3.8.6"
  },
  "toc": {
   "base_numbering": 1,
   "nav_menu": {},
   "number_sections": true,
   "sideBar": true,
   "skip_h1_title": false,
   "title_cell": "Table of Contents",
   "title_sidebar": "Contents",
   "toc_cell": false,
   "toc_position": {
    "height": "calc(100% - 180px)",
    "left": "10px",
    "top": "150px",
    "width": "186px"
   },
   "toc_section_display": true,
   "toc_window_display": true
  },
  "toc-autonumbering": false,
  "toc-showmarkdowntxt": false
 },
 "nbformat": 4,
 "nbformat_minor": 4
}
