{
 "cells": [
  {
   "cell_type": "markdown",
   "metadata": {},
   "source": [
    "# Objects\n",
    "This chapter introduces us to two fundamental pillars of knowledge in computer science: object-oriented programming (OOP) and algorithms. Breadth over depth is emphasized in this chapter. "
   ]
  },
  {
   "cell_type": "markdown",
   "metadata": {},
   "source": [
    "## What are objects?\n",
    "\n",
    "Objects are concepts from OOP paradigm. \n",
    "\n",
    "- OOP is a paradigm, in contrast to, e.g., procedural and functional programming, where custom data types are defined and used with custom methods defined for them. \n",
    "- Class: We usually refer to such a data type as a class with custom methods and variables (also known as class attributes). \n",
    "- Objects and instances: An object or instance is what we usually refer to a particular \"variable\" created from a class. For example:\n",
    "    - From a `person` class, we can create a particular person, e.g., `david` or `mary`.\n",
    "    - From a `book` class, we can create a particular book, e.g., `book_A` or `book_B`.\n",
    "\n",
    "Therefore, to understand the class-instance relationship, we can think of the relationship between an unfilled form and a filled one: An unfilled form represents a template, a class; The form can then be filled with different information by different people to create different instances. "
   ]
  },
  {
   "cell_type": "code",
   "execution_count": 9,
   "metadata": {},
   "outputs": [],
   "source": [
    "class Person:\n",
    "    def __init__(self):\n",
    "        self.first_name = \"[No first name]\"\n",
    "        self.last_name = '[No last name]'        \n",
    "        self.eyecolor = '[No eye color]'\n",
    "        self.age = -1"
   ]
  },
  {
   "cell_type": "code",
   "execution_count": 10,
   "metadata": {},
   "outputs": [
    {
     "data": {
      "text/plain": [
       "'[No first name]'"
      ]
     },
     "execution_count": 10,
     "metadata": {},
     "output_type": "execute_result"
    }
   ],
   "source": [
    "person_1 = Person()\n",
    "person_1.first_name"
   ]
  },
  {
   "cell_type": "markdown",
   "metadata": {},
   "source": [
    "## Objects and instances in Python\n",
    "\n",
    "Just like how we need to declare a function before using it, to work with objects and instances, we first need to declare the class. Declaring classes in Python is essentially teaching the computer what kind of concepts make sense for the class object. For example\n",
    "\n",
    "- To make a `book` class, each book instance could have a title, an author, a publication date, etc.\n",
    "- To make a `person` class, each person instance could have a name, an age, an eye color, etc.\n",
    "\n",
    "During declaration, Python uses the dot syntax `self.` to assign or access its attributes such as title or author. \n",
    "\n",
    "- For example, to set a book instance's name as `'Python Programming'`, we can write: `self.name = 'Python Programming'`. "
   ]
  },
  {
   "cell_type": "code",
   "execution_count": 11,
   "metadata": {},
   "outputs": [],
   "source": [
    "# The power of object-oriented programming\n",
    "class Name:\n",
    "    def __init__(self):\n",
    "        self.first_name = \"[No first name]\"\n",
    "        self.last_name = '[No last name]'\n",
    "\n",
    "class Person:\n",
    "    def __init__(self):\n",
    "        self.name = Name()\n",
    "        self.eyecolor = '[No eye color]'\n",
    "        self.age = -1"
   ]
  },
  {
   "cell_type": "code",
   "execution_count": 12,
   "metadata": {},
   "outputs": [
    {
     "data": {
      "text/plain": [
       "'[No first name]'"
      ]
     },
     "execution_count": 12,
     "metadata": {},
     "output_type": "execute_result"
    }
   ],
   "source": [
    "person_1 = Person()\n",
    "person_1.name.first_name"
   ]
  },
  {
   "cell_type": "code",
   "execution_count": 13,
   "metadata": {},
   "outputs": [
    {
     "name": "stdout",
     "output_type": "stream",
     "text": [
      "128\n",
      "red\n"
     ]
    }
   ],
   "source": [
    "#Write a class named \"Phone\". The Phone class should \n",
    "#have an attribute called \"storage\" which defaults to\n",
    "#128, and an attribute called \"color\" which defaults\n",
    "#to \"red\".\n",
    "#\n",
    "#Hint: 'attribute' is another common word for\n",
    "#'instance variable'.\n",
    "\n",
    "\n",
    "#Write your class here!\n",
    "class Phone:\n",
    "    def __init__(self):\n",
    "        self.storage = 128\n",
    "        self.color = 'red'\n",
    "\n",
    "\n",
    "#Below are some lines of code that will test your function.\n",
    "#You can change the value of the variable(s) to test your\n",
    "#function with different inputs.\n",
    "#\n",
    "#If your function works correctly, this will originally\n",
    "#print 128 and red, each on a separate line.\n",
    "new_phone = Phone()\n",
    "print(new_phone.storage)\n",
    "print(new_phone.color)"
   ]
  },
  {
   "cell_type": "code",
   "execution_count": 14,
   "metadata": {},
   "outputs": [],
   "source": [
    "#Write a class named \"Number\" with one attribute called \n",
    "#\"value\" which defaults to 0 and another attribute called \n",
    "#\"even\" which defaults to True.\n",
    "#\n",
    "#Next, create an instance of this class and assign it to\n",
    "#a variable called \"number_instance\".\n",
    "#\n",
    "#Then, set the value attribute to 101 and the even\n",
    "#attribute to False.\n",
    "\n",
    "\n",
    "#Write your code here!\n",
    "class Number:\n",
    "    def __init__(self):\n",
    "        self.value = 0\n",
    "        self.even = True\n",
    "\n",
    "number_instance = Number()\n",
    "number_instance.value = 101\n",
    "number_instance.even = False\n",
    "\n",
    "#Note that this exercise does not print anything by\n",
    "#default. You're welcome to add print statements to debug\n",
    "#your code when running it. Note that the autograder\n",
    "#will check both your value for number_instance and your\n",
    "#definition of the class Number."
   ]
  },
  {
   "cell_type": "markdown",
   "metadata": {},
   "source": [
    "## Encapsulating methods in classes"
   ]
  },
  {
   "cell_type": "markdown",
   "metadata": {},
   "source": [
    "## Encapsulating methods in Python"
   ]
  },
  {
   "cell_type": "code",
   "execution_count": 1,
   "metadata": {},
   "outputs": [],
   "source": [
    "#Rewrite the \"Number\" class from 5.1.2 Coding Exercise 2.\n",
    "#This time, however, require arguments for value and\n",
    "#even in the constructor. Then, inside the constructor,\n",
    "#create new instance variables called value and even that\n",
    "#copy the values of the arguments passed into the\n",
    "#constructor.\n",
    "#\n",
    "#In other words, rewrite the Number class such that value\n",
    "#and even behave the way studentName and enrolled behaved\n",
    "#in the exercise above, and the way firstname and lastname\n",
    "#behaved in video 5.1.4.1.\n",
    "#\n",
    "#Then, as before, create an instance of this class and\n",
    "#assign it to a variable called \"number_instance\". value\n",
    "#should again be set to 101 and even should be set to\n",
    "#False.\n",
    "#\n",
    "#Hint: Remember, the way you initialize the instance will\n",
    "#have to change, too, based on the changes to the\n",
    "#constructor that we're requiring.\n",
    "\n",
    "\n",
    "#Write your code here!\n",
    "class Number:\n",
    "    def __init__(self, value, even):\n",
    "        self.value = value\n",
    "        self.even = even\n",
    "\n",
    "number_instance = Number(101, False)"
   ]
  },
  {
   "cell_type": "code",
   "execution_count": 4,
   "metadata": {},
   "outputs": [
    {
     "name": "stdout",
     "output_type": "stream",
     "text": [
      "Running\n",
      "Low\n",
      "60\n",
      "Swimming\n",
      "High\n",
      "30\n"
     ]
    }
   ],
   "source": [
    "#Imagine you're writing an exercise-tracking app like Fitbit\n",
    "#or MyFitnessPal. Part of your app is that a user can log an\n",
    "#exercise session by naming the exercise, the intensity, and\n",
    "#the duration.\n",
    "#\n",
    "#Write a class called ExerciseSession. ExerciseSession\n",
    "#should have a constructor that requires two strings and an\n",
    "#integer: the strings represent the exercise name and the\n",
    "#exercise intensity, which will be \"Low\", \"Moderate\", or\n",
    "#\"High\". The integer will represent the length of the\n",
    "#exercise session in minutes. These should be saved in the\n",
    "#instance of the class.\n",
    "#\n",
    "#Then, add three getters to the class. The getters should\n",
    "#be named get_exercise, get_intensity, and get_duration,\n",
    "#and should return the exercise string, the exercise\n",
    "#intensity, and the duration, respectively.\n",
    "#\n",
    "#The setters should be named set_exercise, set_intensity,\n",
    "#and set_duration. Each should have one parameter (besides\n",
    "#self), which should be stored as the new value of\n",
    "#exercise, intensity, or duration. You may assume only\n",
    "#valid values will be passed in.\n",
    "#\n",
    "#HINT: You don't have to do any logging like you saw in\n",
    "#the video! That was just an example of one benefit of\n",
    "#using getters and setters, but this problem does not ask\n",
    "#you to do that.\n",
    "\n",
    "\n",
    "#Add your code here!\n",
    "class ExerciseSession:\n",
    "    def __init__(self, exercise_name, exercise_intensity, exercise_duration):\n",
    "        self.exercise_name = exercise_name\n",
    "        self.exercise_intensity = exercise_intensity\n",
    "        self.exercise_duration = exercise_duration\n",
    "        \n",
    "    def get_exercise(self):\n",
    "        return self.exercise_name\n",
    "\n",
    "    def get_intensity(self):\n",
    "        return self.exercise_intensity\n",
    "    \n",
    "    def get_duration(self):\n",
    "        return self.exercise_duration\n",
    "    \n",
    "    def set_exercise(self, exercise):\n",
    "        self.exercise_name = exercise\n",
    "\n",
    "    def set_intensity(self, intensity):\n",
    "        self.exercise_intensity = intensity\n",
    "    \n",
    "    def set_duration(self, duration):\n",
    "        self.exercise_duration = duration\n",
    "\n",
    "\n",
    "#If your code is implemented correctly, the lines below\n",
    "#will run error-free. They will result in the following\n",
    "#output to the console:\n",
    "#Running\n",
    "#Low\n",
    "#60\n",
    "#Swimming\n",
    "#High\n",
    "#30\n",
    "new_exercise = ExerciseSession(\"Running\", \"Low\", 60)\n",
    "print(new_exercise.get_exercise())\n",
    "print(new_exercise.get_intensity())\n",
    "print(new_exercise.get_duration())\n",
    "new_exercise.set_exercise(\"Swimming\")\n",
    "new_exercise.set_intensity(\"High\")\n",
    "new_exercise.set_duration(30)\n",
    "print(new_exercise.get_exercise())\n",
    "print(new_exercise.get_intensity())\n",
    "print(new_exercise.get_duration())"
   ]
  },
  {
   "cell_type": "code",
   "execution_count": 6,
   "metadata": {},
   "outputs": [
    {
     "name": "stdout",
     "output_type": "stream",
     "text": [
      "240\n",
      "360\n"
     ]
    }
   ],
   "source": [
    "#Previously, you wrote a class called ExerciseSession that\n",
    "#had three attributes: an exercise name, an intensity, and a\n",
    "#duration.\n",
    "#\n",
    "#Add a new method to that class called calories_burned.\n",
    "#calories_burned should have no parameters (besides self, as\n",
    "#every method in a class has). It should return an integer\n",
    "#representing the number of calories burned according to the\n",
    "#following formula:\n",
    "#\n",
    "# - If the intensity is \"Low\", 4 calories are burned per\n",
    "#   minute.\n",
    "# - If the intensity is \"Medium\", 8 calories are burned\n",
    "#   per minute.\n",
    "# - If the intensity is \"High\", 12 calories are burned per\n",
    "#   minute.\n",
    "#\n",
    "#You may copy your class from the previous exercise and just\n",
    "#add to it.\n",
    "\n",
    "\n",
    "#Add your code here!\n",
    "class ExerciseSession:\n",
    "    def __init__(self, exercise_name, exercise_intensity, exercise_duration):\n",
    "        self.exercise_name = exercise_name\n",
    "        self.exercise_intensity = exercise_intensity\n",
    "        self.exercise_duration = exercise_duration\n",
    "        \n",
    "    def get_exercise(self):\n",
    "        return self.exercise_name\n",
    "\n",
    "    def get_intensity(self):\n",
    "        return self.exercise_intensity\n",
    "    \n",
    "    def get_duration(self):\n",
    "        return self.exercise_duration\n",
    "    \n",
    "    def set_exercise(self, exercise):\n",
    "        self.exercise_name = exercise\n",
    "\n",
    "    def set_intensity(self, intensity):\n",
    "        self.exercise_intensity = intensity\n",
    "    \n",
    "    def set_duration(self, duration):\n",
    "        self.exercise_duration = duration\n",
    "        \n",
    "    def calories_burned(self):\n",
    "        if self.exercise_intensity == 'Low':\n",
    "            return 4 * self.exercise_duration\n",
    "        elif self.exercise_intensity == 'Medium':\n",
    "            return 8 * self.exercise_duration\n",
    "        else:\n",
    "            return 12 * self.exercise_duration        \n",
    "\n",
    "\n",
    "#If your code is implemented correctly, the lines below\n",
    "#will run error-free. They will result in the following\n",
    "#output to the console:\n",
    "#240\n",
    "#360\n",
    "new_exercise = ExerciseSession(\"Running\", \"Low\", 60)\n",
    "print(new_exercise.calories_burned())\n",
    "new_exercise.set_exercise(\"Swimming\")\n",
    "new_exercise.set_intensity(\"High\")\n",
    "new_exercise.set_duration(30)\n",
    "print(new_exercise.calories_burned())"
   ]
  },
  {
   "cell_type": "markdown",
   "metadata": {},
   "source": [
    "## Advanced topics in classes in Python"
   ]
  },
  {
   "cell_type": "markdown",
   "metadata": {},
   "source": [
    "### Combining classes"
   ]
  },
  {
   "cell_type": "code",
   "execution_count": 7,
   "metadata": {},
   "outputs": [
    {
     "name": "stdout",
     "output_type": "stream",
     "text": [
      "George P. Burdell\n",
      "Mrs. Burdell\n",
      "Mr. Burdell\n"
     ]
    }
   ],
   "source": [
    "#Classes can also have references to other instances of\n",
    "#themselves. Consider this Person class, for example, \n",
    "#that allows for an instance of a father and mother\n",
    "#to be given in the constructor.\n",
    "#\n",
    "#Create 3 instances of this class. The first should have \n",
    "#the name \"Mr. Burdell\" with an age of 53. The second\n",
    "#instance should have a name of \"Mrs. Burdell\" with an age\n",
    "#of 53 as well. Finally, make an instance with the name of\n",
    "#\"George P. Burdell\" with an age of 25. This final instance\n",
    "#should also have the father attribute set to the instance \n",
    "#of Mr. Burdell, and the mother attribute set to the \n",
    "#instance of Mrs. Burdell. Finally, store the instance of \n",
    "#George P. Burdell in a variable called george_p. (It does\n",
    "#not matter what variable names you use for Mr. and Mrs.\n",
    "#Burdell.)\n",
    "\n",
    "class Person:\n",
    "    def __init__(self, name, age, father=None, mother=None):\n",
    "        self.name = name\n",
    "        self.age = age\n",
    "        self.father = father\n",
    "        self.mother = mother\n",
    "\n",
    "#Write your code here!\n",
    "mr_burdell = Person('Mr. Burdell', 53)\n",
    "mrs_burdell = Person('Mrs. Burdell', 53)\n",
    "george_p = Person('George P. Burdell', 25, father=mr_burdell, mother=mrs_burdell)\n",
    "\n",
    "\n",
    "#The code below will let you test your code. It isn't used\n",
    "#for grading, so feel free to modify it. As written, it\n",
    "#should print George P. Burdell, Mrs. Burdell, and Mr.\n",
    "#Burdell each on a separate line.\n",
    "print(george_p.name)\n",
    "print(george_p.mother.name)\n",
    "print(george_p.father.name)"
   ]
  },
  {
   "cell_type": "markdown",
   "metadata": {},
   "source": [
    "### Instance assignment"
   ]
  },
  {
   "cell_type": "code",
   "execution_count": 11,
   "metadata": {},
   "outputs": [
    {
     "name": "stdout",
     "output_type": "stream",
     "text": [
      "Taylor Swift\n",
      "Big Machine Records, LLC\n",
      "2016\n"
     ]
    }
   ],
   "source": [
    "#We've given you a class called \"Song\" that represents\n",
    "#some basic information about a song. We also wrote a \n",
    "#class called \"Artist\" which contains some basic \n",
    "#information about an artist.\n",
    "#\n",
    "#Your job is to create three instances of the song class,\n",
    "#called song_1, song_2, and song_3.\n",
    "#\n",
    "#song_1 should have the following attributes:\n",
    "#   name = \"You Belong With Me\"\n",
    "#   album = \"Fearless\"\n",
    "#   year = 2008\n",
    "#   artist.name = \"Taylor Swift\"\n",
    "#   artist.label = \"Big Machine Records, LLC\"\n",
    "#\n",
    "#song_2 should have the following attributes:\n",
    "#   name = \"All Too Well\"\n",
    "#   album = \"Red\"\n",
    "#   year = 2012\n",
    "#   artist.name = \"Taylor Swift\"\n",
    "#   artist.label = \"Big Machine Records, LLC\"\n",
    "#\n",
    "#song_3 should have the following attributes:\n",
    "#   name = \"Up We Go\"\n",
    "#   album = \"Midnight Machines\"\n",
    "#   year = 2016\n",
    "#   artist.name = \"LiGHTS\"\n",
    "#   artist.label = \"Warner Bros. Records Inc.\"\n",
    "#\n",
    "#Notice, though, that song_1 and song_2 have the same\n",
    "#artist and label. That means they should each have the\n",
    "#SAME instance of artist: do not create separate instances\n",
    "#of artist for each song.\n",
    "#\n",
    "#When your code is done running, there should exist three\n",
    "#variables: song_1, song_2, and song_3, according to the\n",
    "#requirements above.\n",
    "\n",
    "class Artist:\n",
    "    def __init__(self, name, label):\n",
    "        self.name = name\n",
    "        self.label = label\n",
    "\n",
    "class Song:\n",
    "    def __init__(self, name, album, year, artist):\n",
    "        self.name = name\n",
    "        self.album = album\n",
    "        self.year = year\n",
    "        self.artist = artist\n",
    "        \n",
    "\n",
    "#Write your code here!\n",
    "taylor_swift = Artist('Taylor Swift', 'Big Machine Records, LLC')\n",
    "lights = Artist('LiGHTS', 'Warner Bros. Records Inc.')\n",
    "\n",
    "song_1 = Song('You Belong With Me', 'Fearless', 2008, taylor_swift)\n",
    "song_2 = Song('All Too Well', 'Red', 2012, taylor_swift)\n",
    "song_3 = Song('Up We Go', 'Midnight Machines', 2016, lights)\n",
    "\n",
    "\n",
    "#Feel free to add code to test your code below.\n",
    "print(song_1.artist.name)\n",
    "print(song_2.artist.label)\n",
    "print(song_3.year)"
   ]
  },
  {
   "cell_type": "markdown",
   "metadata": {},
   "source": [
    "### Instances as arguments"
   ]
  },
  {
   "cell_type": "code",
   "execution_count": 16,
   "metadata": {},
   "outputs": [
    {
     "name": "stdout",
     "output_type": "stream",
     "text": [
      "\"You Belong With Me\" - Taylor Swift (2008)\n"
     ]
    }
   ],
   "source": [
    "#Below are the two class definitions we supplied previously:\n",
    "#Artist and Song.\n",
    "#\n",
    "#Write a function called \"get_song_string\". It should accept\n",
    "#one argument which will be a Song object. It should return\n",
    "#a string in the following format:\n",
    "#\n",
    "# \"<song name>\" - <artist name> (<song year>)\n",
    "# e.g: \n",
    "# \"You Belong With Me\" - Taylor Swift (2008)\n",
    "#\n",
    "#The quotation marks around the song title should be *part*\n",
    "#of the string.\n",
    "#\n",
    "#Hint: You're writing a function, not a method. That means\n",
    "#the function get_song_string should not be inside either\n",
    "#of these classes.\n",
    "\n",
    "class Artist:\n",
    "    def __init__(self, name, label):\n",
    "        self.name = name\n",
    "        self.label = label\n",
    "\n",
    "class Song:\n",
    "    def __init__(self, name, album, year, artist):\n",
    "        self.name = name\n",
    "        self.album = album\n",
    "        self.year = year\n",
    "        self.artist = artist\n",
    "\n",
    "def get_song_string(song):\n",
    "    return f\"\"\"\"{song.name}\" - {song.artist.name} ({song.year})\"\"\"\n",
    "        \n",
    "#Below are some lines of code that will test your function.\n",
    "#You can change the value of the variable(s) to test your\n",
    "#function with different inputs.\n",
    "#\n",
    "#If your function works correctly, this will originally\n",
    "#print: \"You Belong With Me\" -Taylor Swift (2008)\n",
    "new_artist = Artist(\"Taylor Swift\", \"Big Machine Records, LLC\")\n",
    "new_song = Song(\"You Belong With Me\", \"Fearless\", 2008, new_artist)\n",
    "print(get_song_string(new_song))"
   ]
  },
  {
   "cell_type": "markdown",
   "metadata": {},
   "source": [
    "## Additional concepts"
   ]
  },
  {
   "cell_type": "markdown",
   "metadata": {},
   "source": [
    "### Class and instance variables"
   ]
  },
  {
   "cell_type": "code",
   "execution_count": 17,
   "metadata": {},
   "outputs": [],
   "source": [
    "class Dog:\n",
    "\n",
    "    kind = 'canine'         # class variable shared by all instances\n",
    "\n",
    "    def __init__(self, name):\n",
    "        self.name = name    # instance variable unique to each instance"
   ]
  },
  {
   "cell_type": "code",
   "execution_count": 19,
   "metadata": {},
   "outputs": [],
   "source": [
    "d = Dog('Fido')\n",
    "e = Dog('Buddy')"
   ]
  },
  {
   "cell_type": "code",
   "execution_count": 20,
   "metadata": {},
   "outputs": [
    {
     "name": "stdout",
     "output_type": "stream",
     "text": [
      "canine\n",
      "canine\n",
      "Fido\n",
      "Buddy\n"
     ]
    }
   ],
   "source": [
    "print(d.kind)                  # shared by all dogs\n",
    "print(e.kind)                  # shared by all dogs\n",
    "print(d.name)                 # unique to d\n",
    "print(e.name)                  # unique to e"
   ]
  },
  {
   "cell_type": "code",
   "execution_count": 22,
   "metadata": {},
   "outputs": [],
   "source": [
    "class Dog:\n",
    "\n",
    "    tricks = []             # mistaken use of a class variable\n",
    "\n",
    "    def __init__(self, name):\n",
    "        self.name = name\n",
    "\n",
    "    def add_trick(self, trick):\n",
    "        self.tricks.append(trick)"
   ]
  },
  {
   "cell_type": "code",
   "execution_count": 22,
   "metadata": {},
   "outputs": [
    {
     "name": "stdout",
     "output_type": "stream",
     "text": [
      "['roll over', 'play dead']\n"
     ]
    }
   ],
   "source": [
    "d = Dog('Fido')\n",
    "e = Dog('Buddy')\n",
    "d.add_trick('roll over')\n",
    "e.add_trick('play dead')\n",
    "print(d.tricks)                # unexpectedly shared by all dogs"
   ]
  },
  {
   "cell_type": "code",
   "execution_count": 23,
   "metadata": {},
   "outputs": [],
   "source": [
    "# Correct design\n",
    "class Dog:\n",
    "\n",
    "    def __init__(self, name):\n",
    "        self.name = name\n",
    "        self.tricks = []    # creates a new empty list for each dog\n",
    "\n",
    "    def add_trick(self, trick):\n",
    "        self.tricks.append(trick)"
   ]
  },
  {
   "cell_type": "code",
   "execution_count": 24,
   "metadata": {},
   "outputs": [
    {
     "name": "stdout",
     "output_type": "stream",
     "text": [
      "['roll over']\n"
     ]
    }
   ],
   "source": [
    "d = Dog('Fido')\n",
    "e = Dog('Buddy')\n",
    "d.add_trick('roll over')\n",
    "e.add_trick('play dead')\n",
    "print(d.tricks)            "
   ]
  },
  {
   "cell_type": "markdown",
   "metadata": {},
   "source": [
    "### Functions and methods"
   ]
  },
  {
   "cell_type": "code",
   "execution_count": 25,
   "metadata": {},
   "outputs": [],
   "source": [
    "# Function defined outside the class\n",
    "# However, it may confuse readers.\n",
    "def f1(self, x, y):\n",
    "    return min(x, x+y)\n",
    "\n",
    "class C:\n",
    "    f = f1\n",
    "\n",
    "    def g(self):\n",
    "        return 'hello world'\n",
    "\n",
    "    h = g"
   ]
  },
  {
   "cell_type": "code",
   "execution_count": 26,
   "metadata": {},
   "outputs": [],
   "source": [
    "# Methods may call on other methods \n",
    "# through method attributes of self.\n",
    "class Bag:\n",
    "    def __init__(self):\n",
    "        self.data = []\n",
    "\n",
    "    def add(self, x):\n",
    "        self.data.append(x)\n",
    "\n",
    "    def addtwice(self, x):\n",
    "        self.add(x)\n",
    "        self.add(x)"
   ]
  },
  {
   "cell_type": "markdown",
   "metadata": {},
   "source": [
    "# Algorithms"
   ]
  },
  {
   "cell_type": "markdown",
   "metadata": {},
   "source": [
    "## Recursion"
   ]
  },
  {
   "cell_type": "code",
   "execution_count": 32,
   "metadata": {},
   "outputs": [],
   "source": [
    "def Fib(n):\n",
    "    if n > 2:\n",
    "        return Fib(n-1) + Fib(n-2)\n",
    "    else:\n",
    "        return 1"
   ]
  },
  {
   "cell_type": "code",
   "execution_count": 33,
   "metadata": {},
   "outputs": [
    {
     "name": "stdout",
     "output_type": "stream",
     "text": [
      "3.84 ms ± 294 µs per loop (mean ± std. dev. of 7 runs, 100 loops each)\n"
     ]
    }
   ],
   "source": [
    "%timeit [Fib(i+1) for i in range(20)]"
   ]
  },
  {
   "cell_type": "code",
   "execution_count": 49,
   "metadata": {},
   "outputs": [],
   "source": [
    "def Fib(n):\n",
    "    fib = [0, 1]\n",
    "    for i in range(2, n+1):\n",
    "        fib.append(fib[i-1] + fib[i-2])\n",
    "    \n",
    "    return fib[n]"
   ]
  },
  {
   "cell_type": "code",
   "execution_count": 50,
   "metadata": {},
   "outputs": [
    {
     "name": "stdout",
     "output_type": "stream",
     "text": [
      "45.1 µs ± 3.69 µs per loop (mean ± std. dev. of 7 runs, 10000 loops each)\n"
     ]
    }
   ],
   "source": [
    "%timeit [Fib(i+1) for i in range(20)]"
   ]
  },
  {
   "cell_type": "code",
   "execution_count": 51,
   "metadata": {},
   "outputs": [],
   "source": [
    "def Fib(n):\n",
    "    a = 0\n",
    "    b = 1\n",
    "    if n < 0:\n",
    "        print(\"Incorrect input\")\n",
    "    elif n == 0:\n",
    "        return a\n",
    "    elif n == 1:\n",
    "        return b\n",
    "    else:\n",
    "        for i in range(2,n+1):\n",
    "            c = a + b\n",
    "            a = b\n",
    "            b = c\n",
    "        return b"
   ]
  },
  {
   "cell_type": "code",
   "execution_count": 53,
   "metadata": {},
   "outputs": [
    {
     "name": "stdout",
     "output_type": "stream",
     "text": [
      "21.1 µs ± 3.38 µs per loop (mean ± std. dev. of 7 runs, 10000 loops each)\n"
     ]
    }
   ],
   "source": [
    "%timeit [Fib(i+1) for i in range(20)]"
   ]
  },
  {
   "cell_type": "markdown",
   "metadata": {},
   "source": [
    "## Sorting algorithms"
   ]
  },
  {
   "cell_type": "code",
   "execution_count": 296,
   "metadata": {},
   "outputs": [],
   "source": [
    "numbers = [3, 44, 38, 5, 47, 15, 36, 26, 27, 1]"
   ]
  },
  {
   "cell_type": "markdown",
   "metadata": {},
   "source": [
    "### Bubble sort"
   ]
  },
  {
   "cell_type": "code",
   "execution_count": 297,
   "metadata": {},
   "outputs": [
    {
     "name": "stdout",
     "output_type": "stream",
     "text": [
      "True\n"
     ]
    }
   ],
   "source": [
    "def bubble_sort(unsorted_ls):\n",
    "    sorted_ls = unsorted_ls[:]\n",
    "    for i in range(len(sorted_ls)-1):\n",
    "        for j in range(1, len(sorted_ls)-i):\n",
    "            if sorted_ls[j-1] > sorted_ls[j]:\n",
    "                sorted_ls[j-1], sorted_ls[j] = sorted_ls[j], sorted_ls[j-1]\n",
    "                \n",
    "    return sorted_ls\n",
    "\n",
    "print(sorted(numbers) == bubble_sort(numbers))"
   ]
  },
  {
   "cell_type": "code",
   "execution_count": 301,
   "metadata": {},
   "outputs": [
    {
     "name": "stdout",
     "output_type": "stream",
     "text": [
      "12.3 µs ± 803 ns per loop (mean ± std. dev. of 7 runs, 100000 loops each)\n"
     ]
    }
   ],
   "source": [
    "%timeit bubble_sort(numbers)"
   ]
  },
  {
   "cell_type": "markdown",
   "metadata": {},
   "source": [
    "### Selection sort"
   ]
  },
  {
   "cell_type": "code",
   "execution_count": 299,
   "metadata": {},
   "outputs": [
    {
     "name": "stdout",
     "output_type": "stream",
     "text": [
      "True\n"
     ]
    }
   ],
   "source": [
    "def selection_sort(unsorted_ls):\n",
    "    sorted_ls = unsorted_ls[:]\n",
    "    for i in range(len(sorted_ls)-1):\n",
    "        min_ix = i\n",
    "        for j in range(i+1, len(sorted_ls)):\n",
    "            if sorted_ls[j] < sorted_ls[min_ix]:\n",
    "                min_ix = j\n",
    "                \n",
    "        sorted_ls[i], sorted_ls[min_ix] = sorted_ls[min_ix], sorted_ls[i]\n",
    "                \n",
    "    return sorted_ls   \n",
    "\n",
    "print(sorted(numbers) == selection_sort(numbers))"
   ]
  },
  {
   "cell_type": "code",
   "execution_count": 302,
   "metadata": {},
   "outputs": [
    {
     "name": "stdout",
     "output_type": "stream",
     "text": [
      "7.84 µs ± 290 ns per loop (mean ± std. dev. of 7 runs, 100000 loops each)\n"
     ]
    }
   ],
   "source": [
    "%timeit selection_sort(numbers)"
   ]
  },
  {
   "cell_type": "markdown",
   "metadata": {},
   "source": [
    "### Insertion sort"
   ]
  },
  {
   "cell_type": "code",
   "execution_count": 303,
   "metadata": {},
   "outputs": [
    {
     "name": "stdout",
     "output_type": "stream",
     "text": [
      "True\n"
     ]
    }
   ],
   "source": [
    "def insertion_sort(unsorted_ls):\n",
    "    sorted_ls = [unsorted_ls[0]]\n",
    "    for item in unsorted_ls[1:]:\n",
    "        for i in range(len(sorted_ls)):\n",
    "            if item >= sorted_ls[i]:\n",
    "                if i == len(sorted_ls)-1:   # the end of sorted list\n",
    "                    sorted_ls.append(item)\n",
    "                    break\n",
    "                elif item < sorted_ls[i+1]:  # found the right spot\n",
    "                    sorted_ls.insert(i+1, item)\n",
    "                    break\n",
    "            elif i == 0:  # the start of sorted list\n",
    "                sorted_ls.insert(i, item)\n",
    "                break\n",
    "    return sorted_ls   \n",
    "\n",
    "print(sorted(numbers) == insertion_sort(numbers))"
   ]
  },
  {
   "cell_type": "code",
   "execution_count": 304,
   "metadata": {},
   "outputs": [
    {
     "name": "stdout",
     "output_type": "stream",
     "text": [
      "7.82 µs ± 663 ns per loop (mean ± std. dev. of 7 runs, 100000 loops each)\n"
     ]
    }
   ],
   "source": [
    "%timeit insertion_sort(numbers)"
   ]
  },
  {
   "cell_type": "code",
   "execution_count": 305,
   "metadata": {},
   "outputs": [
    {
     "name": "stdout",
     "output_type": "stream",
     "text": [
      "True\n"
     ]
    }
   ],
   "source": [
    "def insertionSort(unsorted_ls):\n",
    "    sorted_ls = unsorted_ls[:]\n",
    "    # Traverse through 1 to len(arr)\n",
    "    for i in range(1, len(sorted_ls)):\n",
    "  \n",
    "        key = sorted_ls[i]\n",
    "  \n",
    "        # Move elements of arr[0..i-1], that are\n",
    "        # greater than key, to one position ahead\n",
    "        # of their current position\n",
    "        j = i-1\n",
    "        while j >= 0 and key < sorted_ls[j] :\n",
    "                sorted_ls[j+1] = sorted_ls[j]\n",
    "                j -= 1\n",
    "        sorted_ls[j+1] = key\n",
    "        \n",
    "    return sorted_ls\n",
    "\n",
    "print(sorted(numbers) == insertionSort(numbers))"
   ]
  },
  {
   "cell_type": "code",
   "execution_count": 306,
   "metadata": {},
   "outputs": [
    {
     "name": "stdout",
     "output_type": "stream",
     "text": [
      "7.34 µs ± 485 ns per loop (mean ± std. dev. of 7 runs, 100000 loops each)\n"
     ]
    }
   ],
   "source": [
    "%timeit insertionSort(numbers)"
   ]
  },
  {
   "cell_type": "markdown",
   "metadata": {},
   "source": [
    "### Merge sort"
   ]
  },
  {
   "cell_type": "code",
   "execution_count": 422,
   "metadata": {},
   "outputs": [
    {
     "name": "stdout",
     "output_type": "stream",
     "text": [
      "[1, 2, 3, 4, 5, 6, 7, 8, 9]\n"
     ]
    }
   ],
   "source": [
    "#Let's implement Mergesort! This is a complex problem\n",
    "#because it applies recursion to sorting algorithms, but\n",
    "#it's also by far the most efficient sorting algorithm we'll\n",
    "#cover.\n",
    "\n",
    "#First, we need a function definition: MergeSort should take\n",
    "#as input one list.\n",
    "\n",
    "def mergesort(lst):\n",
    "    \n",
    "    #Then, what does it do? mergesort should recursively\n",
    "    #run mergesort on the left and right sides of lst until\n",
    "    #it's given a list only one item. So, if lst has only\n",
    "    #one item, we should just return that one-item list.\n",
    "    \n",
    "    if len(lst) <= 1:\n",
    "        return lst\n",
    "    \n",
    "    #Otherwise, we should call mergesort separately on the\n",
    "    #left and right sides. Since each successive call to\n",
    "    #mergesort sends half as many items, we're guaranteed\n",
    "    #to eventually send it a list with only one item, at\n",
    "    #which point we'll stop calling mergesort again.\n",
    "    else:\n",
    "\n",
    "        #Floor division on the length of the list will\n",
    "        #find us the index of the middle value.\n",
    "        midpoint = len(lst) // 2\n",
    "\n",
    "        #lst[:midpoint] will get the left side of the\n",
    "        #list based on list slicing syntax. So, we want\n",
    "        #to sort the left side of the list alone and\n",
    "        #assign the result to the new smaller list left.\n",
    "        left = mergesort(lst[:midpoint])\n",
    "\n",
    "        #And same for the right side.\n",
    "        right = mergesort(lst[midpoint:])\n",
    "\n",
    "        #So, left and right now hold sorted lists of\n",
    "        #each half of the original list. They might\n",
    "        #each have only one item, or they could each\n",
    "        #have several items.\n",
    "\n",
    "        #Now we want to compare the first items in each\n",
    "        #list one-by-one, adding the smaller to our new\n",
    "        #result list until one list is completely empty.\n",
    "\n",
    "        newlist = []\n",
    "        while len(left) and len(right) > 0:\n",
    "\n",
    "            #If the first number in left is lower, add\n",
    "            #it to the new list and remove it from left\n",
    "            if left[0] < right[0]:\n",
    "                newlist.append(left[0])\n",
    "                del left[0]\n",
    "\n",
    "            #Otherwise, add the first number from right\n",
    "            #to the new list and remove it from right\n",
    "            else:\n",
    "                newlist.append(right[0])\n",
    "                del right[0]\n",
    "\n",
    "        #When the while loop above is done, it means\n",
    "        #one of the two lists is empty. Because both\n",
    "        #lists were sorted, we can now add the remainder\n",
    "        #of each list to the new list. The empty list\n",
    "        #will have no items to add, and the non-empty\n",
    "        #list will add its items in order.\n",
    "\n",
    "        newlist.extend(left)\n",
    "        newlist.extend(right)\n",
    "\n",
    "        #newlist is now the sorted version of lst! So,\n",
    "        #we can return it. If this was a recursive call\n",
    "        #to mergesort, then this sends a sorted half-\n",
    "        #list up the ladder. If this was the original\n",
    "        #call, then this is the final sorted list.\n",
    "\n",
    "        return newlist\n",
    "\n",
    "#Let's try it out!\n",
    "print(mergesort([2, 5, 3, 8, 6, 9, 1, 4, 7]))\n",
    "\n",
    "#It works! To see more about how it works, check out\n",
    "#MergesortwithPrints.py. To get a succinct version of\n",
    "#this algorithm, checkout MergesortShort.py."
   ]
  },
  {
   "cell_type": "code",
   "execution_count": 423,
   "metadata": {},
   "outputs": [
    {
     "name": "stdout",
     "output_type": "stream",
     "text": [
      "[1, 2, 3, 4, 5, 6, 7, 8, 9]\n"
     ]
    }
   ],
   "source": [
    "#Without the explanatory comments, Mergesort is much shorter:\n",
    "def mergesort(lst):\n",
    "    if len(lst) <= 1:\n",
    "        return lst\n",
    "    \n",
    "    else:\n",
    "        midpoint = len(lst) // 2\n",
    "        left = mergesort(lst[:midpoint])\n",
    "        right = mergesort(lst[midpoint:])\n",
    "\n",
    "        newlist = []\n",
    "        while len(left) > 0 and len(right) > 0:\n",
    "            if left[0] < right[0]:\n",
    "                newlist.append(left[0])\n",
    "                del left[0]\n",
    "            else:\n",
    "                newlist.append(right[0])\n",
    "                del right[0]\n",
    "\n",
    "        newlist.extend(left)\n",
    "        newlist.extend(right)\n",
    "\n",
    "        return newlist\n",
    "\n",
    "print(mergesort([2, 5, 3, 8, 6, 9, 1, 4, 7]))"
   ]
  },
  {
   "cell_type": "code",
   "execution_count": 291,
   "metadata": {},
   "outputs": [],
   "source": [
    "def merge_sort(unsorted_ls):\n",
    "    \n",
    "    if len(unsorted_ls) > 1:\n",
    "        \n",
    "        m = len(unsorted_ls) // 2\n",
    "        \n",
    "        left_half = unsorted_ls[:m]\n",
    "        right_half = unsorted_ls[m:]\n",
    "        \n",
    "        merge_sort(left_half)\n",
    "        merge_sort(right_half)\n",
    "        \n",
    "        i = j = k = 0  # track current position\n",
    "        \n",
    "        while i < len(left_half) and j < len(right_half):\n",
    "            if left_half[i] > right_half[j]:\n",
    "                unsorted_ls[k] = right_half[j]\n",
    "                j += 1\n",
    "            else:\n",
    "                unsorted_ls[k] = left_half[i]\n",
    "                i += 1\n",
    "            k += 1\n",
    "\n",
    "        while i < len(left_half):\n",
    "            unsorted_ls[k] = left_half[i]\n",
    "            i += 1\n",
    "            k += 1\n",
    "            \n",
    "        while j < len(right_half):\n",
    "            unsorted_ls[k] = right_half[j]\n",
    "            j += 1\n",
    "            k += 1\n",
    "        "
   ]
  },
  {
   "cell_type": "code",
   "execution_count": 307,
   "metadata": {},
   "outputs": [
    {
     "name": "stdout",
     "output_type": "stream",
     "text": [
      "Before: [3, 44, 38, 5, 47, 15, 36, 26, 27, 1]\n",
      "After: [1, 3, 5, 15, 26, 27, 36, 38, 44, 47]\n"
     ]
    }
   ],
   "source": [
    "print('Before:', numbers)\n",
    "merge_sort(numbers)\n",
    "print('After:', numbers)"
   ]
  },
  {
   "cell_type": "code",
   "execution_count": 309,
   "metadata": {},
   "outputs": [
    {
     "name": "stdout",
     "output_type": "stream",
     "text": [
      "12.9 µs ± 311 ns per loop (mean ± std. dev. of 7 runs, 100000 loops each)\n"
     ]
    }
   ],
   "source": [
    "%timeit merge_sort(numbers)"
   ]
  },
  {
   "cell_type": "markdown",
   "metadata": {},
   "source": [
    "### Sorting algorithm comparison"
   ]
  },
  {
   "cell_type": "code",
   "execution_count": 319,
   "metadata": {},
   "outputs": [],
   "source": [
    "numbers = [*np.random.randint(-100, 100, 100)]"
   ]
  },
  {
   "cell_type": "code",
   "execution_count": 325,
   "metadata": {},
   "outputs": [
    {
     "name": "stdout",
     "output_type": "stream",
     "text": [
      "True\n",
      "True\n",
      "True\n",
      "True\n",
      "True\n"
     ]
    }
   ],
   "source": [
    "print(sorted(numbers) == bubble_sort(numbers))\n",
    "print(sorted(numbers) == selection_sort(numbers))\n",
    "print(sorted(numbers) == insertion_sort(numbers))\n",
    "print(sorted(numbers) == insertionSort(numbers))\n",
    "\n",
    "numbers_copy = numbers[:]\n",
    "merge_sort(numbers_copy)\n",
    "print(sorted(numbers) == numbers_copy)"
   ]
  },
  {
   "cell_type": "code",
   "execution_count": 329,
   "metadata": {},
   "outputs": [
    {
     "name": "stdout",
     "output_type": "stream",
     "text": [
      "1.03 ms ± 109 µs per loop (mean ± std. dev. of 7 runs, 1000 loops each)\n"
     ]
    }
   ],
   "source": [
    "%timeit bubble_sort(numbers)"
   ]
  },
  {
   "cell_type": "code",
   "execution_count": 330,
   "metadata": {},
   "outputs": [
    {
     "name": "stdout",
     "output_type": "stream",
     "text": [
      "514 µs ± 36.3 µs per loop (mean ± std. dev. of 7 runs, 1000 loops each)\n"
     ]
    }
   ],
   "source": [
    "%timeit selection_sort(numbers)"
   ]
  },
  {
   "cell_type": "code",
   "execution_count": 331,
   "metadata": {},
   "outputs": [
    {
     "name": "stdout",
     "output_type": "stream",
     "text": [
      "585 µs ± 46.5 µs per loop (mean ± std. dev. of 7 runs, 1000 loops each)\n"
     ]
    }
   ],
   "source": [
    "%timeit insertion_sort(numbers)"
   ]
  },
  {
   "cell_type": "code",
   "execution_count": 332,
   "metadata": {},
   "outputs": [
    {
     "name": "stdout",
     "output_type": "stream",
     "text": [
      "450 µs ± 33.1 µs per loop (mean ± std. dev. of 7 runs, 1000 loops each)\n"
     ]
    }
   ],
   "source": [
    "%timeit insertionSort(numbers)"
   ]
  },
  {
   "cell_type": "code",
   "execution_count": 333,
   "metadata": {},
   "outputs": [
    {
     "name": "stdout",
     "output_type": "stream",
     "text": [
      "208 µs ± 7.8 µs per loop (mean ± std. dev. of 7 runs, 1000 loops each)\n"
     ]
    }
   ],
   "source": [
    "%timeit merge_sort(numbers)"
   ]
  },
  {
   "cell_type": "markdown",
   "metadata": {},
   "source": [
    "## Search algorithms"
   ]
  },
  {
   "cell_type": "markdown",
   "metadata": {},
   "source": [
    "### Linear search"
   ]
  },
  {
   "cell_type": "code",
   "execution_count": 345,
   "metadata": {},
   "outputs": [
    {
     "data": {
      "text/plain": [
       "52"
      ]
     },
     "execution_count": 345,
     "metadata": {},
     "output_type": "execute_result"
    }
   ],
   "source": [
    "def linear_search(arr, target):\n",
    "    for i in range(len(arr)):\n",
    "        if arr[i] == target:\n",
    "            return i\n",
    "    return -1\n",
    "        \n",
    "linear_search(numbers, 3)        "
   ]
  },
  {
   "cell_type": "code",
   "execution_count": 346,
   "metadata": {},
   "outputs": [
    {
     "name": "stdout",
     "output_type": "stream",
     "text": [
      "9.59 µs ± 572 ns per loop (mean ± std. dev. of 7 runs, 100000 loops each)\n"
     ]
    }
   ],
   "source": [
    "%timeit linear_search(numbers, 3)"
   ]
  },
  {
   "cell_type": "markdown",
   "metadata": {},
   "source": [
    "### Binary search"
   ]
  },
  {
   "cell_type": "code",
   "execution_count": 428,
   "metadata": {},
   "outputs": [
    {
     "data": {
      "text/plain": [
       "52"
      ]
     },
     "execution_count": 428,
     "metadata": {},
     "output_type": "execute_result"
    }
   ],
   "source": [
    "def binary_search(arr, target, l=0, r=0):\n",
    "    if r > 1:\n",
    "        m = l + (r-l) // 2\n",
    "#         print(l, m, r)\n",
    "#         print(target, arr[m])\n",
    "        if target == arr[m]:\n",
    "            return m\n",
    "        \n",
    "        elif target < arr[m]:  # search in the lower half\n",
    "            return binary_search(arr, target, l, m-1)\n",
    "        \n",
    "        elif target > arr[m]:  # search in the upper hlf\n",
    "            return binary_search(arr, target, m+1, r)\n",
    "        \n",
    "    elif arr[r] == target:\n",
    "        return r\n",
    "    \n",
    "    else:\n",
    "        return -1\n",
    "    \n",
    "binary_search(numbers, 3, 0, len(numbers)-1)  "
   ]
  },
  {
   "cell_type": "code",
   "execution_count": 421,
   "metadata": {},
   "outputs": [
    {
     "name": "stdout",
     "output_type": "stream",
     "text": [
      "3.42 µs ± 419 ns per loop (mean ± std. dev. of 7 runs, 100000 loops each)\n"
     ]
    }
   ],
   "source": [
    "%timeit binary_search(numbers, 3, 0, len(numbers)-1)"
   ]
  },
  {
   "cell_type": "markdown",
   "metadata": {},
   "source": [
    "# Chapter review problems"
   ]
  },
  {
   "cell_type": "code",
   "execution_count": 483,
   "metadata": {},
   "outputs": [
    {
     "name": "stdout",
     "output_type": "stream",
     "text": [
      "True\n",
      "True\n",
      "False\n"
     ]
    }
   ],
   "source": [
    "#Write a function called is_palindrome. The function should\n",
    "#have one parameter, a string. The function should return\n",
    "#True if the string is a palindrome, False if not.\n",
    "#\n",
    "#A palindrome is a sequence of letters that is the same\n",
    "#forward and backward. For example, \"racecar\" is a\n",
    "#palindrome. In determining whether a string is a palindrome\n",
    "#or not, you should ignore punctuation, capitalization and\n",
    "#spaces. For example, \"Madam in Eden, I'm Adam\" is a\n",
    "#palindrome.\n",
    "#\n",
    "#You may assume that the only characters in the string will\n",
    "#be letters, spaces, apostrophes, commas, periods, and\n",
    "#question marks.\n",
    "#\n",
    "#Hint: Before checking if the string is a palindrome, get\n",
    "#rid of the spaces and punctuation marks using the replace()\n",
    "#method and convert the entire string to upper or lower\n",
    "#case using the upper() or lower() methods.\n",
    "#\n",
    "#Hint 2: There are multiple ways to do this! If you're stuck\n",
    "#on one way, try a different one. You could use string\n",
    "#slicing, a for loop, or some string methods. Or, try\n",
    "#printing the string at different stages to see what's going\n",
    "#wrong!\n",
    "\n",
    "\n",
    "#Write your function here!\n",
    "def is_palindrome(a_string):\n",
    "    a_string = a_string.lower()\n",
    "    \n",
    "    filtered = ''\n",
    "    for char in a_string:\n",
    "        if ord(char) > 97 and ord(char) < 122:\n",
    "            filtered += char\n",
    "    \n",
    "    if filtered == filtered[::-1]:\n",
    "        return True\n",
    "    else:\n",
    "        return False\n",
    "\n",
    "#Below are some lines of code that will test your function.\n",
    "#You can change the value of the variable(s) to test your\n",
    "#function with different inputs.\n",
    "#\n",
    "#If your function works correctly, this will originally\n",
    "#print: True, True, False, each on their own line.\n",
    "print(is_palindrome(\"racecar\"))\n",
    "print(is_palindrome(\"Madam in Eden, I'm Adam\"))\n",
    "print(is_palindrome(\"Mister in Eden, I'm Eve\"))"
   ]
  },
  {
   "cell_type": "code",
   "execution_count": 484,
   "metadata": {},
   "outputs": [
    {
     "name": "stdout",
     "output_type": "stream",
     "text": [
      "3.98 µs ± 935 ns per loop (mean ± std. dev. of 7 runs, 100000 loops each)\n"
     ]
    }
   ],
   "source": [
    "%timeit is_palindrome(\"Madam in Eden, I'm Adam\")"
   ]
  },
  {
   "cell_type": "code",
   "execution_count": 482,
   "metadata": {},
   "outputs": [
    {
     "name": "stdout",
     "output_type": "stream",
     "text": [
      "45.0\n"
     ]
    }
   ],
   "source": [
    "#Imagine you're writing a program to calculate the class\n",
    "#average from a gradebook. The gradebook is a list of\n",
    "#instances of the Student object.\n",
    "#\n",
    "#You don't know everything that's inside the Student object,\n",
    "#but you know that it has a method called get_grade().\n",
    "#get_grade() will return the average for the student\n",
    "#represented by a given instance of Student.\n",
    "#\n",
    "#You don't know if get_grade() is stored in memory or if\n",
    "#it's calculated when it's needed, but you don't need to.\n",
    "#All you need to know is that the class Student has a method\n",
    "#get_grade() that returns an integer representing the\n",
    "#student's numeric grade.\n",
    "#\n",
    "#Write a function called class_average. class_average()\n",
    "#should take as input a list of instances of Student, and it\n",
    "#should return as output the average grade of those\n",
    "#students, as calculated via their get_grade() method.\n",
    "#Remember, average is the sum of all their individual\n",
    "#grades, divided by the number of students.\n",
    "#\n",
    "#Hint: You do NOT need to write the Student class to\n",
    "#complete this problem. You may if you want to in order to\n",
    "#run and test your code, but when you submit your code for\n",
    "#grading, we will test it with our Student class. Don't let\n",
    "#this throw you off: throughout this course, you've been\n",
    "#using lots of classes without knowing how they work: you\n",
    "#don't know how the String class works, but you know what\n",
    "#its upper() method does. You do not need to know how the\n",
    "#Student class works to use its get_grade() method.\n",
    "\n",
    "\n",
    "#Write your function here!\n",
    "def class_average(students_ls):\n",
    "    total_grade = 0\n",
    "    for student in students_ls:\n",
    "        total_grade += student.get_grade()\n",
    "    \n",
    "    return total_grade/len(students_ls)\n",
    "\n",
    "#If you want to write a Student class to test your code,\n",
    "#you could below, and then add your own test cases below\n",
    "#that. The only requirement you would need to meet is that\n",
    "#your Student class would need to have a get_grade()\n",
    "#method that returns an integer (in addition to any other\n",
    "#usual requirements for classes).\n",
    "\n",
    "class Student:\n",
    "    \n",
    "    def __init__(self, name, age, grade=0):\n",
    "        self.name = name\n",
    "        self.age = age\n",
    "        self.grade = grade\n",
    "    \n",
    "    def get_grade(self):\n",
    "        \n",
    "        return self.grade\n",
    "    \n",
    "students_ls = []\n",
    "for i in range(10):\n",
    "    students_ls.append(Student(str(i)+\"'s student\", i, i*10))\n",
    "    \n",
    "print(class_average(students_ls))"
   ]
  },
  {
   "cell_type": "code",
   "execution_count": 485,
   "metadata": {},
   "outputs": [
    {
     "name": "stdout",
     "output_type": "stream",
     "text": [
      "1\n",
      "2\n",
      "2\n",
      "2097152\n"
     ]
    }
   ],
   "source": [
    "#Remember that Fibonacci's sequence is a sequence of numbers\n",
    "#where every number is the sum of the previous two numbers.\n",
    "#\n",
    "#There exists a variant of Fibonacci's sequence called\n",
    "#Fibonacci's multiplicative sequence. Fibonacci's\n",
    "#multiplicative sequence is identical to Fibonacci's\n",
    "#sequence, except that each number is the PRODUCT of the\n",
    "#previous two numbers instead of the sum. Let's call these\n",
    "#FibMult numbers.\n",
    "#\n",
    "#In order to make this interesting, we set the first two\n",
    "#FibMult numbers to 1 and 2. So, the 1st FibMult number is\n",
    "#1, and the second FibMult number is 2.\n",
    "#\n",
    "#So, here are the first few FibMult numbers:\n",
    "#\n",
    "#         n  = 1 2 3 4 5  6   7    8       9          10\n",
    "# FibMult(n) = 1 2 2 4 8 32 256 8192 2097152 17179869184\n",
    "#\n",
    "#The sequence gets large fast!\n",
    "#\n",
    "#Write the function fib_mult using recursion. fib_mult\n",
    "#takes as input an integer, and returns the FibMult\n",
    "#number corresponding to that integer. For example:\n",
    "#\n",
    "# - fib_mult(1) = 1\n",
    "# - fib_mult(2) = 2\n",
    "# - fib_mult(3) = 2\n",
    "# - fib_mult(9) = 2097152\n",
    "# - fib_mult(12) = 618970019642690137449562112\n",
    "#\n",
    "#fib_mult MUST be implemented recursively.\n",
    "#\n",
    "#Hint: You will actually have two separate base cases,\n",
    "#one for n = 1 and one for n = 2.\n",
    "\n",
    "\n",
    "#Write your code here!\n",
    "def fib_mult(n):\n",
    "    if n < 1:\n",
    "        return -1\n",
    "    else:\n",
    "        if n == 1 or n == 2:\n",
    "            return n\n",
    "        else:\n",
    "            return fib_mult(n-1) * fib_mult(n-2)\n",
    "\n",
    "#The lines below will test your code. If your funciton is\n",
    "#correct, they will print 1, 2, 2, and 2097152.\n",
    "print(fib_mult(1))\n",
    "print(fib_mult(2))\n",
    "print(fib_mult(3))\n",
    "print(fib_mult(9))"
   ]
  },
  {
   "cell_type": "code",
   "execution_count": null,
   "metadata": {},
   "outputs": [],
   "source": []
  }
 ],
 "metadata": {
  "kernelspec": {
   "display_name": "Python 3",
   "language": "python",
   "name": "python3"
  },
  "language_info": {
   "codemirror_mode": {
    "name": "ipython",
    "version": 3
   },
   "file_extension": ".py",
   "mimetype": "text/x-python",
   "name": "python",
   "nbconvert_exporter": "python",
   "pygments_lexer": "ipython3",
   "version": "3.8.6"
  },
  "toc": {
   "base_numbering": 1,
   "nav_menu": {},
   "number_sections": true,
   "sideBar": true,
   "skip_h1_title": false,
   "title_cell": "Table of Contents",
   "title_sidebar": "Contents",
   "toc_cell": false,
   "toc_position": {},
   "toc_section_display": true,
   "toc_window_display": true
  },
  "toc-autonumbering": true,
  "toc-showcode": false,
  "toc-showmarkdowntxt": false,
  "toc-showtags": false
 },
 "nbformat": 4,
 "nbformat_minor": 4
}
