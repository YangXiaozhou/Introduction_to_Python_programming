{
 "cells": [
  {
   "cell_type": "markdown",
   "metadata": {},
   "source": [
    "# Data structures"
   ]
  },
  {
   "cell_type": "markdown",
   "metadata": {},
   "source": [
    "## Data structure\n",
    "\n",
    "### Passing by value vs passing by reference:\n",
    "\n",
    "By value: Giving variable values to functions. Functions can can't change the original value.\n",
    "\n",
    "By reference: Giving variable references to functions. Functions can access and change the original value.\n",
    "\n",
    "### Passing by value vs passing by reference in Python\n",
    "\n",
    "Different languages have different ways of differentiating these two types.\n",
    "\n",
    "- C: variableName (value) vs *variableName (reference)\n",
    "- Java: primitive types (value) vs non-primitive types (reference) \n",
    "\n",
    "Python seems to handle everything via pass-by-value. \n",
    "\n",
    "- However, not all types of data are passed by value, e.g., integers, strings.\n",
    "- The key to discern Python's behavior is: Mutability of the data type. "
   ]
  },
  {
   "cell_type": "markdown",
   "metadata": {},
   "source": [
    "### Mutability in Python\n",
    "\n",
    "Mutability: Whether or not a variable's value can change after being declared.  \n",
    "\n",
    "In general, all variables in Python are passed by reference. However, only values of mutable data types can be changed, e.g., `list`, `set`, and `dict`. Immutable data types in Python include: `int`, `float`, `tuple`, `bool`, and `str`. "
   ]
  },
  {
   "cell_type": "code",
   "execution_count": 6,
   "metadata": {},
   "outputs": [],
   "source": [
    "# What is the value of `a` and `b`?\n",
    "\n",
    "# When a and b are integers\n",
    "a = 10\n",
    "b = a\n",
    "a *= 2\n",
    "b -= 5\n",
    "\n",
    "print(a)\n",
    "print(b)"
   ]
  },
  {
   "cell_type": "code",
   "execution_count": 29,
   "metadata": {},
   "outputs": [],
   "source": [
    "# What's really going on?\n",
    "a = 10\n",
    "b = a\n",
    "\n",
    "print(id(a), id(b))"
   ]
  },
  {
   "cell_type": "code",
   "execution_count": 31,
   "metadata": {},
   "outputs": [
    {
     "name": "stdout",
     "output_type": "stream",
     "text": [
      "4310747936 4310747616\n"
     ]
    }
   ],
   "source": [
    "a *= 2\n",
    "print(id(a), id(b))"
   ]
  },
  {
   "cell_type": "code",
   "execution_count": 32,
   "metadata": {},
   "outputs": [
    {
     "name": "stdout",
     "output_type": "stream",
     "text": [
      "4310747936 4310747456\n"
     ]
    }
   ],
   "source": [
    "b -= 5\n",
    "print(id(a), id(b))"
   ]
  },
  {
   "cell_type": "code",
   "execution_count": 33,
   "metadata": {},
   "outputs": [
    {
     "name": "stdout",
     "output_type": "stream",
     "text": [
      "20\n",
      "5\n"
     ]
    }
   ],
   "source": [
    "print(a)\n",
    "print(b)"
   ]
  },
  {
   "cell_type": "code",
   "execution_count": 10,
   "metadata": {},
   "outputs": [
    {
     "name": "stdout",
     "output_type": "stream",
     "text": [
      "['A', 'B', 'C', 'Z', 'A']\n",
      "True\n"
     ]
    }
   ],
   "source": [
    "# When a and b are lists\n",
    "a = [\"C\", \"B\", \"A\"]\n",
    "b = a\n",
    "a.append(\"Z\")\n",
    "b.sort()\n",
    "b.append(\"A\")\n",
    "\n",
    "print(a)\n",
    "print(a == b)"
   ]
  },
  {
   "cell_type": "markdown",
   "metadata": {},
   "source": [
    "How Python actually work for immutable data types?\n",
    "\n",
    "- `my_int = 5`: Python grabs a memory spot and stores '5' in that spot. `my_int` is asked to point to that memory spot with `id(my_int)`. \n",
    "- `my_int_2 = my_int`: Python asks `my_int_2` point to the same memory spot as `my_int`.\n",
    "- `my_int_2 = my_int_2 + 1`: Python creates a new value '6' and grabs a new memory spot to store it. Then it asks `my_int_2` point to the new memory spot as '6' is an immutable data type. \n",
    "\n",
    "Basically, for immutable data types, when Python is asked to change its value, it does not change it on the spot. It stores the new value at a new memory location and asks the variable point to the new location instead. Therefore:\n",
    "\n",
    "- Identical values have identical memory address for immutable data types.\n",
    "- Each new variable has a new memory address for mutable data types, regardless of the value. "
   ]
  },
  {
   "cell_type": "code",
   "execution_count": 17,
   "metadata": {},
   "outputs": [
    {
     "name": "stdout",
     "output_type": "stream",
     "text": [
      "True\n",
      "False\n"
     ]
    }
   ],
   "source": [
    "a = 2\n",
    "b = 2\n",
    "print(id(a) == id(b))\n",
    "\n",
    "a = ['a']\n",
    "b = ['a']\n",
    "print(id(a) == id(b))"
   ]
  },
  {
   "cell_type": "markdown",
   "metadata": {},
   "source": [
    "## Strings\n",
    "\n",
    "### What are strings?\n",
    "\n",
    "Some relevant concepts:\n",
    "\n",
    "- String: A data structure that holds a list, or string of characters, e.g., `\"Hellow world!\"`.\n",
    "- Character: A single letter, number, symbol, or special character, e.g., `\"$\"`.\n",
    "- Unicode: A computing industry standard that sets the correspondence between hexadecimal codes and characters, e.g., `U+0024` means `$`.\n",
    "- Special characters in programming: new line character, tab, etc.\n",
    "\n",
    "The true complexity lies in trying to teach computers that way we human view and use these strings of characters. For example, how do we teach computers the concepts of\n",
    "\n",
    "- Ordering: `'A' < 'B'`, `'Aa' < 'Ab'`. \n",
    "- Capitalization: To capitalize a sentence means `\"Do this instead\"` ->  `\"Do This Instead\".`\n",
    "- Cases: Recognize different cases, and conversion between different cases."
   ]
  },
  {
   "cell_type": "markdown",
   "metadata": {},
   "source": [
    "### Declaring strings in Python\n",
    "\n",
    "Python seeks the start and end of the string by matching `'`, `\"`, or `'''` characters:\n",
    "\n",
    "- A normal string: `a = \"a string\"` or `a = 'a string'`\n",
    "- A string with quotation: `a = \"'a string'\"` or `a = '\"a string\"'`\n",
    "- A string with double quotation: `a = ''' \" 'a string' \" '''`"
   ]
  },
  {
   "cell_type": "code",
   "execution_count": 36,
   "metadata": {},
   "outputs": [
    {
     "name": "stdout",
     "output_type": "stream",
     "text": [
      "a normal string\n",
      "'a quotation'\n",
      " \" 'a double quotation' \" \n"
     ]
    }
   ],
   "source": [
    "a = 'a normal string'\n",
    "print(a)\n",
    "\n",
    "a = \"'a quotation'\"\n",
    "print(a)\n",
    "\n",
    "a = ''' \" 'a double quotation' \" '''\n",
    "print(a)"
   ]
  },
  {
   "cell_type": "markdown",
   "metadata": {},
   "source": [
    "However, we would run into trouble if we wish to declare special characters such as the new line character `\\n` or the tab character `\\t`. The trick is to use `\\` as the escape character. It tells the computer to treat these special characters as normal, e.g, `'\\\\n'`, `'\\\\t'`. "
   ]
  },
  {
   "cell_type": "code",
   "execution_count": 48,
   "metadata": {},
   "outputs": [
    {
     "name": "stdout",
     "output_type": "stream",
     "text": [
      "A tab \t is here. And a new line \n",
      " is here.\n",
      "A tab \\t is here. And a new line \\n is here.\n"
     ]
    }
   ],
   "source": [
    "a = 'A tab \\t is here. And a new line \\n is here.'\n",
    "b = 'A tab \\\\t is here. And a new line \\\\n is here.'\n",
    "print(a)\n",
    "print(b)"
   ]
  },
  {
   "cell_type": "markdown",
   "metadata": {},
   "source": [
    "### String concatenation and slicing in Python\n",
    "\n",
    "Two of the commonly used operations on strings are concatenation and slicing. \n",
    "\n",
    "Concatenation: Put two or more strings together to form a new one.\n",
    "\n",
    "- `my_string_1 + my_string_2`\n",
    "- `\"a string\" + my_string_1`\n",
    "- `my_string_1 += my_string_2`\n",
    "\n",
    "Slicing: Obstain substrings from a string in Python.\n",
    "\n",
    "- Using single index: `[index]`\n",
    "    - `[0]` gets the first, `[-1]`gets the last, and `[i]` gets the (i+1)th character.\n",
    "    - Zero-based indexing: In early computing age, a variable name points to the first item in the string/list. The index means \"how many items do I skip in order to get the target item\", e.g., `[3]` says skipping three items from the first tiem, i.e., to obtain the fourth item. \n",
    "- Using index range: `[start:end]`, `[start:]`, `[:end]`, `[start:end:space]`\n",
    "    - Start from the item at index `start` and get a substring with length `end - start`. \n",
    "    - Use `space` to get alternate characters, e.g. `[::2]` gets all items at even index. \n",
    "- Using negative index\n",
    "    - `[-n:]`: Starts from the $n$th item from the end.\n",
    "    - `[:-n]`: Ends at the $n$th item from the end."
   ]
  },
  {
   "cell_type": "code",
   "execution_count": 55,
   "metadata": {},
   "outputs": [
    {
     "name": "stdout",
     "output_type": "stream",
     "text": [
      "First string; Second string\n",
      "F\n",
      "First\n",
      "string\n"
     ]
    }
   ],
   "source": [
    "my_string_1 = 'First string'\n",
    "my_string_2 = 'Second string'\n",
    "print(my_string_1 + '; ' + my_string_2)\n",
    "\n",
    "print(my_string_1[0])\n",
    "print(my_string_1[:5])\n",
    "print(my_string_1[-6:])"
   ]
  },
  {
   "cell_type": "markdown",
   "metadata": {},
   "source": [
    "### String searching\n",
    "\n",
    "Another commonly used operation is searching a certain substring in another string. For example, we would like to know if `my_string_1` is contained in `my_string_2`. \n",
    "\n",
    "- Using Python keyword `in` and `not in` for a boolean answer.\n",
    "    - `'David' in \"Today is David's birthday\"` would give `True`\n",
    "    - `'star' not in 'A lot of stairs' ` would also give `True`\n",
    "- Using `find()`: A method defined for the string data type, e.g., `my_string_1.find('star')`.\n",
    "    - Find the index of the first instance of the substring. If not found, `-1` is returned.\n",
    "    - We could specify the start and end of the original string to conduct the search.\n",
    "- Using `count()`\n",
    "    - Count the number of times a substring is found in a string."
   ]
  },
  {
   "cell_type": "code",
   "execution_count": 61,
   "metadata": {},
   "outputs": [
    {
     "name": "stdout",
     "output_type": "stream",
     "text": [
      "True\n",
      "True\n",
      "6\n",
      "2\n"
     ]
    }
   ],
   "source": [
    "print('David' in \"Today is David's birthday\")\n",
    "print('star' not in 'A lot of stairs')\n",
    "print(my_string_1.find('string'))\n",
    "print(my_string_1.count('s'))"
   ]
  },
  {
   "cell_type": "markdown",
   "metadata": {},
   "source": [
    "### Useful string methods in Python\n",
    "\n",
    "There are some other useful methods that we could use on strings in Python.\n",
    "\n",
    "- `split(separator)`: Split a string into a list of substrings using the separator.\n",
    "- Case conversion: Convert a string to a different case.\n",
    "    - `capitalize()`\n",
    "    - `lower()`\n",
    "    - `upper()`\n",
    "    - `title()`\n",
    "- `strip(char)`: Strip out all characters of `char` in a string.\n",
    "- `replace(old, new)`: Replace all `old` substrings with `new` substrings in a string.\n",
    "- `\"-\".join(a_list)`: Use \"-\" to join all string items in a list and form a new string. "
   ]
  },
  {
   "cell_type": "code",
   "execution_count": 73,
   "metadata": {},
   "outputs": [
    {
     "name": "stdout",
     "output_type": "stream",
     "text": [
      "['First', 'string']\n",
      "First String\n",
      "irst string\n",
      "FirMt Mtring\n",
      "Chandler & Joey & Ross\n"
     ]
    }
   ],
   "source": [
    "print(my_string_1.split(\" \"))\n",
    "print(my_string_1.title())\n",
    "print(my_string_1.strip(\"F\"))\n",
    "print(my_string_1.replace('s', 'M'))\n",
    "print('&'.join(['Chandler ', ' Joey ', ' Ross']))"
   ]
  },
  {
   "cell_type": "markdown",
   "metadata": {},
   "source": [
    "### Practice problems"
   ]
  },
  {
   "cell_type": "code",
   "execution_count": 1,
   "metadata": {},
   "outputs": [
    {
     "name": "stdout",
     "output_type": "stream",
     "text": [
      "words!\n",
      "\n",
      "as he is doing right now\n",
      "\n",
      "\n"
     ]
    }
   ],
   "source": [
    "\"\"\"Write a function called \"in_parentheses\"\n",
    "that accept a single argument, a string\n",
    "representing a sentence that contains some\n",
    "strings in parentheses. Your function should\n",
    "return the contents of the parentheses.\n",
    "\n",
    "If no text appears in parentheses, return an\n",
    "empty string. \n",
    "\n",
    "You may assume there won't be multiple open\n",
    "closed parentheses.\n",
    "\"\"\"\n",
    "\n",
    "# Conditional\n",
    "def in_parentheses(a_string):\n",
    "    # Check proper parenthesis\n",
    "    if '(' not in a_string or ')' not in a_string:\n",
    "        return \"\"\n",
    "    \n",
    "    start_ix = a_string.find('(')\n",
    "    end_ix = a_string.find(')')    \n",
    "    \n",
    "    return a_string[start_ix+1:end_ix]\n",
    "\n",
    "# Error-handling\n",
    "def in_parentheses(a_string):\n",
    "    try:    \n",
    "        return a_string[a_string.index('(')+1:a_string.index(')')]\n",
    "    except ValueError:\n",
    "        return \"\"   \n",
    "\n",
    "print(in_parentheses(\"This is a sentence (words!).\"))\n",
    "print(in_parentheses(\"No parentheses here!\"))\n",
    "print(in_parentheses(\"David tends to use parentheses a lot (as he is doing right now). \\\n",
    "                     It tends to be quite annoying\"))\n",
    "print(in_parentheses(\"Open ( only.\"))\n",
    "print(in_parentheses(\"Close ) only.\"))"
   ]
  },
  {
   "cell_type": "code",
   "execution_count": 22,
   "metadata": {},
   "outputs": [
    {
     "name": "stdout",
     "output_type": "stream",
     "text": [
      "empty\n",
      "character\n",
      "word\n",
      "sentence\n",
      "paragraph\n",
      "page\n"
     ]
    }
   ],
   "source": [
    "\"\"\"Write a function called 'string_type' which\n",
    "accepts one string argument and determines what type\n",
    "of string it it.\n",
    "\n",
    "- If a string is empty, return \"empty\".\n",
    "- If it is a character, return \"character\".\n",
    "- If it is a word, return \"word\". It is a word if \n",
    "    there's no space in it.\n",
    "- If it is a sentence, return \"sentence\". It is a \n",
    "    sentence if it contains spaces, but at most one period.\n",
    "- If it is a paragraph, return \"paragraph\". It is a \n",
    "    paragraph if it contains spaces and multiple periods.\n",
    "- If it has multiple paragraphs, return \"page\". It has\n",
    "    multiple paragraphs when there's new line character.\n",
    "\"\"\"\n",
    "\n",
    "def string_type(a_string):\n",
    "    \n",
    "    if a_string == \"\":\n",
    "        return 'empty'\n",
    "    elif len(a_string) == 1:\n",
    "        return 'character'\n",
    "    elif ' ' not in a_string:\n",
    "        return 'word'\n",
    "    elif '\\n' in a_string:\n",
    "        return 'page'\n",
    "    \n",
    "    no_of_period = a_string.count('.')\n",
    "    \n",
    "    if no_of_period <= 1:\n",
    "        return 'sentence'\n",
    "    else:\n",
    "        return 'paragraph'\n",
    "    \n",
    "    return \n",
    "\n",
    "\n",
    "print(string_type(\"\"))\n",
    "print(string_type(\"!\"))\n",
    "print(string_type(\"CS101.\"))\n",
    "print(string_type(\"There are too many cases!\"))\n",
    "print(string_type(\"There're way too many ostriches. Why are there  \\\n",
    "                  so many ostriches. The brochure said there'd only be a few ostriches.\"))\n",
    "print(string_type(\"Paragraphs need to have multiple sentences. That's true. \\\n",
    "                  \\nHowever, two is enough. Yes, two sentences can make a paragraph.\"))"
   ]
  },
  {
   "cell_type": "code",
   "execution_count": 56,
   "metadata": {},
   "outputs": [
    {
     "name": "stdout",
     "output_type": "stream",
     "text": [
      "kenjen6\n",
      "spncurry12\n",
      "徳川家康4\n"
     ]
    }
   ],
   "source": [
    "\"\"\"Write a function called create_username that takes a string \n",
    "representing a name as its only parameter. The goal of the function\n",
    "is to return a string username the represents the input name under\n",
    "these conditions:\n",
    "\n",
    "1. The user name starts with first, middle, and last letter of the\n",
    "person's first name. If the first name is has three or fewer letters,\n",
    "use the whole first time. If the number of letters in the first name\n",
    "is even, the middle letter should be the last letter of the first \n",
    "half of the first name. This should be followed by the last name.\n",
    "\n",
    "2. The name portion should be followed by an integer representing \n",
    "the length of the person's name.\n",
    "\n",
    "3. The letters in the username should be lowercase. \n",
    "\n",
    "Note: \n",
    "We can assume the input name is of the formate \"first last\".\n",
    "Do not use split() method.\n",
    "\"\"\"\n",
    "\n",
    "def create_username(user_input):\n",
    "    first = user_input[:user_input.find(' ')]\n",
    "    last = user_input[user_input.find(' ')+1:]\n",
    "    \n",
    "    username = ''\n",
    "    if len(first) <= 3:\n",
    "        username += first\n",
    "    else:\n",
    "        username = first[0] + first[(len(first) - 1) // 2] + first[-1]\n",
    "        \n",
    "    username += last\n",
    "    username += str(len(user_input) - 1)\n",
    "    username = username.lower()\n",
    "    \n",
    "    return username\n",
    "\n",
    "print(create_username('Ken Jen'))\n",
    "print(create_username('Stephen Curry'))\n",
    "print(create_username('徳川 家康'))"
   ]
  },
  {
   "cell_type": "markdown",
   "metadata": {},
   "source": [
    "## List-list structures\n",
    "\n",
    "A type of data structure that holds multiple individual values under one variable name, accessed by numeric indices. Examples in Python include tuple, e.g., `(1,2,'cat',6)`, and list, e.g., `['a', 2, 'b']`.\n",
    "\n",
    "- Tuple: An immutable form of list-like structure.\n",
    "- List: A mutable form of list-like strcutre. \n",
    "\n",
    "Both of them support holding non-homogenous data types, e.g., a tuple has both integers and strings.\n",
    "\n",
    "### Tuples in Python\n",
    "\n",
    "There are two ways which we can use to access items in a tuple:\n",
    "\n",
    "- Using index: Exactly like how we use indices to access substrings in strings.\n",
    "- Using unpacking technique: `(a, b, c, d) = a_tuple`. \n",
    "\n",
    "Usefulness of tuple: Return multiple items from a function, e.g., `return (a,b,c,d)`. "
   ]
  },
  {
   "cell_type": "code",
   "execution_count": 80,
   "metadata": {},
   "outputs": [
    {
     "name": "stdout",
     "output_type": "stream",
     "text": [
      "(1, 'a')\n",
      "('b', 'c')\n",
      "1 a\n",
      "('b', 'c')\n",
      "1 0\n"
     ]
    }
   ],
   "source": [
    "a_tuple = (1, 'a', ('b', 'c'))\n",
    "\n",
    "print(a_tuple[:2])\n",
    "print(a_tuple[-1])\n",
    "\n",
    "a, b, c = a_tuple\n",
    "print(a, b)\n",
    "print(c)\n",
    "\n",
    "def a_function():\n",
    "    a = 1\n",
    "    b = 0\n",
    "    return (a, b)\n",
    "\n",
    "a, b = a_function()\n",
    "print(a, b)"
   ]
  },
  {
   "cell_type": "code",
   "execution_count": 84,
   "metadata": {},
   "outputs": [
    {
     "ename": "TypeError",
     "evalue": "'tuple' object does not support item assignment",
     "output_type": "error",
     "traceback": [
      "\u001b[0;31m---------------------------------------------------------------------------\u001b[0m",
      "\u001b[0;31mTypeError\u001b[0m                                 Traceback (most recent call last)",
      "\u001b[0;32m<ipython-input-84-e0961dbdd199>\u001b[0m in \u001b[0;36m<module>\u001b[0;34m\u001b[0m\n\u001b[1;32m      1\u001b[0m \u001b[0;31m# Tuple is an immutable data type\u001b[0m\u001b[0;34m\u001b[0m\u001b[0;34m\u001b[0m\u001b[0;34m\u001b[0m\u001b[0m\n\u001b[0;32m----> 2\u001b[0;31m \u001b[0ma_tuple\u001b[0m\u001b[0;34m[\u001b[0m\u001b[0;36m0\u001b[0m\u001b[0;34m]\u001b[0m \u001b[0;34m=\u001b[0m \u001b[0;36m2\u001b[0m\u001b[0;34m\u001b[0m\u001b[0;34m\u001b[0m\u001b[0m\n\u001b[0m",
      "\u001b[0;31mTypeError\u001b[0m: 'tuple' object does not support item assignment"
     ]
    }
   ],
   "source": [
    "# Tuple is an immutable data type\n",
    "a_tuple[0] = 2"
   ]
  },
  {
   "cell_type": "markdown",
   "metadata": {},
   "source": [
    "### Lists in Python\n",
    "\n",
    "Lists are much more commonly used in Python programming. All the things that work with tuples as mention previously work with lists. The big difference is that lists are mutable. Hence we can do all sorts of operations on lists. For example, here are some common ones:\n",
    "\n",
    "- `a_list.sort()`: Sort the items in `a_list`, default in ascending order. \n",
    "- `a_list.reverse()`: Reverse the order of the items.\n",
    "- `del a_list[i:j]`: Delete `j-i` items from `a_list ` starting from index `i`.\n",
    "- `a_list.remove(x)`: Delete item `x` from `a_list`.\n",
    "- `a_list[i] = x`: Assignment value of `x` to the list item at index `i`."
   ]
  },
  {
   "cell_type": "code",
   "execution_count": 92,
   "metadata": {},
   "outputs": [
    {
     "name": "stdout",
     "output_type": "stream",
     "text": [
      "[178, 81, 75.0, 4, 3.141592653589793, 3]\n"
     ]
    }
   ],
   "source": [
    "#Write a function called modify_list. modify_list will\n",
    "#take one parameter, a list. It should then modify the\n",
    "#list in the following ways, in this order:\n",
    "#\n",
    "# - Sort the list (using the default sort method).\n",
    "# - Reverse the order of the list.\n",
    "# - Delete the last three items of the list.\n",
    "# - Removes one instance the integer 7 from the list, if\n",
    "#   it's present.\n",
    "# - Double the values of the first and third items in\n",
    "#   the list.\n",
    "#\n",
    "#It should then return the resulting list. You may assume\n",
    "#the list will start with at least six items.\n",
    "#\n",
    "#Hint: Remember Python is 0-indexed. The second item\n",
    "#does not have an index of 2.\n",
    "#\n",
    "#Hint 2: Remember, the list.remove() function removes items\n",
    "#by value, not by index. Note also that if the item you're\n",
    "#trying to remove is not found in the list, remove() will\n",
    "#throw an error: so, you'll want to avoid that one way or\n",
    "#another!\n",
    "\n",
    "\n",
    "#Write your code here!\n",
    "def modify_list(a_list):\n",
    "    a_list.sort()\n",
    "    a_list.reverse()\n",
    "    del a_list[-3:]\n",
    "    if 7 in a_list:\n",
    "        a_list.remove(7)\n",
    "    a_list[0] = a_list[0] * 2\n",
    "    a_list[2] = a_list[2] * 2\n",
    "\n",
    "    return a_list                                \n",
    "\n",
    "#Below are some lines of code that will test your function.\n",
    "#You can change the value of the variable(s) to test your\n",
    "#function with different inputs.\n",
    "#\n",
    "#If your function works correctly, this will originally\n",
    "#print:\n",
    "#[178, 81, 75.0, 4, 3.141592653589793, 3]\n",
    "import math\n",
    "print(modify_list([7, 4, 3, 2.0, 81, 37.5, 89, math.pi, -2, math.e]))"
   ]
  },
  {
   "cell_type": "code",
   "execution_count": 6,
   "metadata": {},
   "outputs": [
    {
     "name": "stdout",
     "output_type": "stream",
     "text": [
      "78\n"
     ]
    }
   ],
   "source": [
    "#Write a function called sum_lists. sum_lists should take\n",
    "#one parameter, which will be a list of lists of integers.\n",
    "#sum_lists should return the sum of adding every number from\n",
    "#every list.\n",
    "#\n",
    "#For example:\n",
    "#\n",
    "# list_of_lists = [[1, 2, 3, 4], [5, 6, 7, 8], [9, 10, 11, 12]]\n",
    "# sum_list(list_of_lists) -> 67\n",
    "\n",
    "\n",
    "#Add your code here!\n",
    "def sum_lists(ls_integers):\n",
    "    result = 0\n",
    "    for ls in ls_integers:\n",
    "        result += sum(ls)\n",
    "    return result\n",
    "\n",
    "\n",
    "#Below are some lines of code that will test your function.\n",
    "#You can change the value of the variable(s) to test your\n",
    "#function with different inputs.\n",
    "#\n",
    "#If your function works correctly, this will originally\n",
    "#print: 78\n",
    "list_of_lists = [[1, 2, 3, 4], [5, 6, 7, 8], [9, 10, 11, 12]]\n",
    "print(sum_lists(list_of_lists))"
   ]
  },
  {
   "cell_type": "markdown",
   "metadata": {},
   "source": [
    "### Advanced list-like structures\n",
    "\n",
    "There are more types of list-like structures that have specific advantage for certain applications. They are usually lists with certain restrictions on how items can be accessed or modified. \n",
    "\n",
    "- Stacks\n",
    "    - Only the most recently added item can be accessed. Each subsequent item is accessed by  removing the next recently added one. In inventory management language, it's called first in last out, like stacks of finished goods.\n",
    "    - One example is the code execution sequence in procedural programming. \n",
    "- Queues\n",
    "    - Items added first are accessed first. Each subsequent item is accessed by removing the previous one. This is also called first in first out, like queues of customers. \n",
    "- Linked-lists\n",
    "    - Linked-lists are different from other lists where each item has an index and can be accessed via a sequence of indices. \n",
    "    - The location of an item in a linked-list is only contained in the previous item in the list. "
   ]
  },
  {
   "cell_type": "markdown",
   "metadata": {},
   "source": [
    "### Advanced list operations\n",
    "\n",
    "[18 Most Common Python List Questions](https://www.datacamp.com/community/tutorials/18-most-common-python-list-questions-learn-python#gs.=H0VpEs)"
   ]
  },
  {
   "cell_type": "markdown",
   "metadata": {},
   "source": [
    "#### Convert lists to dictionaries"
   ]
  },
  {
   "cell_type": "code",
   "execution_count": 87,
   "metadata": {},
   "outputs": [
    {
     "data": {
      "text/plain": [
       "{'hello': 'world', '1': '2'}"
      ]
     },
     "execution_count": 87,
     "metadata": {},
     "output_type": "execute_result"
    }
   ],
   "source": [
    "helloWorld = ['hello','world','1','2']\n",
    "dict(zip(helloWorld[::2], helloWorld[1::2]))"
   ]
  },
  {
   "cell_type": "code",
   "execution_count": 88,
   "metadata": {},
   "outputs": [
    {
     "name": "stdout",
     "output_type": "stream",
     "text": [
      "{1: 2, 3: 4}\n"
     ]
    }
   ],
   "source": [
    "a = [1, 2, 3, 4, 5]\n",
    "\n",
    "# Create a list iterator object\n",
    "i = iter(a)\n",
    "\n",
    "# Zip and create a dictionary\n",
    "print(dict(zip(i, i)))"
   ]
  },
  {
   "cell_type": "markdown",
   "metadata": {},
   "source": [
    "#### append() vs extend() vs list concatenation/+"
   ]
  },
  {
   "cell_type": "code",
   "execution_count": 91,
   "metadata": {},
   "outputs": [
    {
     "name": "stdout",
     "output_type": "stream",
     "text": [
      "[1, [4, 5]]\n",
      "[1, 4, 5]\n",
      "[1, [4, 5], 4, 5]\n"
     ]
    }
   ],
   "source": [
    "# Append [4,5] to `shortList`\n",
    "shortList = [1]\n",
    "\n",
    "shortList.append([4, 5])\n",
    "\n",
    "# Use the print() method to show shortList\n",
    "print(shortList)\n",
    "\n",
    "# Extend `longerList` with [4,5]\n",
    "longerList = [1]\n",
    "longerList.extend([4, 5])\n",
    "\n",
    "# Use the print() method to see longerList\n",
    "print(longerList)\n",
    "\n",
    "# Concatenate `shortList` with `[4,5]`\n",
    "plusList = shortList + [4,5]\n",
    "\n",
    "#Use the `print()` method to see `plusList`\n",
    "print(plusList)"
   ]
  },
  {
   "cell_type": "markdown",
   "metadata": {},
   "source": [
    "#### Shallow vs deep copy of objects\n",
    "\n",
    "[Shallow vs Deep Copying of Python Objects](https://realpython.com/copying-python-objects/)"
   ]
  },
  {
   "cell_type": "code",
   "execution_count": 111,
   "metadata": {},
   "outputs": [
    {
     "name": "stdout",
     "output_type": "stream",
     "text": [
      "['c', 'b', ['ab', 'd']]\n",
      "['a', 'b', ['ab', 'd']]\n"
     ]
    }
   ],
   "source": [
    "# This is your list\n",
    "objectList = ['a','b',['ab','ba']]\n",
    "\n",
    "# Copy the `objectList`\n",
    "\n",
    "# copiedList = objectList[:] # one way of shallow copy\n",
    "copiedList = list(objectList) # another way of shallow copy\n",
    "\n",
    "# Change the first list element of `copiedList`\n",
    "copiedList[0] = 'c'\n",
    "\n",
    "# Go to the third element (the nested list) and change the second element\n",
    "copiedList[2][1] = 'd'\n",
    "\n",
    "# Print out the original list to see what happened to it\n",
    "print(copiedList)\n",
    "print(objectList)"
   ]
  },
  {
   "cell_type": "code",
   "execution_count": 112,
   "metadata": {},
   "outputs": [],
   "source": [
    "import copy"
   ]
  },
  {
   "cell_type": "code",
   "execution_count": 113,
   "metadata": {},
   "outputs": [
    {
     "name": "stdout",
     "output_type": "stream",
     "text": [
      "['c', 'b', ['ab', 'd']]\n",
      "['a', 'b', ['ab', 'd']]\n"
     ]
    }
   ],
   "source": [
    "objectList = ['a','b',['ab','ba']]\n",
    "\n",
    "# Copy the `objectList`\n",
    "copiedList = copy.copy(objectList)\n",
    "\n",
    "copiedList[0] = 'c'\n",
    "copiedList[2][1] = 'd'\n",
    "\n",
    "print(copiedList)\n",
    "print(objectList)"
   ]
  },
  {
   "cell_type": "code",
   "execution_count": 114,
   "metadata": {},
   "outputs": [
    {
     "name": "stdout",
     "output_type": "stream",
     "text": [
      "['c', 'b', ['ab', 'd']]\n",
      "['a', 'b', ['ab', 'ba']]\n"
     ]
    }
   ],
   "source": [
    "objectList = ['a','b',['ab','ba']]\n",
    "\n",
    "# Copy the `objectList`\n",
    "copiedList = copy.deepcopy(objectList)\n",
    "\n",
    "copiedList[0] = 'c'\n",
    "copiedList[2][1] = 'd'\n",
    "\n",
    "print(copiedList)\n",
    "print(objectList)"
   ]
  },
  {
   "cell_type": "markdown",
   "metadata": {},
   "source": [
    "#### Counting every element is a list"
   ]
  },
  {
   "cell_type": "code",
   "execution_count": 132,
   "metadata": {},
   "outputs": [
    {
     "name": "stdout",
     "output_type": "stream",
     "text": [
      "['a', 'b', 'c', 'd', 'e', 'j', 'f', 'k', 'l', 'a', 'd', 'm', 'a', 'w', 'm']\n"
     ]
    }
   ],
   "source": [
    "string = 'a b c d e j f k l a d m a w m'\n",
    "string = string.split()\n",
    "print(string)"
   ]
  },
  {
   "cell_type": "code",
   "execution_count": 129,
   "metadata": {},
   "outputs": [
    {
     "name": "stdout",
     "output_type": "stream",
     "text": [
      "4.93 µs ± 476 ns per loop (mean ± std. dev. of 7 runs, 100000 loops each)\n"
     ]
    }
   ],
   "source": [
    "%timeit [[x,string.count(x)] for x in set(string)]"
   ]
  },
  {
   "cell_type": "code",
   "execution_count": 123,
   "metadata": {},
   "outputs": [],
   "source": [
    "from collections import Counter"
   ]
  },
  {
   "cell_type": "code",
   "execution_count": 130,
   "metadata": {},
   "outputs": [
    {
     "name": "stdout",
     "output_type": "stream",
     "text": [
      "1.96 µs ± 83.5 ns per loop (mean ± std. dev. of 7 runs, 100000 loops each)\n"
     ]
    }
   ],
   "source": [
    "%timeit Counter(string)"
   ]
  },
  {
   "cell_type": "code",
   "execution_count": 134,
   "metadata": {},
   "outputs": [
    {
     "data": {
      "text/plain": [
       "[(1, 2, 3), (4, 5, 6), (7, 8, 9)]"
      ]
     },
     "execution_count": 134,
     "metadata": {},
     "output_type": "execute_result"
    }
   ],
   "source": [
    "# Your list `x`\n",
    "x = [1,2,3,4,5,6,7,8,9]\n",
    "\n",
    "# Split `x` up in chunks of 3\n",
    "y = zip(*[iter(x)]*3)\n",
    "\n",
    "# Use `list()` to print the result of `zip()`\n",
    "list(y)"
   ]
  },
  {
   "cell_type": "markdown",
   "metadata": {},
   "source": [
    "#### Flattening list of lists"
   ]
  },
  {
   "cell_type": "code",
   "execution_count": 162,
   "metadata": {},
   "outputs": [],
   "source": [
    "# Your initial list of lists\n",
    "ls = [['2', 2, 3], [4, 5, 6], [7, 8, 9]]"
   ]
  },
  {
   "cell_type": "code",
   "execution_count": 146,
   "metadata": {},
   "outputs": [],
   "source": [
    "from functools import reduce"
   ]
  },
  {
   "cell_type": "code",
   "execution_count": 163,
   "metadata": {},
   "outputs": [
    {
     "data": {
      "text/plain": [
       "['2', 2, 3, 4, 5, 6, 7, 8, 9]"
      ]
     },
     "execution_count": 163,
     "metadata": {},
     "output_type": "execute_result"
    }
   ],
   "source": [
    "[item for sublist in ls for item in sublist]"
   ]
  },
  {
   "cell_type": "code",
   "execution_count": 164,
   "metadata": {},
   "outputs": [
    {
     "data": {
      "text/plain": [
       "['2', 2, 3, 4, 5, 6, 7, 8, 9]"
      ]
     },
     "execution_count": 164,
     "metadata": {},
     "output_type": "execute_result"
    }
   ],
   "source": [
    "reduce(lambda x,y: x + y,ls)"
   ]
  },
  {
   "cell_type": "code",
   "execution_count": 167,
   "metadata": {},
   "outputs": [
    {
     "data": {
      "text/plain": [
       "['2', 2, 3, 4, 5, 6, 7, 8, 9]"
      ]
     },
     "execution_count": 167,
     "metadata": {},
     "output_type": "execute_result"
    }
   ],
   "source": [
    "sum(ls, [])"
   ]
  },
  {
   "cell_type": "code",
   "execution_count": 161,
   "metadata": {},
   "outputs": [
    {
     "name": "stdout",
     "output_type": "stream",
     "text": [
      "548 ns ± 24.3 ns per loop (mean ± std. dev. of 7 runs, 1000000 loops each)\n"
     ]
    }
   ],
   "source": [
    "%timeit [item for sublist in ls for item in sublist]"
   ]
  },
  {
   "cell_type": "code",
   "execution_count": 160,
   "metadata": {},
   "outputs": [
    {
     "name": "stdout",
     "output_type": "stream",
     "text": [
      "476 ns ± 73.2 ns per loop (mean ± std. dev. of 7 runs, 1000000 loops each)\n"
     ]
    }
   ],
   "source": [
    "%timeit reduce(lambda x,y: x + y,ls)"
   ]
  },
  {
   "cell_type": "code",
   "execution_count": 159,
   "metadata": {},
   "outputs": [
    {
     "name": "stdout",
     "output_type": "stream",
     "text": [
      "244 ns ± 17.8 ns per loop (mean ± std. dev. of 7 runs, 1000000 loops each)\n"
     ]
    }
   ],
   "source": [
    "%timeit sum(ls, [])"
   ]
  },
  {
   "cell_type": "markdown",
   "metadata": {},
   "source": [
    "### Practice problems"
   ]
  },
  {
   "cell_type": "code",
   "execution_count": 184,
   "metadata": {},
   "outputs": [
    {
     "data": {
      "text/plain": [
       "9"
      ]
     },
     "execution_count": 184,
     "metadata": {},
     "output_type": "execute_result"
    }
   ],
   "source": [
    "def grade_scantron(answers, keys):\n",
    "    \"\"\"Count the number of correct answers.\"\"\"\n",
    "    if len(answers) != len(keys):\n",
    "        return -1\n",
    "    \n",
    "#     point = sum([answers[i] == keys[i] \n",
    "#                  for i in range(len(answers))])\n",
    "    point = 0\n",
    "    for i in range(len(answers)):\n",
    "        if answers[i] == keys[i]:\n",
    "            point += 1\n",
    "    \n",
    "    return point\n",
    "\n",
    "test_answers = ['A', 'B', 'B', 'A', 'D', 'A', 'B', 'A', 'E', 'D', 'C', 'E', 'A', 'B', 'E', 'B']\n",
    "test_key = ['A', 'B', 'B', 'A', 'D', 'E', 'B', 'A', 'D', 'D', 'A', 'B', 'A', 'E', 'D', 'E']\n",
    "\n",
    "grade_scantron(test_answers, test_key)"
   ]
  },
  {
   "cell_type": "code",
   "execution_count": 209,
   "metadata": {},
   "outputs": [
    {
     "name": "stdout",
     "output_type": "stream",
     "text": [
      "B\n"
     ]
    }
   ],
   "source": [
    "def find_max_sales(movie_list):\n",
    "    \"\"\"Find dict key with highest value.\"\"\"\n",
    "    return max(dict(movie_list), key=dict(movie_list).get)\n",
    "\n",
    "movie_list = [('A', 100), ('C', 200), ('B', 300)]\n",
    "\n",
    "print(find_max_sales(movie_list))"
   ]
  },
  {
   "cell_type": "markdown",
   "metadata": {},
   "source": [
    "## File input and output\n",
    "\n",
    "File input and output are complementary processes of saving data to a file and loading data from a file. A file's encoding specifies a set of rules about writing data to that file and loading data from it. In the most basic form, we would concentrate on dealing with text files. \n",
    "\n",
    "### Reading, writing, and appending\n",
    "\n",
    "The basic flow of interacting with files involve:\n",
    "\n",
    "1. Opening a file and assign it to a variable.\n",
    "2. Do whatever operations we want with the file, e.g., reading data from it, writing data to it.\n",
    "3. Close the file after we are done.\n",
    "\n",
    "When we open the file in a program, we usually specify a mode of interaction. There are three modes:\n",
    "\n",
    "- Reading, `r`: It means that we are only reading the file and do not intend to modify it.\n",
    "- Writing, `w`: We are going to erase eveything on it and write some new data into it.\n",
    "- Appending, `a`: We are going to append some new data to whatever content the file already has.\n",
    "\n",
    "It's important to specify the mode. Also, opening a file prevents other programs from modifying it. That's why we need to close it too after we're done. "
   ]
  },
  {
   "cell_type": "markdown",
   "metadata": {},
   "source": [
    "### Writing files in Python\n",
    "\n",
    "Basic functions involved in writing data to files:\n",
    "\n",
    "- `file = open(file_name, mode)`: `file_name` is the address of the write and `mode ` is one of the three above.\n",
    "- `file.close()`: Closing the file after we're done with our operations.\n",
    "- `file.write()`: Write one string of text into the file.\n",
    "- `file.writelines()`: Write a collection of items into the file.\n",
    "- `print(text, file = file_name)`: This is equivalent to writing `text + '\\n'` to the file."
   ]
  },
  {
   "cell_type": "code",
   "execution_count": 1,
   "metadata": {},
   "outputs": [],
   "source": [
    "#Write a function called \"write_file\" that accepts two \n",
    "#parameters: a filename and some data that will either \n",
    "#be an integer or a string to write. The function \n",
    "#should open the file and write the data to the file.\n",
    "#\n",
    "#Hints:\n",
    "#\n",
    "# - Don't forget to close the file when you're done!\n",
    "# - If the data isn't a string already, you may need\n",
    "#   to convert it, depending on the approach you\n",
    "#   choose.\n",
    "# - Remember, this code has no print statements, so\n",
    "#   when you run it, don't expect to see any output\n",
    "#   on the right! You could add print statements if\n",
    "#   you want a confirmation the code is done running.\n",
    "# - You can put the variable for the filename in the\n",
    "#   same place where we put text like OutputFile.txt\n",
    "#   in the videos.\n",
    "\n",
    "\n",
    "#Write your function here!\n",
    "def write_file(file_name, data):\n",
    "    file = open(file_name, 'w')\n",
    "    \n",
    "    file.write(str(data))\n",
    "    file.close()\n",
    "    \n",
    "    return\n",
    "\n",
    "\n",
    "#Below are some lines of code that will test your function.\n",
    "#You can change the value of the variable(s) to test your\n",
    "#function with different inputs.\n",
    "#\n",
    "#If your function works correctly, this will originally\n",
    "#print nothing. However, if you open WriteFileOutput.txt\n",
    "#in the top left after running it, the contents of the\n",
    "#file should be 1301.\n",
    "write_file(\"WriteFileOutput.txt\", 1301)"
   ]
  },
  {
   "cell_type": "code",
   "execution_count": 2,
   "metadata": {},
   "outputs": [],
   "source": [
    "# Using print function to write files\n",
    "a = 2\n",
    "b = 3\n",
    "c = 'coffee'\n",
    "file = open('file.txt', 'w')\n",
    "print(a, file=file)\n",
    "print(b, file=file)\n",
    "print(c, file=file)\n",
    "file.close()"
   ]
  },
  {
   "cell_type": "markdown",
   "metadata": {},
   "source": [
    "### Reading files in Python\n",
    "\n",
    "The reverse process of writing data to a file is reading it from a file. By default, Python treates contents read from a file as text. We would need to convert them to other types if needed. Here are some basic functions of reading from a file:\n",
    "\n",
    "- `file.readline()`: Read the content of a line in the file until the start of the next line.\n",
    "- `file.readlines()`: Read the content of the file line by line and store them in a list of strings.\n",
    "- `file.read().splitlines()`: Read the content of the file and split the content into a list of strings using new line character."
   ]
  },
  {
   "cell_type": "code",
   "execution_count": 7,
   "metadata": {},
   "outputs": [
    {
     "data": {
      "text/plain": [
       "True"
      ]
     },
     "execution_count": 7,
     "metadata": {},
     "output_type": "execute_result"
    }
   ],
   "source": [
    "#Write a function called \"find_coffee\" that expects a \n",
    "#filename as a parameter. The function should open the \n",
    "#given file and return True if the file contains the word \n",
    "#\"coffee\". Otherwise, the function should return False.\n",
    "#\n",
    "#Hint: look up the read() method if you want to do this\n",
    "#more simply than you might do with readline().\n",
    "\n",
    "\n",
    "#Write your function here!\n",
    "def find_coffee(filename):\n",
    "    try:\n",
    "        file = open(filename, 'r')\n",
    "    except:\n",
    "        print('File open error')\n",
    "        \n",
    "    file_content = file.read()\n",
    "    file.close()\n",
    "    \n",
    "    return 'coffee' in file_content\n",
    "    \n",
    "    \n",
    "\n",
    "find_coffee('file.txt')"
   ]
  },
  {
   "cell_type": "code",
   "execution_count": 8,
   "metadata": {},
   "outputs": [
    {
     "name": "stdout",
     "output_type": "stream",
     "text": [
      "2\n",
      "<class 'int'>\n"
     ]
    }
   ],
   "source": [
    "#Write a function called \"load_file\" that accepts one \n",
    "#parameter: a filename. The function should open the\n",
    "#file and return the contents.#\n",
    "#\n",
    "# - If the contents of the file can be interpreted as\n",
    "#   an integer, return the contents as an integer.\n",
    "# - Otherwise, if the contents of the file can be\n",
    "#   interpreted as a float, return the contents as a\n",
    "#   float.\n",
    "# - Otherwise, return the contents of the file as a\n",
    "#   string.\n",
    "#\n",
    "#You may assume that the file has only one line.\n",
    "#\n",
    "#Hints:\n",
    "#\n",
    "# - Don't forget to close the file when you're done!\n",
    "# - Remember, anything you read from a file is\n",
    "#   initially interpreted as a string.\n",
    "\n",
    "\n",
    "#Write your function here!\n",
    "def load_file(file_name):\n",
    "    file = open(file_name, 'r')\n",
    "    content = file.readline()\n",
    "    \n",
    "    try:\n",
    "        return int(content)\n",
    "    except ValueError:\n",
    "        try:\n",
    "            return float(content)\n",
    "        except ValueError:\n",
    "            return content\n",
    "    finally:\n",
    "        file.close()\n",
    "\n",
    "#Below are some lines of code that will test your function.\n",
    "#You can change the value of the variable(s) to test your\n",
    "#function with different inputs.\n",
    "#\n",
    "#If your function works correctly, this will originally\n",
    "#print 123, followed by <class 'int'>.\n",
    "contents = load_file(\"file.txt\")\n",
    "print(contents)\n",
    "print(type(contents))"
   ]
  },
  {
   "cell_type": "markdown",
   "metadata": {},
   "source": [
    "### Practice problems"
   ]
  },
  {
   "cell_type": "code",
   "execution_count": 9,
   "metadata": {},
   "outputs": [],
   "source": [
    "def write_1301(file_name, info_list):\n",
    "    \"\"\"Write exam information of a student to a file in the required format.\n",
    "    \n",
    "    The file name specifies the name of the output file. The info_list is a\n",
    "    list of tuples. Each tuple contains 5 pieces of information of the student's\n",
    "    exam, they are in the following format:\n",
    "    (int, str, int, int, float)\n",
    "    representing respectively: number, name, marks, highest possible marks, weight.\n",
    "    \"\"\"\n",
    "    \n",
    "    file = open(file_name+'.txt', 'w')\n",
    "    for item in info_list:\n",
    "        for subitem in item:\n",
    "            print(subitem, end=' ', file=file)\n",
    "        print('', file=file)\n",
    "    file.close()\n",
    "    return"
   ]
  },
  {
   "cell_type": "code",
   "execution_count": 10,
   "metadata": {},
   "outputs": [
    {
     "name": "stdout",
     "output_type": "stream",
     "text": [
      "1 exam_1 95 100 0.6\n",
      "2 exam_2 90 100 0.4\n"
     ]
    }
   ],
   "source": [
    "tuple1 = (1, 'exam_1', 95, 100, 0.6)\n",
    "tuple2 = (2, 'exam_2', 90, 100, 0.4)\n",
    "\n",
    "tuple_ls = [tuple1, tuple2]\n",
    "write_1301('output.cs101', tuple_ls)\n",
    "\n",
    "file = open('output.cs101.txt', 'r')\n",
    "for line in file:\n",
    "    print(line.strip())"
   ]
  },
  {
   "cell_type": "markdown",
   "metadata": {},
   "source": [
    "## Dictionaries\n",
    "\n",
    "Dictionary is one of many powerful data structures. It is a data structure that holds multiple key-value pairs where keys can be used to look up corresponding values. The idea of dictionary is common in different programming languages. They are similarly known as maps, associative arrays, hashmaps, or hashtables. In dictionary, there's a one-to-one correspondence between a key and a value. Notably, the order of the collection of key-value pairs do not matter in a dictionary, unlike lists. \n",
    "\n",
    "### Dictionaries in Python\n",
    "\n",
    "While strings are declared with `\"\"` and lists are declared with `[]`, dictionaries are declared with `{}` in Python. For example, a simple dictionary with two arbitrary keys and values can be declared as\n",
    "\n",
    "- `a_dict = {key_1: value_1; key_2: value_2}`\n",
    "\n",
    "Python requires that dictionary keys have to be an immutable data type such as string or integer. However, dictionaries themselves are mutable. Hence, we can perform vairous operations on the values of items in a dictionary, via their keys:\n",
    "\n",
    "- Modifying a value: `a_dict[key] = new_value`\n",
    "- Adding a new item: `a_dict[new_key] = new_value`\n",
    "- Deleting an item: `del a_dict[key]`\n",
    "- Checking the presence of an item: `a_key in a_dict`\n",
    "\n",
    "Another important operation that we often use is traversing through items in a dictionary. We can do so in three common ways:\n",
    "\n",
    "- `for key in a_dict.keys()`: Go through the list of keys.\n",
    "- `for value in a_dict.values()`: Go through the list of values.\n",
    "- `for (key, value) in a_dict.items()`: Go through the list of (key, value) pairs."
   ]
  },
  {
   "cell_type": "code",
   "execution_count": 34,
   "metadata": {},
   "outputs": [
    {
     "name": "stdout",
     "output_type": "stream",
     "text": [
      "{'Turquoise': '#40E0D0', 'Red': '#990000'}\n"
     ]
    }
   ],
   "source": [
    "#Create a function called tup_to_dict. tup_to_dict should take one\n",
    "#parameter: a list of tuples. You can assume each tuple in\n",
    "#the list has exactly two values.\n",
    "#\n",
    "#The function should return a dictionary where the first item\n",
    "#in each tuple is the key, and the second item in each tuple\n",
    "#is the corresponding value.\n",
    "#\n",
    "#For example:\n",
    "# colors = [(\"turquoise\", \"#40E0D0\"), (\"red\", \"#990000\")]\n",
    "# tup_to_dict(colors) -> {\"turquoise\":\"#40E0D0\", \"red\":\"#990000\"}\n",
    "#\n",
    "#Hint: the previous exercise is very similar; this just turns\n",
    "#it into a function! All our tuples will be color name-color\n",
    "#value pairs.\n",
    "\n",
    "\n",
    "#Write your function here!\n",
    "def tup_to_dict(tuple_list):\n",
    "    new_dict = {}\n",
    "    for item in tuple_list:\n",
    "        new_dict[item[0]] = item[1]\n",
    "        \n",
    "    return new_dict\n",
    "\n",
    "\n",
    "#Below are some lines of code that will test your function.\n",
    "#You can change the value of the variable(s) to test your\n",
    "#function with different inputs.\n",
    "#\n",
    "#If your function works correctly, this will originally\n",
    "#print:  {'Turquoise':'#40E0D0', 'Red':'#990000'}\n",
    "#\n",
    "#Don't worry if it prints those in the reverse order; that's\n",
    "#still correct!\n",
    "print(tup_to_dict([(\"Turquoise\", \"#40E0D0\"), (\"Red\", \"#990000\")]))"
   ]
  },
  {
   "cell_type": "code",
   "execution_count": 40,
   "metadata": {},
   "outputs": [
    {
     "name": "stdout",
     "output_type": "stream",
     "text": [
      "['David', 'Marguerite', 'Joshua', 'Erica']\n"
     ]
    }
   ],
   "source": [
    "#Write a function called students_present. students_present\n",
    "#should take as input one parameter, a dictionary. The keys\n",
    "#of the dictionary will be names, and the values will be one\n",
    "#of three strings: \"Here\", \"Present\", or an empty string \"\".\n",
    "#\n",
    "#Return a list of the keys for whom the corresponding value\n",
    "#is either \"Here\" or \"Present\".\n",
    "\n",
    "\n",
    "#Add your code here!\n",
    "def students_present(input_dict):\n",
    "    result = []\n",
    "    for (key, value) in input_dict.items():\n",
    "        if value == 'Here' or value == 'Present':\n",
    "            result.append(key)\n",
    "\n",
    "    return result\n",
    "\n",
    "\n",
    "#Below are some lines of code that will test your function.\n",
    "#You can change the value of the variable(s) to test your\n",
    "#function with different inputs.\n",
    "#\n",
    "#If your function works correctly, this will originally\n",
    "#print (although the order of the keys may vary):\n",
    "#[\"David\", \"Marguerite\", \"Joshua\", \"Erica\"]\n",
    "\n",
    "student_list = {\"David\" : \"Here\", \"Marguerite\" : \"Here\",\n",
    "                \"Jackie\": \"\", \"Joshua\": \"Present\",\n",
    "                \"Erica\": \"Here\", \"Daniel\": \"\"}\n",
    "print(students_present(student_list))"
   ]
  },
  {
   "cell_type": "markdown",
   "metadata": {},
   "source": [
    "### Simple application of dictionaries"
   ]
  },
  {
   "cell_type": "code",
   "execution_count": 70,
   "metadata": {},
   "outputs": [],
   "source": [
    "long_string = \"Mindfulness meditation is routinely portrayed as a simple, happy, pleasant mind-hack\"\\\n",
    "            \"that can help improve almost every aspect of our lives. Just a few minutes of mindfulness,\"\\\n",
    "            \" on a few different occasions, is all it takes to reap the benefits of this life-changing \"\\\n",
    "            \"practice. If anyone feels hesitant, we’re reminded that it’s just like fitness for the\"\\\n",
    "            \" mind – and who wouldn’t benefit from a little mental exercise?\"\n",
    "\n",
    "long_string = long_string.replace(',', ' ')\n",
    "long_string = long_string.replace('.', ' ')\n",
    "long_string = long_string.replace(\"’\", ' ')\n",
    "long_string = long_string.replace('?', ' ')\n",
    "\n",
    "word_dict = {}\n",
    "for word in long_string.split():\n",
    "    if word not in word_dict:\n",
    "        word_dict[word] = 0\n",
    "    word_dict[word] += 1\n",
    "\n",
    "print(word_dict)"
   ]
  },
  {
   "cell_type": "code",
   "execution_count": 75,
   "metadata": {},
   "outputs": [
    {
     "name": "stdout",
     "output_type": "stream",
     "text": [
      "{'David': 2, 'Brenton': 2, 'Nicol': 1, 'Shelba': 5, 'Maren': 1}\n"
     ]
    }
   ],
   "source": [
    "#Write a function called name_counts. name_counts will take\n",
    "#as input a list of full names. Each name will be two words\n",
    "#separated by a space, like \"David Joyner\".\n",
    "#\n",
    "#The function should return a dictionary. The keys to the\n",
    "#dictionary will be the first names from the list, and the\n",
    "#values should be the number of times that first name\n",
    "#appeared.\n",
    "#\n",
    "#HINT: Use split() to split names into first and last.\n",
    "\n",
    "\n",
    "#Add your function here!\n",
    "def name_counts(names_ls):\n",
    "    names_dict = {}\n",
    "    for name in names_ls:\n",
    "        first, last = name.split()\n",
    "        if first not in names_dict:\n",
    "            names_dict[first] = 0\n",
    "        names_dict[first] += 1\n",
    "    \n",
    "    return names_dict\n",
    "\n",
    "\n",
    "#Below are some lines of code that will test your function.\n",
    "#You can change the value of the variable(s) to test your\n",
    "#function with different inputs.\n",
    "#\n",
    "#If your function works correctly, this will originally\n",
    "#print (although the order of the keys may vary):\n",
    "#{'Shelba': 5, 'Maren': 1, 'Nicol': 1, 'David': 2, 'Brenton': 2}\n",
    "name_list = [\"David Joyner\", \"David Zuber\", \"Brenton Joyner\",\n",
    "             \"Brenton Zuber\", \"Nicol Barthel\", \"Shelba Barthel\",\n",
    "             \"Shelba Crowley\", \"Shelba Fernald\", \"Shelba Odle\",\n",
    "             \"Shelba Fry\", \"Maren Fry\"]\n",
    "print(name_counts(name_list))\n"
   ]
  },
  {
   "cell_type": "code",
   "execution_count": 82,
   "metadata": {},
   "outputs": [
    {
     "name": "stdout",
     "output_type": "stream",
     "text": [
      "{'David': ['David Joyner', 'David Zuber'], 'Brenton': ['Brenton Joyner', 'Brenton Zuber'], 'Nicol': ['Nicol Barthel'], 'Shelba': ['Shelba Barthel', 'Shelba Crowley', 'Shelba Fernald', 'Shelba Fry', 'Shelba Odle'], 'Maren': ['Maren Fry']}\n"
     ]
    }
   ],
   "source": [
    "#Modify that code in the previous function such that instead \n",
    "#of having a count as the value, you instead have a list of \n",
    "#the full names that had that first name. So, each key in the \n",
    "#dictionary would still be a first name, but the values would \n",
    "#be lists of names.\n",
    "#Make sure to sort the list of names, too.\n",
    "#\n",
    "#Name this new function name_lists.\n",
    "\n",
    "\n",
    "#Add your function here!\n",
    "def name_lists(names_ls):\n",
    "    names_dict = {}\n",
    "    for name in names_ls:\n",
    "        first, last = name.split()\n",
    "        if first not in names_dict:\n",
    "            names_dict[first] = []\n",
    "        names_dict[first].append(name)\n",
    "    \n",
    "    for name in names_dict:\n",
    "        names_dict[name].sort()\n",
    "        \n",
    "    return names_dict\n",
    "\n",
    "\n",
    "#Below are some lines of code that will test your function.\n",
    "#You can change the value of the variable(s) to test your\n",
    "#function with different inputs.\n",
    "#\n",
    "#If your function works correctly, this will originally\n",
    "#print (although the order of the keys may vary):\n",
    "#{'Shelba': ['Shelba Barthel', 'Shelba Crowley', 'Shelba Fernald', 'Shelba Fry', 'Shelba Odle'],\n",
    "#'David': ['David Joyner', 'David Zuber'], 'Brenton': ['Brenton Joyner', 'Brenton Zuber'],\n",
    "#'Maren': ['Maren Fry'], 'Nicol': ['Nicol Barthel']}\n",
    "\n",
    "name_list = [\"David Joyner\", \"David Zuber\", \"Brenton Joyner\",\n",
    "             \"Brenton Zuber\", \"Nicol Barthel\", \"Shelba Barthel\",\n",
    "             \"Shelba Crowley\", \"Shelba Fernald\", \"Shelba Odle\",\n",
    "             \"Shelba Fry\", \"Maren Fry\"]\n",
    "print(name_lists(name_list))"
   ]
  },
  {
   "cell_type": "markdown",
   "metadata": {},
   "source": [
    "### Dictionaries as objects"
   ]
  },
  {
   "cell_type": "code",
   "execution_count": 3,
   "metadata": {},
   "outputs": [
    {
     "name": "stdout",
     "output_type": "stream",
     "text": [
      "David: 2; Terra: 5; Lugos: 4; "
     ]
    }
   ],
   "source": [
    "ANSWER_KEY = {\"1\" : \"A\", \"2\" : \"B\", \"3\" : \"C\", \"4\" : \"D\", \"5\" : \"A\"}\n",
    "\n",
    "students={}\n",
    "students[\"David\"] = {\"1\" : \"A\", \"2\" : \"B\", \"3\" : \"A\", \"4\" : \"B\", \"5\" : \"C\"}\n",
    "students[\"Terra\"] = {\"1\" : \"A\", \"2\" : \"B\", \"3\" : \"C\", \"4\" : \"D\", \"5\" : \"A\"}\n",
    "students[\"Lugos\"] = {\"1\" : \"A\", \"2\" : \"C\", \"3\" : \"C\", \"4\" : \"D\", \"5\" : \"A\"}\n",
    "\n",
    "#For each student and their answers\n",
    "for (student, answers) in students.items(): \n",
    "    grade = 0   #Start grade at 0\n",
    "    #For each question and answer\n",
    "    for (question, answer) in answers.items():  \n",
    "        #If the answer matches ANSWER_KEY's answer...\n",
    "        if answer == ANSWER_KEY[question]:  \n",
    "            grade +=1   #Increment their grade\n",
    "    #Create a new key \"grade\" and assign it their grade\n",
    "    students[student][\"grade\"] = grade  \n",
    "#For each student and their answers\n",
    "for (student, answers) in students.items(): \n",
    "    #Print the name and grade\n",
    "    print(student, \": \", answers[\"grade\"], sep = \"\", end = \"; \")"
   ]
  },
  {
   "cell_type": "markdown",
   "metadata": {},
   "source": [
    "## Review problems"
   ]
  },
  {
   "cell_type": "markdown",
   "metadata": {},
   "source": [
    "### Strings"
   ]
  },
  {
   "cell_type": "code",
   "execution_count": 22,
   "metadata": {},
   "outputs": [
    {
     "name": "stdout",
     "output_type": "stream",
     "text": [
      "Last, F., Joyner, D., Yang, M., Burdell, G.\n"
     ]
    }
   ],
   "source": [
    "#APA citation style cites author names like this:\n",
    "#\n",
    "#  Last, F., Joyner, D., Burdell, G.\n",
    "#\n",
    "#Note the following:\n",
    "#\n",
    "# - Each individual name is listed as the last name, then a\n",
    "#   comma, then the first initial, then a period.\n",
    "# - The names are separated by commas, including the last\n",
    "#   two.\n",
    "# - There is no space or comma following the last period.\n",
    "#\n",
    "#Write a function called names_to_apa. names_to_apa should\n",
    "#take as input one string, and return a reformatted string\n",
    "#according to the style given above. You can assume that\n",
    "#the input string will be of the following format:\n",
    "#\n",
    "#  First Last, David Joyner, and George Burdell\n",
    "#\n",
    "#You may assume the following:\n",
    "#\n",
    "# - There will be at least three names, with \"and\" before\n",
    "#   the last name.\n",
    "# - Each name will have exactly two words.\n",
    "# - There will be commas between each pair of names.\n",
    "# - The word 'and' will precede the last name.\n",
    "# - The names will only be letters (no punctuation, special\n",
    "#   characters, etc.), and first and last name will both be\n",
    "#   capitalized.\n",
    "#\n",
    "#Hint: You can use the string replace() method to delete\n",
    "#text from a string. For example, a_string.replace(\"hi\", \"\")\n",
    "#will delete all instances of \"hi\". There are multiple ways\n",
    "#you might choose to use this.\n",
    "\n",
    "\n",
    "#Write your function below!\n",
    "def names_to_apa(names):\n",
    "    # clean up\n",
    "    names = names.replace(',','')\n",
    "    names = names.replace('and', '')\n",
    "    names = names.split()\n",
    "        \n",
    "    result = ''        \n",
    "    for i in range(0, len(names), 2):\n",
    "        result += names[i+1] + ', ' + names[i][0] + '., '\n",
    "        \n",
    "    return result[:-2]\n",
    "\n",
    "#Below are some lines of code that will test your function.\n",
    "#You can change the value of the variable(s) to test your\n",
    "#function with different inputs.\n",
    "#\n",
    "#If your function works correctly, this will originally\n",
    "#print: Last, F., Joyner, D., & Burdell, G.\n",
    "print(names_to_apa(\"First Last, David Joyner, Marshalloo Yang, and George Burdell\"))"
   ]
  },
  {
   "cell_type": "code",
   "execution_count": 2,
   "metadata": {},
   "outputs": [
    {
     "name": "stdout",
     "output_type": "stream",
     "text": [
      "True\n",
      "True\n",
      "False\n"
     ]
    }
   ],
   "source": [
    "#Write a function called is_palindrome. The function should\n",
    "#have one parameter, a string. The function should return\n",
    "#True if the string is a palindrome, False if not.\n",
    "#\n",
    "#A palindrome is a sequence of letters that is the same\n",
    "#forward and backward. For example, \"racecar\" is a\n",
    "#palindrome. In determining whether a string is a palindrome\n",
    "#or not, you should ignore punctuation, capitalization and\n",
    "#spaces. For example, \"Madam in Eden, I'm Adam\" is a\n",
    "#palindrome.\n",
    "#\n",
    "#You may assume that the only characters in the string will\n",
    "#be letters, spaces, apostrophes, commas, periods, and\n",
    "#question marks.\n",
    "#\n",
    "#Hint: Before checking if the string is a palindrome, get\n",
    "#rid of the spaces and punctuation marks using the replace()\n",
    "#method and convert the entire string to upper or lower\n",
    "#case using the upper() or lower() methods.\n",
    "#\n",
    "#Hint 2: There are multiple ways to do this! If you're stuck\n",
    "#on one way, try a different one. You could use string\n",
    "#slicing, a for loop, or some string methods. Or, try\n",
    "#printing the string at different stages to see what's going\n",
    "#wrong!\n",
    "\n",
    "\n",
    "#Write your function here!\n",
    "def is_palindrome(a_string):\n",
    "    a_string = a_string.lower()\n",
    "    \n",
    "    filtered = ''\n",
    "    for char in a_string:\n",
    "        if ord(char) > 97 and ord(char) < 122:\n",
    "            filtered += char\n",
    "    \n",
    "    if filtered == filtered[::-1]:\n",
    "        return True\n",
    "    else:\n",
    "        return False\n",
    "\n",
    "#Below are some lines of code that will test your function.\n",
    "#You can change the value of the variable(s) to test your\n",
    "#function with different inputs.\n",
    "#\n",
    "#If your function works correctly, this will originally\n",
    "#print: True, True, False, each on their own line.\n",
    "print(is_palindrome(\"racecar\"))\n",
    "print(is_palindrome(\"Madam in Eden, I'm Adam\"))\n",
    "print(is_palindrome(\"Mister in Eden, I'm Eve\"))"
   ]
  },
  {
   "cell_type": "code",
   "execution_count": 3,
   "metadata": {},
   "outputs": [
    {
     "name": "stdout",
     "output_type": "stream",
     "text": [
      "3.24 µs ± 182 ns per loop (mean ± std. dev. of 7 runs, 100000 loops each)\n"
     ]
    }
   ],
   "source": [
    "%timeit is_palindrome(\"Madam in Eden, I'm Adam\")"
   ]
  },
  {
   "cell_type": "code",
   "execution_count": 40,
   "metadata": {},
   "outputs": [
    {
     "name": "stdout",
     "output_type": "stream",
     "text": [
      "True\n",
      "False\n",
      "False\n",
      "False\n",
      "False\n",
      "False\n"
     ]
    }
   ],
   "source": [
    "#Write a function called check_formula. The check_formula\n",
    "#function should take as input one parameter, a string. It\n",
    "#should return True if the string holds a correctly\n",
    "#formatted arithmetic integer formula according to the rules\n",
    "#below, or False if it does not.\n",
    "#\n",
    "#For this problem, here are the rules that define a\n",
    "#correctly-formatted arithmetic string:\n",
    "#\n",
    "# - The only characters in the string should be digits or\n",
    "#   the five arithmetic operators: +, -, *, /, and =. Any\n",
    "#   other characters, including spaces, periods, commas,\n",
    "#   or any letters, are not permitted.\n",
    "# - There may not be any consecutive arithmetic operators.\n",
    "#   Any arithmetic operator must have a number on either\n",
    "#   side of it.\n",
    "# - There must be an equals sign in the formula.\n",
    "#\n",
    "#You do not need to worry about negative numbers or\n",
    "#parentheses, and you do not need to worry about whether\n",
    "#the equation is accurate. You may also assume all the\n",
    "#numbers in the string will be only one digit.\n",
    "#\n",
    "#Here are some examples of valid and invalid arithmetic\n",
    "#formulas:\n",
    "#\n",
    "#   Valid     Invalid\n",
    "#   5*3=5+2   5*3+5+2 (no equals)\n",
    "#   5=7       5= (equals sign isn't in the middle)\n",
    "#   5=2-5     50=-5 (consecutive arithmetic operators)\n",
    "#   6/2=5/2   a=51 (illegal character)\n",
    "#             -5=5+2 (starts with an operator)\n",
    "#\n",
    "#Hint: Remember, as soon as you find *one* thing wrong\n",
    "#with the string, you know it's invalid and can return\n",
    "#False. So, go character-by-character through the string\n",
    "#checking everything that could be wrong. If you don't\n",
    "#find anything wrong, return True!\n",
    "\n",
    "\n",
    "#Write your function here!\n",
    "def check_formula(formula):\n",
    "    # Check has =\n",
    "    if '=' not in formula:\n",
    "        return False\n",
    "    \n",
    "    valid_chars = '0 1 2 3 4 5 6 7 8 9 - + * / ='.split()\n",
    "    \n",
    "    for i in range(len(formula)):\n",
    "        # Check any invalid char\n",
    "        if formula[i] not in valid_chars:\n",
    "            return False\n",
    "        \n",
    "        # For each char in between\n",
    "        if i > 0 and i < len(formula)-1:\n",
    "            if formula[i] in valid_chars[-5:]:\n",
    "                # Check no consecutive operators\n",
    "                if formula[i-1] in valid_chars[-5:]:\n",
    "                    return False\n",
    "        # Check no operator at start and end\n",
    "        elif formula[i] in valid_chars[-5:]:\n",
    "            return False\n",
    "    return True\n",
    "\n",
    "\n",
    "#Below are some lines of code that will test your function.\n",
    "#You can change the value of the variable(s) to test your\n",
    "#function with different inputs.\n",
    "#\n",
    "#If your function works correctly, this will originally\n",
    "#print True, then several Falses.\n",
    "print(check_formula(\"5*3=5+2\"))\n",
    "print(check_formula(\"5*3+5+2\"))\n",
    "print(check_formula(\"5=\"))\n",
    "print(check_formula(\"5=-5\"))\n",
    "print(check_formula(\"a=5\"))\n",
    "print(check_formula(\"-5=5+2\"))"
   ]
  },
  {
   "cell_type": "markdown",
   "metadata": {},
   "source": [
    "#### Tic-tac-toe and Connect-4"
   ]
  },
  {
   "cell_type": "code",
   "execution_count": 55,
   "metadata": {},
   "outputs": [
    {
     "name": "stdout",
     "output_type": "stream",
     "text": [
      "X\n",
      "O\n",
      "X\n",
      "None\n"
     ]
    }
   ],
   "source": [
    "#In the game tic-tac-toe, two players take turns drawing\n",
    "#Xs and Os on a 3x3 grid. If one player can place three of\n",
    "#their symbols side-by-side in a row, column, or diagonal,\n",
    "#they win the game.\n",
    "#\n",
    "#For example:\n",
    "#\n",
    "# X Wins:   X Wins:   X Wins:   No Winner:\n",
    "# X|O|X     O|X|X     O|O|      X|O|O\n",
    "# -+-+-     -+-+-     -+-+-     -+-+-\n",
    "# O|O|X     X|O|      X|X|X     O|X|X\n",
    "# -+-+-     -+-+-     -+-+-     -----\n",
    "# O|X|X      | |O      | |      X|X|O\n",
    "#\n",
    "#Write a function called check_winner. check_winner will\n",
    "#take one parameter as input, a 2D tuple (that is, a tuple\n",
    "#of tuples). The 2D tuple represents the game board: each\n",
    "#smaller tuple in the larger tuple is a row of the board,\n",
    "#and each item in the smaller tuple is a spot on the\n",
    "#board. There will always be three tuples in the larger\n",
    "#tuple, and three items in each of the smaller tuples.\n",
    "#\n",
    "#Each item in the smaller tuple will always be one of three\n",
    "#values: the string \"X\", the string \"O\", or the value None.\n",
    "#\n",
    "#check_winner should return one of three values: the string\n",
    "#\"X\" if X has won the game; the string \"O\" if O has won the\n",
    "#game; or the value None if there is no winner. None should\n",
    "#NOT be the string \"None\"; it should be the value None,\n",
    "#like the boolean values True and False.\n",
    "#\n",
    "#You may assume a player has won the game if and only if\n",
    "#the board has three of their symbols in a row: you do not\n",
    "#need to worry about whether the input is a valid game\n",
    "#otherwise (e.g. a board of nine Xs still counts as X\n",
    "#winning). You may assume that there will only be one\n",
    "#winner per board.\n",
    "#\n",
    "#Hint: There are only eight possible places to win (three\n",
    "#rows, three columns, two diagonals).\n",
    "#\n",
    "#Hint 2: If you're comfortable on time, you may want to\n",
    "#check out the last problem before doing this one. It's\n",
    "#only worth 1 point, but you might be able to design\n",
    "#one solution that works for both problems!\n",
    "\n",
    "\n",
    "#Write your function here!\n",
    "def check_winner(tuples):\n",
    "    diags = []\n",
    "    for i in range(3):\n",
    "        # Check row winners\n",
    "        if tuples[i][0] == tuples[i][1] and tuples[i][1] == tuples[i][2]:\n",
    "            return tuples[i][0]\n",
    "        \n",
    "        # Check column winners        \n",
    "        if tuples[0][i] == tuples[1][i] and tuples[1][i] == tuples[2][i]:\n",
    "            return tuples[0][i]\n",
    "        \n",
    "    # Check diagnoal winners\n",
    "    if tuples[0][0] == tuples[1][1] and tuples[1][1] == tuples[2][2]:\n",
    "        return tuples[0][0]\n",
    "    if tuples[0][2] == tuples[1][1] and tuples[1][1] == tuples[2][0]:\n",
    "        return tuples[0][2]\n",
    "    \n",
    "    return None\n",
    "\n",
    "#The code below shows how the tic-tac-toe tuples are\n",
    "#created and tests your code with three games: one where\n",
    "#X wins, one where O wins, and one where there is no winner.\n",
    "#Remember, the line breaks in xwins and owins are optional:\n",
    "#they're just to make the declarations more readable. They\n",
    "#could be written the same as nowins.\n",
    "xwins = ((\"X\", \"O\", \"X\"),\n",
    "         (\"O\", \"O\", \"X\"),\n",
    "         (\"O\", \"X\", \"X\"))\n",
    "owins = ((\"O\", \"X\", \"X\"),\n",
    "         (\"X\", \"O\", None),\n",
    "         (None, None, \"O\"))\n",
    "game_board = (('O', 'X', 'X'), \n",
    "              ('O', 'X', 'O'), \n",
    "              ('X', 'O', 'X'))\n",
    "nowins = ((\"X\", \"O\", \"O\"),(\"O\", \"X\", \"X\"),(\"X\", \"X\", \"O\"))\n",
    "\n",
    "print(check_winner(xwins))\n",
    "print(check_winner(owins))\n",
    "print(check_winner(game_board))\n",
    "print(check_winner(nowins))"
   ]
  },
  {
   "cell_type": "code",
   "execution_count": 222,
   "metadata": {},
   "outputs": [
    {
     "name": "stdout",
     "output_type": "stream",
     "text": [
      "X\n",
      "O\n",
      "None\n"
     ]
    }
   ],
   "source": [
    "#Last problem, you implemented a function that could find if\n",
    "#someone had won a particular game of tic-tac-toe based on a\n",
    "#2D tuple representing the current game board.\n",
    "#\n",
    "#In this problem, you'll do the same thing, but for Connect\n",
    "#4 instead of tic-tac-toe. Write another function called\n",
    "#check_winner which takes as input a 2D list. It should\n",
    "#return \"X\" if there are four adjacent \"X\" values anywhere\n",
    "#in the list (row, column, diagonal); \"O\" if there are four\n",
    "#adjacent \"O\" values anywhere in the list; and None if\n",
    "#there are neither.\n",
    "#\n",
    "#Here are the ways Connect-4 is different from tic-tac-toe:\n",
    "#\n",
    "# - Connect-4 is played with 6 rows and 7 columns, not 3\n",
    "#   rows and 3 columns.\n",
    "# - You must have 4 in a row (or column or diagonal) to win\n",
    "#   instead of 3.\n",
    "# - You may only place pieces in the bottom-most empty\n",
    "#   space in a column (e.g. you \"drop\" the pieces in the\n",
    "#   column and they fall to the first empty spot). Note,\n",
    "#   though, that this shouldn't affect your reasoning.\n",
    "#\n",
    "#To keep things simple, we'll still use \"X\" and \"O\" to\n",
    "#represent the players, and None to represent empty spots.\n",
    "#You may make the same assumptions as the previous\n",
    "#problem: only one winner per board, no characters besides\n",
    "#\"X\", \"O\", and None, and you don't have to worry about\n",
    "#whether the board is actually a valid game of Connect 4.\n",
    "#\n",
    "#Hints:\n",
    "# - Don't forget both kinds of diagonals!\n",
    "# - This board is too large to check every possible place\n",
    "#   for a winner: there are 69 places a player could win.\n",
    "# - Remember, if you put a negative index in a list,\n",
    "#   Python \"wraps around\" and checks the last value. You\n",
    "#   may have to control for this.\n",
    "\n",
    "\n",
    "#Write your function here!\n",
    "def check_winner(tuples):\n",
    "    # Remove empty rows from top\n",
    "    top_empty_loc = 0\n",
    "    for i in range(len(tuples)):\n",
    "        if set(tuples[i]).issubset({None}):\n",
    "            top_empty_loc += 1\n",
    "    tuples = tuples[top_empty_loc:]\n",
    "    \n",
    "    n_rows = len(tuples)\n",
    "    n_cols = len(tuples[0])\n",
    "    \n",
    "    for row in range(n_rows):\n",
    "        for col in range(n_cols):\n",
    "            if tuples[row][col] == None:\n",
    "                continue\n",
    "            try:\n",
    "                # Check horizontal\n",
    "                if (tuples[row][col] == tuples[row][col+1] \n",
    "                    and tuples[row][col+1] == tuples[row][col+2]\n",
    "                    and tuples[row][col+2] == tuples[row][col+3]):\n",
    "\n",
    "                    return tuples[row][col]\n",
    "            except IndexError:\n",
    "                next\n",
    "            \n",
    "            try:\n",
    "                # Check vertical\n",
    "                if (tuples[col][row] == tuples[col+1][row]\n",
    "                      and tuples[col+1][row] == tuples[col+2][row]\n",
    "                      and tuples[col+2][row] == tuples[col+3][row]):\n",
    "\n",
    "                    return tuples[col][row]\n",
    "            except IndexError:\n",
    "                next\n",
    "            \n",
    "            try:\n",
    "                # Check right diag\n",
    "                if (tuples[row][col] == tuples[row+1][col+1]\n",
    "                      and tuples[row+1][col+1] == tuples[row+2][col+2]\n",
    "                      and tuples[row+2][col+2] == tuples[row+3][col+3]):\n",
    "\n",
    "                    return tuples[row][col]   \n",
    "            except IndexError:\n",
    "                next\n",
    "            \n",
    "            try:\n",
    "                # Check left diag\n",
    "                if (tuples[row][col] == tuples[row+1][col-1]\n",
    "                      and tuples[row+1][col-1] == tuples[row+2][col-2]\n",
    "                      and tuples[row+2][col-2] == tuples[row+3][col-3]):\n",
    "\n",
    "                    return tuples[row][col]   \n",
    "            except IndexError:\n",
    "                next \n",
    "        \n",
    "    return None\n",
    "                        \n",
    "                    # Check right diag\n",
    "            \n",
    "\n",
    "\n",
    "#The code below tests your function on three Connect-4\n",
    "#boards. Remember, the line breaks are not needed to create\n",
    "#a 2D tuple; they're used here just for readability.\n",
    "xwins = ((None, None, None, None, None, None, None),\n",
    "         (None, None, None, None, None, None, None),\n",
    "         (None, None, None, None, \"X\" , None, None),\n",
    "         (None, None, None, \"X\" , \"O\" , \"O\", None),\n",
    "         (None, \"O\" , \"X\" , \"X\" , \"O\" , \"X\", None),\n",
    "         (\"O\" , \"X\" , \"O\" , \"O\" , \"O\" , \"X\" , \"X\"))\n",
    "owins = ((None, None, None, None, None, None, None),\n",
    "         (None, None, None, None, None, None, None),\n",
    "         (\"O\" , \"O\" , \"O\" , \"O\" , None, None, None),\n",
    "         (\"O\" , \"X\" , \"X\" , \"X\" , None, None, None),\n",
    "         (\"X\" , \"X\" , \"X\" , \"O\" , \"X\" , None, None),\n",
    "         (\"X\" , \"O\" , \"O\" , \"X\" , \"O\" , None, None))\n",
    "nowins =((\"X\" , \"X\" , None, None, None, None, None),\n",
    "         (\"O\" , \"O\" , None, None, None, None, None),\n",
    "         (\"O\" , \"X\" , \"O\" , \"O\" , None, \"O\" , \"O\" ),\n",
    "         (\"O\" , \"X\" , \"X\" , \"X\" , None, \"X\" , \"X\" ),\n",
    "         (\"X\" , \"X\" , \"X\" , \"O\" , \"X\" , \"X\" , \"O\" ),\n",
    "         (\"X\" , \"O\" , \"O\" , \"X\" , \"O\" , \"X\" , \"O\" ))\n",
    "         \n",
    "print(check_winner(xwins))\n",
    "print(check_winner(owins))\n",
    "print(check_winner(nowins))"
   ]
  },
  {
   "cell_type": "code",
   "execution_count": 223,
   "metadata": {},
   "outputs": [
    {
     "name": "stdout",
     "output_type": "stream",
     "text": [
      "4.86 µs ± 267 ns per loop (mean ± std. dev. of 7 runs, 100000 loops each)\n"
     ]
    }
   ],
   "source": [
    "%timeit check_winner(xwins)"
   ]
  },
  {
   "cell_type": "markdown",
   "metadata": {},
   "source": [
    "#### Can we do better?"
   ]
  },
  {
   "cell_type": "code",
   "execution_count": 192,
   "metadata": {},
   "outputs": [],
   "source": [
    "import numpy as np\n",
    "from scipy.signal import convolve2d"
   ]
  },
  {
   "cell_type": "code",
   "execution_count": 224,
   "metadata": {},
   "outputs": [],
   "source": [
    "horizontal_kernel = np.array([np.ones(4)])\n",
    "vertical_kernel = np.transpose(horizontal_kernel)\n",
    "right_diag_kernel = np.diag(np.ones(4))\n",
    "left_diag_kernel = np.fliplr(right_diag_kernel)\n",
    "\n",
    "kernel_ls = [horizontal_kernel, vertical_kernel, \n",
    "            right_diag_kernel, left_diag_kernel]\n",
    "\n",
    "def transform_game_borad(game_board):\n",
    "    game_board = np.asarray(game_board)\n",
    "    game_board[game_board == 'X'] = 1\n",
    "    game_board[game_board == 'O'] = -1\n",
    "    game_board[game_board == None] = 0\n",
    "    game_board = np.asarray(game_board, dtype=int)  \n",
    "    \n",
    "    return game_board\n",
    "\n",
    "def check_winner(game_board, kernel_ls):\n",
    "    for kernel in kernel_ls:\n",
    "        convolve_result = convolve2d(game_board, kernel, mode='valid')\n",
    "        \n",
    "        if (convolve_result == 4).any():\n",
    "            return 'X'\n",
    "        elif (convolve_result == -4).any():\n",
    "            return 'O'\n",
    "    return None"
   ]
  },
  {
   "cell_type": "code",
   "execution_count": 225,
   "metadata": {},
   "outputs": [],
   "source": [
    "game_board = transform_game_borad(xwins)"
   ]
  },
  {
   "cell_type": "code",
   "execution_count": 226,
   "metadata": {},
   "outputs": [
    {
     "name": "stdout",
     "output_type": "stream",
     "text": [
      "56.4 µs ± 8.32 µs per loop (mean ± std. dev. of 7 runs, 10000 loops each)\n"
     ]
    }
   ],
   "source": [
    "%timeit check_winner(game_board, kernel_ls)"
   ]
  },
  {
   "cell_type": "markdown",
   "metadata": {},
   "source": [
    "### File input and output"
   ]
  },
  {
   "cell_type": "code",
   "execution_count": 11,
   "metadata": {},
   "outputs": [],
   "source": [
    "#Write a function called write_book_info. write_book_info\n",
    "#will take as input two parameters: a string and a list of\n",
    "#3-tuples.\n",
    "#\n",
    "#The string will represent the filename to which to write.\n",
    "#\n",
    "#Each 3-tuple in the list will contain three strings: a\n",
    "#book title, the book's author, and the book's ISBN number.\n",
    "#\n",
    "#write_book_info should write the list of books to the file\n",
    "#given by the filename using the following format:\n",
    "#\n",
    "# ISBN: Title by Author\n",
    "#\n",
    "#So, for this list:\n",
    "#\n",
    "# [(\"Of Mice and Men\", \"John Steinbeck\", \"978-0-140-17739-8\"),\n",
    "#  (\"Introduction to Computing\", \"David Joyner\", \"978-1-260-08227-2\")]\n",
    "#\n",
    "#The file printed would look like this:\n",
    "#\n",
    "# 978-0-140-17739-8: Of Mice and Men by John Steinbeck\n",
    "# 978-1-260-08227-2: Introduction to Computing by David Joyner\n",
    "#\n",
    "#We've included Sample.txt to show you what a longer version\n",
    "#of one of these files might look like.\n",
    "\n",
    "\n",
    "#Write your function here!\n",
    "def write_book_info(file_name, book_ls):\n",
    "    with open(file_name, 'w') as file:\n",
    "        for item in book_ls:\n",
    "            title, author, isbn = item\n",
    "            print(f'{isbn}: {title} by {author}', file=file)\n",
    "\n",
    "    return \n",
    "\n",
    "#Below are some lines of code that will test your function.\n",
    "#You can change the value of the variable(s) to test your\n",
    "#function with different inputs.\n",
    "#\n",
    "#If your function works correctly, this will originally\n",
    "#print nothing -- however, it should write the same contents\n",
    "#as Sample.txt to Test.txt.\n",
    "books = [('Harry Potter and the Goblet of Fire', 'J. K. Rowling', '978-0-74-754624-5'), \n",
    "         ('Twilight', 'Stephenie Meyer', '978-1-90-423365-7'), \n",
    "         ('A Short History of Tractors in Ukrainian', 'Marina Lewycka', '978-0-14-102052-5'), \n",
    "         ('Notes from a Small Island', 'Bill Bryson', '978-0-55-299600-6'), \n",
    "         ('For We Are Many', 'Dennis Taylor', '978-1-68-068059-1'), \n",
    "         (\"Jamie's Italy\", 'Jamie Oliver', '978-0-71-814770-9')]\n",
    "write_book_info(\"Test.txt\", books)"
   ]
  },
  {
   "cell_type": "markdown",
   "metadata": {},
   "source": [
    "### Dictionaries"
   ]
  },
  {
   "cell_type": "code",
   "execution_count": 9,
   "metadata": {},
   "outputs": [
    {
     "name": "stdout",
     "output_type": "stream",
     "text": [
      "{'978-0-140-17739-8': ('Of Mice and Men', 'John Steinbeck'), '978-1-260-08227-2': ('Introduction to Computing', 'David Joyner')}\n"
     ]
    }
   ],
   "source": [
    "#Write a function called pivot_library. pivot_library takes\n",
    "#as input one parameter, a list of 3-tuples. Each tuple in\n",
    "#the list has three items: the first item is a book title\n",
    "#(a string), the second item is the book's author (a\n",
    "#string), and the third item is the book's ISBN number (a\n",
    "#string).\n",
    "#\n",
    "#pivot_library should return a dictionary. In the dictionary\n",
    "#that it returns, the keys should be the ISBN numbers, and\n",
    "#the values should be 2-item tuples. In each tuple, the first\n",
    "#item should be the book title, and the second item should\n",
    "#be the author's name.\n",
    "#\n",
    "#Hint: Unpack the tuple to variables first, then create the\n",
    "#new dictionary item.\n",
    "#\n",
    "#For example:\n",
    "#\n",
    "# books = [(\"Of Mice and Men\", \"John Steinbeck\", \"978-0-140-17739-8\"),\n",
    "#          (\"Introduction to Computing\", \"David Joyner\", \"978-1-260-08227-2\")]\n",
    "# pivot_library(books)\n",
    "#   -> {\"978-0-140-17739-8\": (\"Of Mice and Men\", \"John Steinbeck\"),\n",
    "#       \"978-1-260-08227-2\": (\"Introduction to Computing\", \"David Joyner\")}\n",
    "\n",
    "\n",
    "#Write your function here!\n",
    "def pivot_library(book_ls):\n",
    "    book_dict = {}\n",
    "    for item in book_ls:\n",
    "        title, author, isbn = item\n",
    "        book_dict[isbn] = (title, author)\n",
    "\n",
    "    return book_dict\n",
    "\n",
    "#Below are some lines of code that will test your function.\n",
    "#You can change the value of the variable(s) to test your\n",
    "#function with different inputs.\n",
    "#\n",
    "#If your function works correctly, this will originally\n",
    "#print (although the order of the keys may vary):\n",
    "#\n",
    "#{\"978-0-140-17739-8\": (\"Of Mice and Men\", \"John Steinbeck\"), \"978-1-260-08227-2\": (\"Introduction to Computing\", \"David Joyner\")}\n",
    "books = [(\"Of Mice and Men\", \"John Steinbeck\", \"978-0-140-17739-8\"), \n",
    "         (\"Introduction to Computing\", \"David Joyner\", \"978-1-260-08227-2\")]\n",
    "print(pivot_library(books))"
   ]
  },
  {
   "cell_type": "code",
   "execution_count": null,
   "metadata": {},
   "outputs": [],
   "source": [
    "#Write a function called volume_and_area. volume_and_area\n",
    "#will take in a dictionary. This dictionary is guaranteed to\n",
    "#have three keys: \"length\", \"width\", and \"height\", whose\n",
    "#values are integers representing three attributes of a\n",
    "#rectangular prism (also known as a box).\n",
    "#\n",
    "#Modify this dictionary to add two keys: \"volume\" and \"area\".\n",
    "#The values associated with these keys should be the volume\n",
    "#and surface area of the box.\n",
    "#\n",
    "#The formula for volume is:\n",
    "#  length * width * height\n",
    "#\n",
    "#The formula for surface area is:\n",
    "#  2 * ((length * width) + (length*height) + (width*height))\n",
    "#\n",
    "#Because length, width, and height are integers, and because\n",
    "#these formulas have no division, your results should be\n",
    "#integers as well.\n",
    "\n",
    "\n",
    "#Add your code here!\n",
    "def volume_and_area(box_dict):\n",
    "    length = box_dict['length']\n",
    "    width = box_dict['width']\n",
    "    height = box_dict['height']\n",
    "    \n",
    "    box_dict['volume'] = length * width * height\n",
    "    box_dict['area'] = 2 * (length * width + length * height \n",
    "                            + height * width)\n",
    "    \n",
    "    return  box_dict\n",
    "\n",
    "\n",
    "#Below are some lines of code that will test your function.\n",
    "#You can change the value of the variable(s) to test your\n",
    "#function with different inputs.\n",
    "#\n",
    "#If your function works correctly, this will originally\n",
    "#print 6 and 22, each on a different line.\n",
    "rectangle = {\"length\": 1, \"width\": 2, \"height\": 3}\n",
    "rectangle = volume_and_area(rectangle)\n",
    "print(rectangle[\"volume\"])\n",
    "print(rectangle[\"area\"])"
   ]
  },
  {
   "cell_type": "code",
   "execution_count": 309,
   "metadata": {},
   "outputs": [
    {
     "name": "stdout",
     "output_type": "stream",
     "text": [
      "['blossom']\n"
     ]
    }
   ],
   "source": [
    "#-----------------------------------------------------------\n",
    "#Write a function called no_you_pick. no_you_pick should\n",
    "#have two parameters. The first parameter is a dictionary\n",
    "#where the keys are restaurant names and the values are lists\n",
    "#of attributes of those restaurants as strings, such as\n",
    "#\"vegetarian\", \"vegan\", and \"gluten-free\".\n",
    "#\n",
    "#The second parameter is a list of strings representing of\n",
    "#necessary attributes of the restaurant you select.\n",
    "#\n",
    "#Return a list of restaurants from the dictionary who each\n",
    "#contain all the diet restrictions listed in the list,\n",
    "#sorted alphabetically. If there are no restaurants that\n",
    "#meet all the restrictions, return the string \"Sorry, no\n",
    "#restaurants meet your restrictions\". Types of diet\n",
    "#restrictions that exist in this question's universe are:\n",
    "#vegetarian, vegan, kosher, gluten-free, dairy-free\n",
    "#\n",
    "#For example:\n",
    "#grading_scale = {\"blossom\": [\"vegetarian\", \"vegan\", \"kosher\", \"gluten-free\", \"dairy-free\"], \\\n",
    "#                 \"jacob's pickles\": [\"vegetarian\", \"gluten-free\"], \\\n",
    "#                 \"sweetgreen\": [\"vegetarian\", \"vegan\", \"gluten-free\", \"kosher\"]}\n",
    "#guests_diet = [\"dairy-free\"]\n",
    "#no_you_pick(grading_scale, guests_diet) -> [\"blossom\"]\n",
    "\n",
    "\n",
    "#Write your code here!\n",
    "def no_you_pick(grading_scale, guests_diet):\n",
    "    valid = []\n",
    "    for (rest, menu) in grading_scale.items():\n",
    "        all_satisfy = True\n",
    "        \n",
    "        for requirement in guests_diet:\n",
    "            if requirement not in menu:\n",
    "                all_satisfy = False\n",
    "        \n",
    "        if all_satisfy:\n",
    "            valid.append(rest)\n",
    "    \n",
    "    if valid:\n",
    "        return sorted(valid)\n",
    "    else:\n",
    "        return \"Sorry, no restaurants meet your restrictions\"\n",
    "\n",
    "#Below are some lines of code that will test your function.\n",
    "#You can change the value of the variable(s) to test your\n",
    "#function with different inputs.\n",
    "#\n",
    "#If your function works correctly, this will originally\n",
    "#print: blossom\n",
    "grading_scale = {\"blossom\": [\"vegetarian\", \"vegan\", \"kosher\", \"gluten-free\", \"dairy-free\"], \\\n",
    "                 \"jacob's pickles\": [\"vegetarian\", \"gluten-free\"], \\\n",
    "                 \"sweetgreen\": [\"vegetarian\", \"vegan\", \"gluten-free\", \"kosher\"]}\n",
    "guests_diet = [\"dairy-free\"]\n",
    "print(no_you_pick(grading_scale, guests_diet))"
   ]
  },
  {
   "cell_type": "markdown",
   "metadata": {},
   "source": [
    "### Mixed"
   ]
  },
  {
   "cell_type": "code",
   "execution_count": 251,
   "metadata": {},
   "outputs": [
    {
     "name": "stdout",
     "output_type": "stream",
     "text": [
      "{1: 2, 2: 2, 3: 1}\n",
      "{3: 1, 1: 2, 4: 1, 5: 1, 9: 1}\n"
     ]
    }
   ],
   "source": [
    "#Write a function called digit_count. digit_count should\n",
    "#take as input a number, which could be either a float or an\n",
    "#integer. It should return a dictionary whose keys are digits,\n",
    "#and whose values are the number of times that digit appears\n",
    "#in the number.\n",
    "#\n",
    "#The dictionary should NOT contain any numerals that do not\n",
    "#occur at all in the number, and it should also note contain\n",
    "#the decimal point character if the number is a decimal.\n",
    "#\n",
    "#For example:\n",
    "#\n",
    "#  digit_count(11223) -> {1: 2, 2: 2, 3: 1}\n",
    "#  digit_count(3.14159) -> {3: 1, 1: 2, 4: 1, 5: 1, 9: 1}\n",
    "#\n",
    "#Hint: You should probably convert the number to a string to\n",
    "#count the digits, but convert the individual digits back to\n",
    "#integers to use as keys to the dictionary.\n",
    "\n",
    "#Write your function here!\n",
    "def digit_count(number):\n",
    "    number = str(number)\n",
    "    result_dict = {}\n",
    "    for digit in number:\n",
    "        if digit != '.':\n",
    "            if int(digit) not in result_dict:\n",
    "                result_dict[int(digit)] = 0\n",
    "            result_dict[int(digit)] += 1\n",
    "            \n",
    "    return result_dict\n",
    "\n",
    "\n",
    "#Below are some lines of code that will test your function.\n",
    "#You can change the value of the variable(s) to test your\n",
    "#function with different inputs.\n",
    "#\n",
    "#If your function works correctly, this will originally\n",
    "#print (although the order of the keys may vary):\n",
    "#\n",
    "#{1: 2, 2: 2, 3: 1}\n",
    "#{3: 1, 1: 2, 4: 1, 5: 1, 9: 1}\n",
    "print(digit_count(11223))\n",
    "print(digit_count(3.14159))"
   ]
  },
  {
   "cell_type": "code",
   "execution_count": null,
   "metadata": {},
   "outputs": [],
   "source": [
    "#Write a function called imdb_dictionary. imdb_dictionary\n",
    "#should have one parameter, a string representing a\n",
    "#filename.\n",
    "#\n",
    "#On each row of the file will be a performer's name, then\n",
    "#a semicolon, then a comma-separated list of movies the have\n",
    "#been in. For example, one file's contents could be:\n",
    "#\n",
    "#Robert Downey Jr.; Avengers: Infinity War, Sherlock Holmes 3, Spider-Man: Homecoming\n",
    "#Scarlett Johansson; Avengers: Infinity War, Isle of Dogs, Ghost in the Shell\n",
    "#Elizabeth Olsen; Avengers: Infinity War, Kodachrome, Wind River, Ingrid Goes West\n",
    "#\n",
    "#You may assume that the only semi-colon will be after the\n",
    "#performer's name, and that there will be no commas in the\n",
    "#movie titles.\n",
    "#\n",
    "#Return a dictionary where the keys are each actor's name,\n",
    "#and the values are alphabetically-sorted lists of the movies\n",
    "#they have been in. For example, if imdb_dictionary was called\n",
    "#on the file above, the output would be:\n",
    "#{\"Robert Downey Jr.\": [\"Avengers: Infinity War\", \"Sherlock Holmes 3\", \"Spider-Man: Homecoming\"],\n",
    "#\"Scarlett Johansson\": [\"Avengers: Infinity War\", \"Ghost in the Shell\", \"Isle of Dogs\"],\n",
    "#Elizabeth Olsen\": [\"Avengers: Infinity War\", \"Ingrid Goes West\", \"Kodachrome\", \"Wind River\"]}\n",
    "#\n",
    "#Make sure the list of movies is sorted alphabetically. Don't\n",
    "#worry about the order the keys (names) appear in the dictionary.\n",
    "\n",
    "\n",
    "#Add your code here!\n",
    "def imdb_dictionary(file_name):\n",
    "    with open(file_name, 'r') as file:\n",
    "        content = file.read().splitlines()\n",
    "        \n",
    "    result_dict = {}\n",
    "    for item in content:\n",
    "        name, movies = item.split(';')\n",
    "        movies = sorted(movies.split(','))\n",
    "        result_dict[name] = [movie.strip() for movie in movies]\n",
    "\n",
    "    return result_dict\n",
    "\n",
    "#Below are some lines of code that will test your function.\n",
    "#You can change the contents of some_performers.txt from\n",
    "#the dropdown in the top left to test other inputs.\n",
    "#\n",
    "#If your function works correctly, this will originally\n",
    "#print (although the order of the keys may vary):\n",
    "#{\"Robert Downey Jr.\": [\"Avengers: Infinity War\", \"Sherlock Holmes 3\", \"Spider-Man: Homecoming\"], \"Scarlett Johansson\": [\"Avengers: Infinity War\", \"Ghost in the Shell\", \"Isle of Dogs\"], Elizabeth Olsen\": [\"Avengers: Infinity War\", \"Ingrid Goes West\", \"Kodachrome\", \"Wind River\"]}\n",
    "print(imdb_dictionary(\"some_performers.txt\"))"
   ]
  },
  {
   "cell_type": "code",
   "execution_count": 275,
   "metadata": {},
   "outputs": [
    {
     "name": "stdout",
     "output_type": "stream",
     "text": [
      "('appsp', 'zzffs')\n"
     ]
    }
   ],
   "source": [
    "#Write a function called first_to_last. first_to_last should\n",
    "#take as input a string representing a filename. Inside the\n",
    "#file will be some text on each line; some lines will contain\n",
    "#integers, while others will contain strings of other\n",
    "#characters.\n",
    "#\n",
    "#first_to_last should return a tuple containing the first and\n",
    "#last strings in the file alphabetically. It should ignore any\n",
    "#lines that contain integers.\n",
    "#\n",
    "#For example, in the dropdown in the top left you'll find a\n",
    "#file named FirstLastInput.txt. Ignoring numerals, the first\n",
    "#string alphabetically is appsp, and the last string\n",
    "#alphabetically is zzffs. So, first_to_last(\"FirstLastInput.txt\")\n",
    "#would return the tuple (\"appsp\", \"zzffs\").\n",
    "#\n",
    "#You may assume that every line in the file contains either\n",
    "#all numerals or all lower-case letters; there will be no lines\n",
    "#with both numerals and letters, nor any capital letters.\n",
    "\n",
    "\n",
    "#Write your function here!\n",
    "def first_to_last(file_name):\n",
    "    file = open(file_name, 'r')\n",
    "    content = file.read().splitlines()\n",
    "    file.close()\n",
    "    \n",
    "    content = sorted(content)\n",
    "    \n",
    "    for i in range(len(content)):\n",
    "        try:\n",
    "            int(content[i])\n",
    "        except:\n",
    "            return (content[i], content[-1])\n",
    "\n",
    "#Below are some lines of code that will test your function.\n",
    "#You can change the value of the variable(s) to test your\n",
    "#function with different inputs.\n",
    "#\n",
    "#If your function works correctly, this will originally\n",
    "#print: (\"appsp\", \"zzffs\")\n",
    "print(first_to_last(\"FirstLastInput.txt\"))"
   ]
  },
  {
   "cell_type": "code",
   "execution_count": 286,
   "metadata": {},
   "outputs": [
    {
     "name": "stdout",
     "output_type": "stream",
     "text": [
      "77.4 µs ± 14.5 µs per loop (mean ± std. dev. of 7 runs, 10000 loops each)\n"
     ]
    }
   ],
   "source": [
    "%timeit first_to_last(\"FirstLastInput.txt\")"
   ]
  },
  {
   "cell_type": "code",
   "execution_count": 298,
   "metadata": {},
   "outputs": [
    {
     "name": "stdout",
     "output_type": "stream",
     "text": [
      "Player 1 wins!\n",
      "Player 2 wins!\n",
      "It's a tie!\n"
     ]
    }
   ],
   "source": [
    "#In the game Rock-Paper-Scissors, two opponents\n",
    "#simultaneously choose to throw either \"Rock\", \"Paper\",\n",
    "#or \"Scissors\". Rock beats Scissors, Scissors beats Paper,\n",
    "#and Paper beats Rock. If both players throw the same\n",
    "#object, the round is a tie.\n",
    "#\n",
    "#Write a function called find_winner. find_winner will take\n",
    "#as input a list of 2-tuples, each representing a round of\n",
    "#Rock-Paper-Scissors. Each 2-tuple will contain two strings.\n",
    "#Each string will be either \"Rock\", \"Paper\", or \"Scissors\".\n",
    "#The first item in the 2-tuple will represent what Player 1\n",
    "#chooses in each round, and the second item in the 2-tuple\n",
    "#will represent what Player 2 chooses in each round.\n",
    "#\n",
    "#find_winner should return the string \"Player 1 wins!\" if\n",
    "#Player 1 wins more games than Player 2. It should return the\n",
    "#string \"Player 2 wins!\" if Player 2 wins more games than\n",
    "#Player 1. It should return the string \"It's a tie!\" if the\n",
    "#two players win an equal number of times. \n",
    "#\n",
    "#The number of times the two players tie is irrelevant to the\n",
    "#result: all that matters is who wins more rounds than the\n",
    "#other.\n",
    "#\n",
    "#For example:\n",
    "#\n",
    "# find_winner([(\"Rock\", \"Rock\"), (\"Rock\", \"Scissors\"),\n",
    "#              (\"Paper\", \"Rock\"), (\"Scissors\", \"Rock\")])\n",
    "#\n",
    "#...would return \"Player 1 wins!\" because Player 1 wins\n",
    "#two round and Player 2 wins one round.\n",
    "\n",
    "\n",
    "#Write your function here!\n",
    "def find_winner(tuples_ls):\n",
    "    result = \"It's a tie!\"\n",
    "    \n",
    "    game_table = {\"Rock\": {\"Scissors\": 1, 'Paper': -1}, \n",
    "                 'Scissors': {'Rock': -1, 'Paper': 1},\n",
    "                 'Paper': {'Rock': 1, 'Scissors': -1}}\n",
    "    \n",
    "    score = 0\n",
    "    for game in tuples_ls:\n",
    "        if game[0] != game[1]:\n",
    "            score += game_table[game[0]][game[1]]\n",
    "    \n",
    "    if score > 0:\n",
    "        return 'Player 1 wins!'\n",
    "    elif score < 0:\n",
    "        return 'Player 2 wins!'\n",
    "    \n",
    "    return result\n",
    "\n",
    "#Below are some lines of code that will test your function.\n",
    "#You can change the value of the variable(s) to test your\n",
    "#function with different inputs.\n",
    "#\n",
    "#If your function works correctly, this will originally\n",
    "#print:\n",
    "#Player 1 wins!\n",
    "#Player 2 wins!\n",
    "#It's a tie!\n",
    "p1_wins = [(\"Rock\", \"Rock\"), (\"Rock\", \"Scissors\"), (\"Paper\", \"Rock\"), (\"Scissors\", \"Rock\")]\n",
    "p2_wins = [(\"Paper\", \"Rock\"), (\"Paper\", \"Paper\"), (\"Paper\", \"Scissors\"), (\"Rock\", \"Paper\")]\n",
    "itsatie = [(\"Paper\", \"Paper\"), (\"Paper\", \"Rock\"), (\"Rock\", \"Paper\"), (\"Scissors\", \"Scissors\")]\n",
    "print(find_winner(p1_wins))\n",
    "print(find_winner(p2_wins))\n",
    "print(find_winner(itsatie))"
   ]
  },
  {
   "cell_type": "code",
   "execution_count": 299,
   "metadata": {},
   "outputs": [
    {
     "name": "stdout",
     "output_type": "stream",
     "text": [
      "1.4 µs ± 214 ns per loop (mean ± std. dev. of 7 runs, 1000000 loops each)\n"
     ]
    }
   ],
   "source": [
    "%timeit find_winner(p1_wins)"
   ]
  },
  {
   "cell_type": "markdown",
   "metadata": {},
   "source": [
    "## Test problems"
   ]
  },
  {
   "cell_type": "code",
   "execution_count": 51,
   "metadata": {},
   "outputs": [
    {
     "name": "stdout",
     "output_type": "stream",
     "text": [
      "{'upper': 0, 'lower': 7, 'punctuation': 0, 'space': 0, 'numeral': 0}\n",
      "{'upper': 3, 'lower': 8, 'punctuation': 1, 'space': 4, 'numeral': 3}\n"
     ]
    }
   ],
   "source": [
    "#Write a function called count_types. count_types\n",
    "#should take as input a single string, and return a\n",
    "#dictionary. In the dictionary, the keys should be\n",
    "#types of characters, and the values should be the\n",
    "#number of times each type of character appeared in\n",
    "#the string.\n",
    "#\n",
    "#The types of characters that should be handled (and\n",
    "#thus, the keys in the dictionary) are:\n",
    "#\n",
    "# - upper: the count of upper-case or capital letters\n",
    "# - lower: the count of lower-case letters\n",
    "# - punctuation: the count of punctuation characters.\n",
    "#   You may assume this is limited to these punctuation\n",
    "#   characters: !\"#$%&'()*+,-./:;<=>?@[\\]^_`{|}~\n",
    "# - space: the count of spaces\n",
    "# - numeral: the count of numerals, 0123456789\n",
    "#\n",
    "#All five keys should be in your dictionary no matter\n",
    "#what; if there are no characters of the corresponding\n",
    "#type, the value associated with the key would just be 0.\n",
    "#\n",
    "#For example:\n",
    "#\n",
    "#count_characters(\"aabbccc\") -> \n",
    "# {\"upper\": 0, \"lower\": 7, \"punctuation\": 0, \"space\": 0, \"numeral\": 0}\n",
    "#count_characters(\"ABC 123 doe ray me!\") -> \n",
    "# {\"upper\": 3, \"lower\": 8, \"punctuation\": 1, \"space\": 4, \"numeral\": 3}\n",
    "#\n",
    "#HINT: If you're sing the ord() function, capitals of\n",
    "#ordinals between 65 and 90; lower-case letters have\n",
    "#ordinals between 97 and 122; numerals are between 48\n",
    "#and 57; spaces are 32; all other numbers between 33\n",
    "#and 126 are punctuations, and no character will have\n",
    "#an ordinal outside that range.\n",
    "\n",
    "\n",
    "#Write your function here!\n",
    "def count_types(string):\n",
    "    result_dict = {'upper':0, 'lower':0, 'punctuation':0, \n",
    "                   'space':0, 'numeral':0}\n",
    "    punct_set = \"\"\"!\"#$%&'()*+,-./:;<=>?@[\\]^_`{|}~\"\"\"\n",
    "    \n",
    "    for char in string:\n",
    "        if char.isalnum():\n",
    "            if char.isupper():\n",
    "                result_dict['upper'] += 1\n",
    "            elif char.islower():\n",
    "                result_dict['lower'] += 1\n",
    "            else:\n",
    "                result_dict['numeral'] += 1\n",
    "        elif char in punct_set:\n",
    "            result_dict['punctuation'] += 1\n",
    "        else:\n",
    "            result_dict['space'] += 1\n",
    "    \n",
    "    return result_dict\n",
    "\n",
    "\n",
    "#Below are some lines of code that will test your function.\n",
    "#You can change the value of the variable(s) to test your\n",
    "#function with different inputs.\n",
    "#\n",
    "#If your function works correctly, this will originally\n",
    "#print (although the order of the keys may vary):\n",
    "#\n",
    "#{\"upper\": 0, \"lower\": 7, \"punctuation\": 0, \"spaces\": 0, \"numerals\": 0}\n",
    "#{\"upper\": 3, \"lower\": 8, \"punctuation\": 1, \"spaces\": 4, \"numerals\": 3}\n",
    "print(count_types(\"aabbccc\"))\n",
    "print(count_types(\"ABC 123 doe ray me!\"))"
   ]
  },
  {
   "cell_type": "code",
   "execution_count": 78,
   "metadata": {},
   "outputs": [
    {
     "name": "stdout",
     "output_type": "stream",
     "text": [
      "{'David': ['Beckham', 'Joyner', 'Tennant'], 'Ananya': ['Agarwal', 'Birla', 'Chatterjee', 'Roy'], 'Ines': ['Melchor', 'Sainz', 'Suarez']}\n"
     ]
    }
   ],
   "source": [
    "#Write a function called abstract_names. abstract_names\n",
    "#should have one parameter: a list of lists. Each list will\n",
    "#be a list of strings, each with a first name and a last\n",
    "#name, and each with the same first name.\n",
    "#\n",
    "#For example, this could be one list of lists your function\n",
    "#might receive:\n",
    "#\n",
    "# [[\"David Joyner\", \"David Tennant\", \"David Beckham\"],\n",
    "#  [\"Ananya Birla\", \"Ananya Agarwal\", \"Ananya Chatterjee\", \"Ananya Roy\"],\n",
    "#  [\"Inés Sainz\", \"Inés Suarez\", \"Inés Melchor\"]]\n",
    "#\n",
    "#abstract_names should return a dictionary. The keys to the\n",
    "#dictionary should be the first names, and the values should\n",
    "#be lists of the associated last names. The last names should\n",
    "#be sorted alphabetically.\n",
    "#\n",
    "#For example, with the list above, the dictionary returned by\n",
    "#abstract_names would be:\n",
    "#\n",
    "# {\"David\": [\"Beckham\", \"Joyner\", \"Tennant\"],\n",
    "#  \"Ananya\": [\"Agarwal\", \"Birla\", \"Chatterjee\", \"Roy\"],\n",
    "#  \"Inés\": [\"Melchor\", \"Sainz\", \"Suarez\"]}\n",
    "\n",
    "\n",
    "#Write your function here!\n",
    "def abstract_names(names):\n",
    "    result_dict = {}\n",
    "    for item in names:\n",
    "        first_name = item[0].split()[0]\n",
    "        last_names = sorted([name.split()[1] for name in item])\n",
    "        result_dict[first_name] = last_names\n",
    "        \n",
    "    return result_dict\n",
    "\n",
    "#Below are some lines of code that will test your function.\n",
    "#You can change the value of the variable(s) to test your\n",
    "#function with different inputs.\n",
    "#\n",
    "#If your function works correctly, this will originally\n",
    "#print (although the order of the keys may vary):\n",
    "#\n",
    "#{\"David\": [\"Beckham\", \"Joyner\", \"Tennant\"], \"Ananya\": [\"Agarwal\", \"Birla\", \"Chatterjee\", \"Roy\"], \"Inés\": [\"Melchor\", \"Sainz\", \"Suarez\"]}\n",
    "names = [[\"David Joyner\", \"David Tennant\", \"David Beckham\"], [\"Ananya Birla\", \"Ananya Agarwal\", \"Ananya Chatterjee\", \"Ananya Roy\"], [\"Ines Sainz\", \"Ines Suarez\", \"Ines Melchor\"]]\n",
    "print(abstract_names(names))"
   ]
  },
  {
   "cell_type": "code",
   "execution_count": 84,
   "metadata": {},
   "outputs": [
    {
     "name": "stdout",
     "output_type": "stream",
     "text": [
      "Keep playing!\n",
      "Player 1 wins!\n",
      "Player 2 wins!\n",
      "Draw!\n"
     ]
    }
   ],
   "source": [
    "#The game Mancala is one of the oldest games in recorded\n",
    "#history. You can read more about it here:\n",
    "#https://www.thesprucecrafts.com/how-to-play-mancala-409424\n",
    "#\n",
    "#For this problem, though, you don't need to know how to\n",
    "#play the game. All you need to know is the board layout\n",
    "#and the conditions for winning.\n",
    "#\n",
    "#A Mancala board is made of two rows of 6 cups, with two\n",
    "#bigger cups at the ends. Each cup holds some number of\n",
    "#stones or chips. For our purposes, though, we'll include\n",
    "#the bigger cups at the end of the corresponding rows.\n",
    "#\n",
    "#So, for us, a Mancala board is represented as a\n",
    "#2-dimensional list of integers. Each item in the lists\n",
    "#represents a cup, and the number represents how many\n",
    "#stones are currently in that cup. For example, this\n",
    "#could be one board:\n",
    "#\n",
    "# [[5, 3, 0, 2, 6, 8, 1],\n",
    "#  [1, 6, 8, 0, 4, 1, 4]]\n",
    "#\n",
    "#With this board representation, the game is over when\n",
    "#every cup is empty except the top left and the bottom\n",
    "#right. When the game is over, whoever has more stones\n",
    "#in their cup wins: if the top left has more stones, the\n",
    "#top player wins. If the bottom right has more stones,\n",
    "#the bottom player wins.\n",
    "#\n",
    "#Write a function called check_winner. check_winner takes\n",
    "#as a 2-dimensional list representing a game board. You\n",
    "#may assume list will always have two lists, each with\n",
    "#7 items, corresponding to the board structure shown\n",
    "#above.\n",
    "#\n",
    "#Your function should return one of four strings\n",
    "#depending on the values of the list:\n",
    "#\n",
    "# - If the game is not over (that is, there are stones\n",
    "#   in any bucket except for the top-left or bottom-\n",
    "#   right), return \"Keep playing!\"\n",
    "# - If the game is over and the top player wins (that is,\n",
    "#   there are more stones in top-left than bottom-right),\n",
    "#   return \"Player 1 wins!\"\n",
    "# - If the game is over and the bottom player wins (that\n",
    "#   is, there are more stones in the bottom-right than\n",
    "#   the top-left), return \"Player 2 wins!\"\n",
    "# - If the game is over but the score is tied (that is,\n",
    "#   there is an equal number of stones in the top-left\n",
    "#   and bottom-right), return \"Draw!\"\n",
    "\n",
    "\n",
    "#Write your function here!\n",
    "def check_winner(game_board):\n",
    "    # Check game over\n",
    "    if sum(game_board[0][1:]) + sum(game_board[1][:-1]) > 0:\n",
    "        return 'Keep playing!'\n",
    "    elif game_board[0][0] == game_board[1][-1]:\n",
    "        return 'Draw!'\n",
    "    elif game_board[0][0] > game_board[1][-1]:\n",
    "        return 'Player 1 wins!'\n",
    "    else:\n",
    "        return 'Player 2 wins!'\n",
    "\n",
    "\n",
    "#Below are some lines of code that will test your function.\n",
    "#You can change the value of the variable(s) to test your\n",
    "#function with different inputs.\n",
    "#\n",
    "#If your function works correctly, this will originally\n",
    "#print:\n",
    "#Keep playing!\n",
    "#Player 1 wins!\n",
    "#Player 2 wins!\n",
    "#Draw!\n",
    "keep_playing = [[5, 3, 0, 2, 6, 8, 1], [1, 6, 8, 0, 4, 1, 4]]\n",
    "player1_wins = [[27, 0, 0, 0, 0, 0, 0], [0, 0, 0, 0, 0, 0, 21]]\n",
    "player2_wins = [[16, 0, 0, 0, 0, 0, 0], [0, 0, 0, 0, 0, 0, 32]]\n",
    "game_is_tied = [[24, 0, 0, 0, 0, 0, 0], [0, 0, 0, 0, 0, 0, 24]]\n",
    "print(check_winner(keep_playing))\n",
    "print(check_winner(player1_wins))\n",
    "print(check_winner(player2_wins))\n",
    "print(check_winner(game_is_tied))\n",
    "\n"
   ]
  },
  {
   "cell_type": "code",
   "execution_count": 1,
   "metadata": {},
   "outputs": [
    {
     "name": "stdout",
     "output_type": "stream",
     "text": [
      "{1: 'a', 2: 'b', 3: 'c', 4: 'd'}\n",
      "Error!\n"
     ]
    }
   ],
   "source": [
    "#Write a function called add_to_dictionary. add_to_dictionary\n",
    "#should have three parameters: a dictionary, a potential new\n",
    "#key, and a potential new value.\n",
    "#\n",
    "#add_to_dictionary should add the given key and value to the\n",
    "#dictionary if the key is of a legal type to be used as a\n",
    "#dictionary key.\n",
    "#\n",
    "#If the key is a legal type to be used as a dictionary key,\n",
    "#return the resultant dictionary.\n",
    "#\n",
    "#If the key is _not_ a legal type to be used as a dictionary\n",
    "#key, return the string \"Error!\"\n",
    "#\n",
    "#Remember, only immutable types can be used as dictionary\n",
    "#keys. If you don't remember which types are immutable or\n",
    "#how to check a value's type, don't fret: there's a way\n",
    "#to do this without checking them directly!\n",
    "\n",
    "\n",
    "#Write your function here!\n",
    "def add_to_dictionary(a_dictionary, key, value):\n",
    "    try:\n",
    "        a_dictionary[key] = value\n",
    "    except TypeError:\n",
    "        return 'Error!'\n",
    "    \n",
    "    return a_dictionary\n",
    "\n",
    "\n",
    "#Below are some lines of code that will test your function.\n",
    "#You can change the value of the variable(s) to test your\n",
    "#function with different inputs.\n",
    "#\n",
    "#If your function works correctly, this will originally\n",
    "#print:\n",
    "#{1: \"a\", 2: \"b\", 3: \"c\", 4: \"d\"}\n",
    "#Error!\n",
    "a_dictionary = {1: \"a\", 2: \"b\", 3: \"c\"}\n",
    "print(add_to_dictionary(a_dictionary, 4, \"d\"))\n",
    "print(add_to_dictionary(a_dictionary, [4, 5, 6], \"e\"))"
   ]
  }
 ],
 "metadata": {
  "kernelspec": {
   "display_name": "Python 3",
   "language": "python",
   "name": "python3"
  },
  "language_info": {
   "codemirror_mode": {
    "name": "ipython",
    "version": 3
   },
   "file_extension": ".py",
   "mimetype": "text/x-python",
   "name": "python",
   "nbconvert_exporter": "python",
   "pygments_lexer": "ipython3",
   "version": "3.8.6"
  },
  "toc": {
   "base_numbering": 1,
   "nav_menu": {},
   "number_sections": true,
   "sideBar": true,
   "skip_h1_title": false,
   "title_cell": "Table of Contents",
   "title_sidebar": "Contents",
   "toc_cell": false,
   "toc_position": {
    "height": "calc(100% - 180px)",
    "left": "10px",
    "top": "150px",
    "width": "287px"
   },
   "toc_section_display": true,
   "toc_window_display": true
  },
  "toc-autonumbering": true,
  "toc-showcode": false
 },
 "nbformat": 4,
 "nbformat_minor": 4
}
