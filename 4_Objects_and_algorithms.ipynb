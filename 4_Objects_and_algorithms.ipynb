{
 "cells": [
  {
   "cell_type": "markdown",
   "metadata": {},
   "source": [
    "# Objects\n",
    "This chapter introduces us to two fundamental pillars of knowledge in computer science: object-oriented programming (OOP) and algorithms. Breadth over depth is emphasized in this chapter. "
   ]
  },
  {
   "cell_type": "markdown",
   "metadata": {},
   "source": [
    "## What are objects?\n",
    "\n",
    "Objects are concepts from OOP paradigm. \n",
    "\n",
    "- OOP is a paradigm, in contrast to, e.g., procedural and functional programming, where custom data types are defined and used with custom methods defined for them. \n",
    "- Class: We usually refer to such a data type as a class with custom methods and variables (also known as class attributes). \n",
    "- Objects and instances: An object or instance is what we usually refer to a particular \"variable\" created from a class. For example:\n",
    "    - From a `person` class, we can create a particular person, e.g., `david` or `mary`.\n",
    "    - From a `book` class, we can create a particular book, e.g., `book_A` or `book_B`.\n",
    "\n",
    "Therefore, to understand the class-instance relationship, we can think of the relationship between an unfilled form and a filled one: An unfilled form represents a template, a class; The form can then be filled with different information by different people to create different instances. "
   ]
  },
  {
   "cell_type": "code",
   "execution_count": 9,
   "metadata": {},
   "outputs": [],
   "source": [
    "class Person:\n",
    "    def __init__(self):\n",
    "        self.first_name = \"[No first name]\"\n",
    "        self.last_name = '[No last name]'        \n",
    "        self.eyecolor = '[No eye color]'\n",
    "        self.age = -1"
   ]
  },
  {
   "cell_type": "code",
   "execution_count": 10,
   "metadata": {},
   "outputs": [
    {
     "data": {
      "text/plain": [
       "'[No first name]'"
      ]
     },
     "execution_count": 10,
     "metadata": {},
     "output_type": "execute_result"
    }
   ],
   "source": [
    "person_1 = Person()\n",
    "person_1.first_name"
   ]
  },
  {
   "cell_type": "markdown",
   "metadata": {},
   "source": [
    "## Objects and instances in Python\n",
    "\n",
    "Just like how we need to declare a function before using it, to work with objects and instances, we first need to declare the class. Declaring classes in Python is essentially teaching the computer what kind of concepts make sense for the class object. For example\n",
    "\n",
    "- To make a `book` class, each book instance could have a title, an author, a publication date, etc.\n",
    "- To make a `person` class, each person instance could have a name, an age, an eye color, etc.\n",
    "\n",
    "During declaration, Python uses the dot syntax `self.` to assign or access its attributes such as title or author. \n",
    "\n",
    "- For example, to set a book instance's name as `'Python Programming'`, we can write: `self.name = 'Python Programming'`. "
   ]
  },
  {
   "cell_type": "code",
   "execution_count": 11,
   "metadata": {},
   "outputs": [],
   "source": [
    "# The power of object-oriented programming\n",
    "class Name:\n",
    "    def __init__(self):\n",
    "        self.first_name = \"[No first name]\"\n",
    "        self.last_name = '[No last name]'\n",
    "\n",
    "class Person:\n",
    "    def __init__(self):\n",
    "        self.name = Name()\n",
    "        self.eyecolor = '[No eye color]'\n",
    "        self.age = -1"
   ]
  },
  {
   "cell_type": "code",
   "execution_count": 12,
   "metadata": {},
   "outputs": [
    {
     "data": {
      "text/plain": [
       "'[No first name]'"
      ]
     },
     "execution_count": 12,
     "metadata": {},
     "output_type": "execute_result"
    }
   ],
   "source": [
    "person_1 = Person()\n",
    "person_1.name.first_name"
   ]
  },
  {
   "cell_type": "code",
   "execution_count": 13,
   "metadata": {},
   "outputs": [
    {
     "name": "stdout",
     "output_type": "stream",
     "text": [
      "128\n",
      "red\n"
     ]
    }
   ],
   "source": [
    "#Write a class named \"Phone\". The Phone class should \n",
    "#have an attribute called \"storage\" which defaults to\n",
    "#128, and an attribute called \"color\" which defaults\n",
    "#to \"red\".\n",
    "#\n",
    "#Hint: 'attribute' is another common word for\n",
    "#'instance variable'.\n",
    "\n",
    "\n",
    "#Write your class here!\n",
    "class Phone:\n",
    "    def __init__(self):\n",
    "        self.storage = 128\n",
    "        self.color = 'red'\n",
    "\n",
    "\n",
    "#Below are some lines of code that will test your function.\n",
    "#You can change the value of the variable(s) to test your\n",
    "#function with different inputs.\n",
    "#\n",
    "#If your function works correctly, this will originally\n",
    "#print 128 and red, each on a separate line.\n",
    "new_phone = Phone()\n",
    "print(new_phone.storage)\n",
    "print(new_phone.color)"
   ]
  },
  {
   "cell_type": "code",
   "execution_count": 14,
   "metadata": {},
   "outputs": [],
   "source": [
    "#Write a class named \"Number\" with one attribute called \n",
    "#\"value\" which defaults to 0 and another attribute called \n",
    "#\"even\" which defaults to True.\n",
    "#\n",
    "#Next, create an instance of this class and assign it to\n",
    "#a variable called \"number_instance\".\n",
    "#\n",
    "#Then, set the value attribute to 101 and the even\n",
    "#attribute to False.\n",
    "\n",
    "\n",
    "#Write your code here!\n",
    "class Number:\n",
    "    def __init__(self):\n",
    "        self.value = 0\n",
    "        self.even = True\n",
    "\n",
    "number_instance = Number()\n",
    "number_instance.value = 101\n",
    "number_instance.even = False\n",
    "\n",
    "#Note that this exercise does not print anything by\n",
    "#default. You're welcome to add print statements to debug\n",
    "#your code when running it. Note that the autograder\n",
    "#will check both your value for number_instance and your\n",
    "#definition of the class Number."
   ]
  },
  {
   "cell_type": "markdown",
   "metadata": {},
   "source": [
    "## Encapsulating methods in classes"
   ]
  },
  {
   "cell_type": "markdown",
   "metadata": {},
   "source": [
    "## Encapsulating methods in Python"
   ]
  },
  {
   "cell_type": "code",
   "execution_count": 1,
   "metadata": {},
   "outputs": [],
   "source": [
    "#Rewrite the \"Number\" class from 5.1.2 Coding Exercise 2.\n",
    "#This time, however, require arguments for value and\n",
    "#even in the constructor. Then, inside the constructor,\n",
    "#create new instance variables called value and even that\n",
    "#copy the values of the arguments passed into the\n",
    "#constructor.\n",
    "#\n",
    "#In other words, rewrite the Number class such that value\n",
    "#and even behave the way studentName and enrolled behaved\n",
    "#in the exercise above, and the way firstname and lastname\n",
    "#behaved in video 5.1.4.1.\n",
    "#\n",
    "#Then, as before, create an instance of this class and\n",
    "#assign it to a variable called \"number_instance\". value\n",
    "#should again be set to 101 and even should be set to\n",
    "#False.\n",
    "#\n",
    "#Hint: Remember, the way you initialize the instance will\n",
    "#have to change, too, based on the changes to the\n",
    "#constructor that we're requiring.\n",
    "\n",
    "\n",
    "#Write your code here!\n",
    "class Number:\n",
    "    def __init__(self, value, even):\n",
    "        self.value = value\n",
    "        self.even = even\n",
    "\n",
    "number_instance = Number(101, False)"
   ]
  },
  {
   "cell_type": "code",
   "execution_count": 4,
   "metadata": {},
   "outputs": [
    {
     "name": "stdout",
     "output_type": "stream",
     "text": [
      "Running\n",
      "Low\n",
      "60\n",
      "Swimming\n",
      "High\n",
      "30\n"
     ]
    }
   ],
   "source": [
    "#Imagine you're writing an exercise-tracking app like Fitbit\n",
    "#or MyFitnessPal. Part of your app is that a user can log an\n",
    "#exercise session by naming the exercise, the intensity, and\n",
    "#the duration.\n",
    "#\n",
    "#Write a class called ExerciseSession. ExerciseSession\n",
    "#should have a constructor that requires two strings and an\n",
    "#integer: the strings represent the exercise name and the\n",
    "#exercise intensity, which will be \"Low\", \"Moderate\", or\n",
    "#\"High\". The integer will represent the length of the\n",
    "#exercise session in minutes. These should be saved in the\n",
    "#instance of the class.\n",
    "#\n",
    "#Then, add three getters to the class. The getters should\n",
    "#be named get_exercise, get_intensity, and get_duration,\n",
    "#and should return the exercise string, the exercise\n",
    "#intensity, and the duration, respectively.\n",
    "#\n",
    "#The setters should be named set_exercise, set_intensity,\n",
    "#and set_duration. Each should have one parameter (besides\n",
    "#self), which should be stored as the new value of\n",
    "#exercise, intensity, or duration. You may assume only\n",
    "#valid values will be passed in.\n",
    "#\n",
    "#HINT: You don't have to do any logging like you saw in\n",
    "#the video! That was just an example of one benefit of\n",
    "#using getters and setters, but this problem does not ask\n",
    "#you to do that.\n",
    "\n",
    "\n",
    "#Add your code here!\n",
    "class ExerciseSession:\n",
    "    def __init__(self, exercise_name, exercise_intensity, exercise_duration):\n",
    "        self.exercise_name = exercise_name\n",
    "        self.exercise_intensity = exercise_intensity\n",
    "        self.exercise_duration = exercise_duration\n",
    "        \n",
    "    def get_exercise(self):\n",
    "        return self.exercise_name\n",
    "\n",
    "    def get_intensity(self):\n",
    "        return self.exercise_intensity\n",
    "    \n",
    "    def get_duration(self):\n",
    "        return self.exercise_duration\n",
    "    \n",
    "    def set_exercise(self, exercise):\n",
    "        self.exercise_name = exercise\n",
    "\n",
    "    def set_intensity(self, intensity):\n",
    "        self.exercise_intensity = intensity\n",
    "    \n",
    "    def set_duration(self, duration):\n",
    "        self.exercise_duration = duration\n",
    "\n",
    "\n",
    "#If your code is implemented correctly, the lines below\n",
    "#will run error-free. They will result in the following\n",
    "#output to the console:\n",
    "#Running\n",
    "#Low\n",
    "#60\n",
    "#Swimming\n",
    "#High\n",
    "#30\n",
    "new_exercise = ExerciseSession(\"Running\", \"Low\", 60)\n",
    "print(new_exercise.get_exercise())\n",
    "print(new_exercise.get_intensity())\n",
    "print(new_exercise.get_duration())\n",
    "new_exercise.set_exercise(\"Swimming\")\n",
    "new_exercise.set_intensity(\"High\")\n",
    "new_exercise.set_duration(30)\n",
    "print(new_exercise.get_exercise())\n",
    "print(new_exercise.get_intensity())\n",
    "print(new_exercise.get_duration())"
   ]
  },
  {
   "cell_type": "code",
   "execution_count": 6,
   "metadata": {},
   "outputs": [
    {
     "name": "stdout",
     "output_type": "stream",
     "text": [
      "240\n",
      "360\n"
     ]
    }
   ],
   "source": [
    "#Previously, you wrote a class called ExerciseSession that\n",
    "#had three attributes: an exercise name, an intensity, and a\n",
    "#duration.\n",
    "#\n",
    "#Add a new method to that class called calories_burned.\n",
    "#calories_burned should have no parameters (besides self, as\n",
    "#every method in a class has). It should return an integer\n",
    "#representing the number of calories burned according to the\n",
    "#following formula:\n",
    "#\n",
    "# - If the intensity is \"Low\", 4 calories are burned per\n",
    "#   minute.\n",
    "# - If the intensity is \"Medium\", 8 calories are burned\n",
    "#   per minute.\n",
    "# - If the intensity is \"High\", 12 calories are burned per\n",
    "#   minute.\n",
    "#\n",
    "#You may copy your class from the previous exercise and just\n",
    "#add to it.\n",
    "\n",
    "\n",
    "#Add your code here!\n",
    "class ExerciseSession:\n",
    "    def __init__(self, exercise_name, exercise_intensity, exercise_duration):\n",
    "        self.exercise_name = exercise_name\n",
    "        self.exercise_intensity = exercise_intensity\n",
    "        self.exercise_duration = exercise_duration\n",
    "        \n",
    "    def get_exercise(self):\n",
    "        return self.exercise_name\n",
    "\n",
    "    def get_intensity(self):\n",
    "        return self.exercise_intensity\n",
    "    \n",
    "    def get_duration(self):\n",
    "        return self.exercise_duration\n",
    "    \n",
    "    def set_exercise(self, exercise):\n",
    "        self.exercise_name = exercise\n",
    "\n",
    "    def set_intensity(self, intensity):\n",
    "        self.exercise_intensity = intensity\n",
    "    \n",
    "    def set_duration(self, duration):\n",
    "        self.exercise_duration = duration\n",
    "        \n",
    "    def calories_burned(self):\n",
    "        if self.exercise_intensity == 'Low':\n",
    "            return 4 * self.exercise_duration\n",
    "        elif self.exercise_intensity == 'Medium':\n",
    "            return 8 * self.exercise_duration\n",
    "        else:\n",
    "            return 12 * self.exercise_duration        \n",
    "\n",
    "\n",
    "#If your code is implemented correctly, the lines below\n",
    "#will run error-free. They will result in the following\n",
    "#output to the console:\n",
    "#240\n",
    "#360\n",
    "new_exercise = ExerciseSession(\"Running\", \"Low\", 60)\n",
    "print(new_exercise.calories_burned())\n",
    "new_exercise.set_exercise(\"Swimming\")\n",
    "new_exercise.set_intensity(\"High\")\n",
    "new_exercise.set_duration(30)\n",
    "print(new_exercise.calories_burned())"
   ]
  },
  {
   "cell_type": "markdown",
   "metadata": {},
   "source": [
    "## Advanced topics in classes in Python"
   ]
  },
  {
   "cell_type": "markdown",
   "metadata": {},
   "source": [
    "### Combining classes"
   ]
  },
  {
   "cell_type": "code",
   "execution_count": 7,
   "metadata": {},
   "outputs": [
    {
     "name": "stdout",
     "output_type": "stream",
     "text": [
      "George P. Burdell\n",
      "Mrs. Burdell\n",
      "Mr. Burdell\n"
     ]
    }
   ],
   "source": [
    "#Classes can also have references to other instances of\n",
    "#themselves. Consider this Person class, for example, \n",
    "#that allows for an instance of a father and mother\n",
    "#to be given in the constructor.\n",
    "#\n",
    "#Create 3 instances of this class. The first should have \n",
    "#the name \"Mr. Burdell\" with an age of 53. The second\n",
    "#instance should have a name of \"Mrs. Burdell\" with an age\n",
    "#of 53 as well. Finally, make an instance with the name of\n",
    "#\"George P. Burdell\" with an age of 25. This final instance\n",
    "#should also have the father attribute set to the instance \n",
    "#of Mr. Burdell, and the mother attribute set to the \n",
    "#instance of Mrs. Burdell. Finally, store the instance of \n",
    "#George P. Burdell in a variable called george_p. (It does\n",
    "#not matter what variable names you use for Mr. and Mrs.\n",
    "#Burdell.)\n",
    "\n",
    "class Person:\n",
    "    def __init__(self, name, age, father=None, mother=None):\n",
    "        self.name = name\n",
    "        self.age = age\n",
    "        self.father = father\n",
    "        self.mother = mother\n",
    "\n",
    "#Write your code here!\n",
    "mr_burdell = Person('Mr. Burdell', 53)\n",
    "mrs_burdell = Person('Mrs. Burdell', 53)\n",
    "george_p = Person('George P. Burdell', 25, father=mr_burdell, mother=mrs_burdell)\n",
    "\n",
    "\n",
    "#The code below will let you test your code. It isn't used\n",
    "#for grading, so feel free to modify it. As written, it\n",
    "#should print George P. Burdell, Mrs. Burdell, and Mr.\n",
    "#Burdell each on a separate line.\n",
    "print(george_p.name)\n",
    "print(george_p.mother.name)\n",
    "print(george_p.father.name)"
   ]
  },
  {
   "cell_type": "markdown",
   "metadata": {},
   "source": [
    "### Instance assignment"
   ]
  },
  {
   "cell_type": "code",
   "execution_count": 11,
   "metadata": {},
   "outputs": [
    {
     "name": "stdout",
     "output_type": "stream",
     "text": [
      "Taylor Swift\n",
      "Big Machine Records, LLC\n",
      "2016\n"
     ]
    }
   ],
   "source": [
    "#We've given you a class called \"Song\" that represents\n",
    "#some basic information about a song. We also wrote a \n",
    "#class called \"Artist\" which contains some basic \n",
    "#information about an artist.\n",
    "#\n",
    "#Your job is to create three instances of the song class,\n",
    "#called song_1, song_2, and song_3.\n",
    "#\n",
    "#song_1 should have the following attributes:\n",
    "#   name = \"You Belong With Me\"\n",
    "#   album = \"Fearless\"\n",
    "#   year = 2008\n",
    "#   artist.name = \"Taylor Swift\"\n",
    "#   artist.label = \"Big Machine Records, LLC\"\n",
    "#\n",
    "#song_2 should have the following attributes:\n",
    "#   name = \"All Too Well\"\n",
    "#   album = \"Red\"\n",
    "#   year = 2012\n",
    "#   artist.name = \"Taylor Swift\"\n",
    "#   artist.label = \"Big Machine Records, LLC\"\n",
    "#\n",
    "#song_3 should have the following attributes:\n",
    "#   name = \"Up We Go\"\n",
    "#   album = \"Midnight Machines\"\n",
    "#   year = 2016\n",
    "#   artist.name = \"LiGHTS\"\n",
    "#   artist.label = \"Warner Bros. Records Inc.\"\n",
    "#\n",
    "#Notice, though, that song_1 and song_2 have the same\n",
    "#artist and label. That means they should each have the\n",
    "#SAME instance of artist: do not create separate instances\n",
    "#of artist for each song.\n",
    "#\n",
    "#When your code is done running, there should exist three\n",
    "#variables: song_1, song_2, and song_3, according to the\n",
    "#requirements above.\n",
    "\n",
    "class Artist:\n",
    "    def __init__(self, name, label):\n",
    "        self.name = name\n",
    "        self.label = label\n",
    "\n",
    "class Song:\n",
    "    def __init__(self, name, album, year, artist):\n",
    "        self.name = name\n",
    "        self.album = album\n",
    "        self.year = year\n",
    "        self.artist = artist\n",
    "        \n",
    "\n",
    "#Write your code here!\n",
    "taylor_swift = Artist('Taylor Swift', 'Big Machine Records, LLC')\n",
    "lights = Artist('LiGHTS', 'Warner Bros. Records Inc.')\n",
    "\n",
    "song_1 = Song('You Belong With Me', 'Fearless', 2008, taylor_swift)\n",
    "song_2 = Song('All Too Well', 'Red', 2012, taylor_swift)\n",
    "song_3 = Song('Up We Go', 'Midnight Machines', 2016, lights)\n",
    "\n",
    "\n",
    "#Feel free to add code to test your code below.\n",
    "print(song_1.artist.name)\n",
    "print(song_2.artist.label)\n",
    "print(song_3.year)"
   ]
  },
  {
   "cell_type": "markdown",
   "metadata": {},
   "source": [
    "### Instances as arguments"
   ]
  },
  {
   "cell_type": "code",
   "execution_count": 16,
   "metadata": {},
   "outputs": [
    {
     "name": "stdout",
     "output_type": "stream",
     "text": [
      "\"You Belong With Me\" - Taylor Swift (2008)\n"
     ]
    }
   ],
   "source": [
    "#Below are the two class definitions we supplied previously:\n",
    "#Artist and Song.\n",
    "#\n",
    "#Write a function called \"get_song_string\". It should accept\n",
    "#one argument which will be a Song object. It should return\n",
    "#a string in the following format:\n",
    "#\n",
    "# \"<song name>\" - <artist name> (<song year>)\n",
    "# e.g: \n",
    "# \"You Belong With Me\" - Taylor Swift (2008)\n",
    "#\n",
    "#The quotation marks around the song title should be *part*\n",
    "#of the string.\n",
    "#\n",
    "#Hint: You're writing a function, not a method. That means\n",
    "#the function get_song_string should not be inside either\n",
    "#of these classes.\n",
    "\n",
    "class Artist:\n",
    "    def __init__(self, name, label):\n",
    "        self.name = name\n",
    "        self.label = label\n",
    "\n",
    "class Song:\n",
    "    def __init__(self, name, album, year, artist):\n",
    "        self.name = name\n",
    "        self.album = album\n",
    "        self.year = year\n",
    "        self.artist = artist\n",
    "\n",
    "def get_song_string(song):\n",
    "    return f\"\"\"\"{song.name}\" - {song.artist.name} ({song.year})\"\"\"\n",
    "        \n",
    "#Below are some lines of code that will test your function.\n",
    "#You can change the value of the variable(s) to test your\n",
    "#function with different inputs.\n",
    "#\n",
    "#If your function works correctly, this will originally\n",
    "#print: \"You Belong With Me\" -Taylor Swift (2008)\n",
    "new_artist = Artist(\"Taylor Swift\", \"Big Machine Records, LLC\")\n",
    "new_song = Song(\"You Belong With Me\", \"Fearless\", 2008, new_artist)\n",
    "print(get_song_string(new_song))"
   ]
  },
  {
   "cell_type": "markdown",
   "metadata": {},
   "source": [
    "## Additional concepts"
   ]
  },
  {
   "cell_type": "markdown",
   "metadata": {},
   "source": [
    "### Class and instance variables"
   ]
  },
  {
   "cell_type": "code",
   "execution_count": 17,
   "metadata": {},
   "outputs": [],
   "source": [
    "class Dog:\n",
    "\n",
    "    kind = 'canine'         # class variable shared by all instances\n",
    "\n",
    "    def __init__(self, name):\n",
    "        self.name = name    # instance variable unique to each instance"
   ]
  },
  {
   "cell_type": "code",
   "execution_count": 19,
   "metadata": {},
   "outputs": [],
   "source": [
    "d = Dog('Fido')\n",
    "e = Dog('Buddy')"
   ]
  },
  {
   "cell_type": "code",
   "execution_count": 20,
   "metadata": {},
   "outputs": [
    {
     "name": "stdout",
     "output_type": "stream",
     "text": [
      "canine\n",
      "canine\n",
      "Fido\n",
      "Buddy\n"
     ]
    }
   ],
   "source": [
    "print(d.kind)                  # shared by all dogs\n",
    "print(e.kind)                  # shared by all dogs\n",
    "print(d.name)                 # unique to d\n",
    "print(e.name)                  # unique to e"
   ]
  },
  {
   "cell_type": "code",
   "execution_count": 22,
   "metadata": {},
   "outputs": [],
   "source": [
    "class Dog:\n",
    "\n",
    "    tricks = []             # mistaken use of a class variable\n",
    "\n",
    "    def __init__(self, name):\n",
    "        self.name = name\n",
    "\n",
    "    def add_trick(self, trick):\n",
    "        self.tricks.append(trick)"
   ]
  },
  {
   "cell_type": "code",
   "execution_count": 22,
   "metadata": {},
   "outputs": [
    {
     "name": "stdout",
     "output_type": "stream",
     "text": [
      "['roll over', 'play dead']\n"
     ]
    }
   ],
   "source": [
    "d = Dog('Fido')\n",
    "e = Dog('Buddy')\n",
    "d.add_trick('roll over')\n",
    "e.add_trick('play dead')\n",
    "print(d.tricks)                # unexpectedly shared by all dogs"
   ]
  },
  {
   "cell_type": "code",
   "execution_count": 23,
   "metadata": {},
   "outputs": [],
   "source": [
    "# Correct design\n",
    "class Dog:\n",
    "\n",
    "    def __init__(self, name):\n",
    "        self.name = name\n",
    "        self.tricks = []    # creates a new empty list for each dog\n",
    "\n",
    "    def add_trick(self, trick):\n",
    "        self.tricks.append(trick)"
   ]
  },
  {
   "cell_type": "code",
   "execution_count": 24,
   "metadata": {},
   "outputs": [
    {
     "name": "stdout",
     "output_type": "stream",
     "text": [
      "['roll over']\n"
     ]
    }
   ],
   "source": [
    "d = Dog('Fido')\n",
    "e = Dog('Buddy')\n",
    "d.add_trick('roll over')\n",
    "e.add_trick('play dead')\n",
    "print(d.tricks)            "
   ]
  },
  {
   "cell_type": "markdown",
   "metadata": {},
   "source": [
    "### Functions and methods"
   ]
  },
  {
   "cell_type": "code",
   "execution_count": 25,
   "metadata": {},
   "outputs": [],
   "source": [
    "# Function defined outside the class\n",
    "# However, it may confuse readers.\n",
    "def f1(self, x, y):\n",
    "    return min(x, x+y)\n",
    "\n",
    "class C:\n",
    "    f = f1\n",
    "\n",
    "    def g(self):\n",
    "        return 'hello world'\n",
    "\n",
    "    h = g"
   ]
  },
  {
   "cell_type": "code",
   "execution_count": 26,
   "metadata": {},
   "outputs": [],
   "source": [
    "# Methods may call on other methods \n",
    "# through method attributes of self.\n",
    "class Bag:\n",
    "    def __init__(self):\n",
    "        self.data = []\n",
    "\n",
    "    def add(self, x):\n",
    "        self.data.append(x)\n",
    "\n",
    "    def addtwice(self, x):\n",
    "        self.add(x)\n",
    "        self.add(x)"
   ]
  },
  {
   "cell_type": "markdown",
   "metadata": {},
   "source": [
    "# Algorithms"
   ]
  },
  {
   "cell_type": "markdown",
   "metadata": {},
   "source": [
    "## Recursion"
   ]
  },
  {
   "cell_type": "code",
   "execution_count": 32,
   "metadata": {},
   "outputs": [],
   "source": [
    "def Fib(n):\n",
    "    if n > 2:\n",
    "        return Fib(n-1) + Fib(n-2)\n",
    "    else:\n",
    "        return 1"
   ]
  },
  {
   "cell_type": "code",
   "execution_count": 33,
   "metadata": {},
   "outputs": [
    {
     "name": "stdout",
     "output_type": "stream",
     "text": [
      "3.84 ms ± 294 µs per loop (mean ± std. dev. of 7 runs, 100 loops each)\n"
     ]
    }
   ],
   "source": [
    "%timeit [Fib(i+1) for i in range(20)]"
   ]
  },
  {
   "cell_type": "code",
   "execution_count": 49,
   "metadata": {},
   "outputs": [],
   "source": [
    "def Fib(n):\n",
    "    fib = [0, 1]\n",
    "    for i in range(2, n+1):\n",
    "        fib.append(fib[i-1] + fib[i-2])\n",
    "    \n",
    "    return fib[n]"
   ]
  },
  {
   "cell_type": "code",
   "execution_count": 50,
   "metadata": {},
   "outputs": [
    {
     "name": "stdout",
     "output_type": "stream",
     "text": [
      "45.1 µs ± 3.69 µs per loop (mean ± std. dev. of 7 runs, 10000 loops each)\n"
     ]
    }
   ],
   "source": [
    "%timeit [Fib(i+1) for i in range(20)]"
   ]
  },
  {
   "cell_type": "code",
   "execution_count": 51,
   "metadata": {},
   "outputs": [],
   "source": [
    "def Fib(n):\n",
    "    a = 0\n",
    "    b = 1\n",
    "    if n < 0:\n",
    "        print(\"Incorrect input\")\n",
    "    elif n == 0:\n",
    "        return a\n",
    "    elif n == 1:\n",
    "        return b\n",
    "    else:\n",
    "        for i in range(2,n+1):\n",
    "            c = a + b\n",
    "            a = b\n",
    "            b = c\n",
    "        return b"
   ]
  },
  {
   "cell_type": "code",
   "execution_count": 53,
   "metadata": {},
   "outputs": [
    {
     "name": "stdout",
     "output_type": "stream",
     "text": [
      "21.1 µs ± 3.38 µs per loop (mean ± std. dev. of 7 runs, 10000 loops each)\n"
     ]
    }
   ],
   "source": [
    "%timeit [Fib(i+1) for i in range(20)]"
   ]
  },
  {
   "cell_type": "markdown",
   "metadata": {},
   "source": [
    "## Sorting algorithms"
   ]
  },
  {
   "cell_type": "code",
   "execution_count": 3,
   "metadata": {},
   "outputs": [],
   "source": [
    "numbers = [3, 44, 38, 5, 47, 15, 36, 26, 27, 1]"
   ]
  },
  {
   "cell_type": "markdown",
   "metadata": {},
   "source": [
    "### Bubble sort"
   ]
  },
  {
   "cell_type": "code",
   "execution_count": 297,
   "metadata": {},
   "outputs": [
    {
     "name": "stdout",
     "output_type": "stream",
     "text": [
      "True\n"
     ]
    }
   ],
   "source": [
    "def bubble_sort(unsorted_ls):\n",
    "    sorted_ls = unsorted_ls[:]\n",
    "    for i in range(len(sorted_ls)-1):\n",
    "        for j in range(1, len(sorted_ls)-i):\n",
    "            if sorted_ls[j-1] > sorted_ls[j]:\n",
    "                sorted_ls[j-1], sorted_ls[j] = sorted_ls[j], sorted_ls[j-1]\n",
    "                \n",
    "    return sorted_ls\n",
    "\n",
    "print(sorted(numbers) == bubble_sort(numbers))"
   ]
  },
  {
   "cell_type": "code",
   "execution_count": 301,
   "metadata": {},
   "outputs": [
    {
     "name": "stdout",
     "output_type": "stream",
     "text": [
      "12.3 µs ± 803 ns per loop (mean ± std. dev. of 7 runs, 100000 loops each)\n"
     ]
    }
   ],
   "source": [
    "%timeit bubble_sort(numbers)"
   ]
  },
  {
   "cell_type": "markdown",
   "metadata": {},
   "source": [
    "### Selection sort"
   ]
  },
  {
   "cell_type": "code",
   "execution_count": 299,
   "metadata": {},
   "outputs": [
    {
     "name": "stdout",
     "output_type": "stream",
     "text": [
      "True\n"
     ]
    }
   ],
   "source": [
    "def selection_sort(unsorted_ls):\n",
    "    sorted_ls = unsorted_ls[:]\n",
    "    for i in range(len(sorted_ls)-1):\n",
    "        min_ix = i\n",
    "        for j in range(i+1, len(sorted_ls)):\n",
    "            if sorted_ls[j] < sorted_ls[min_ix]:\n",
    "                min_ix = j\n",
    "                \n",
    "        sorted_ls[i], sorted_ls[min_ix] = sorted_ls[min_ix], sorted_ls[i]\n",
    "                \n",
    "    return sorted_ls   \n",
    "\n",
    "print(sorted(numbers) == selection_sort(numbers))"
   ]
  },
  {
   "cell_type": "code",
   "execution_count": 302,
   "metadata": {},
   "outputs": [
    {
     "name": "stdout",
     "output_type": "stream",
     "text": [
      "7.84 µs ± 290 ns per loop (mean ± std. dev. of 7 runs, 100000 loops each)\n"
     ]
    }
   ],
   "source": [
    "%timeit selection_sort(numbers)"
   ]
  },
  {
   "cell_type": "markdown",
   "metadata": {},
   "source": [
    "### Insertion sort"
   ]
  },
  {
   "cell_type": "code",
   "execution_count": 303,
   "metadata": {},
   "outputs": [
    {
     "name": "stdout",
     "output_type": "stream",
     "text": [
      "True\n"
     ]
    }
   ],
   "source": [
    "def insertion_sort(unsorted_ls):\n",
    "    sorted_ls = [unsorted_ls[0]]\n",
    "    for item in unsorted_ls[1:]:\n",
    "        for i in range(len(sorted_ls)):\n",
    "            if item >= sorted_ls[i]:\n",
    "                if i == len(sorted_ls)-1:   # the end of sorted list\n",
    "                    sorted_ls.append(item)\n",
    "                    break\n",
    "                elif item < sorted_ls[i+1]:  # found the right spot\n",
    "                    sorted_ls.insert(i+1, item)\n",
    "                    break\n",
    "            elif i == 0:  # the start of sorted list\n",
    "                sorted_ls.insert(i, item)\n",
    "                break\n",
    "    return sorted_ls   \n",
    "\n",
    "print(sorted(numbers) == insertion_sort(numbers))"
   ]
  },
  {
   "cell_type": "code",
   "execution_count": 304,
   "metadata": {},
   "outputs": [
    {
     "name": "stdout",
     "output_type": "stream",
     "text": [
      "7.82 µs ± 663 ns per loop (mean ± std. dev. of 7 runs, 100000 loops each)\n"
     ]
    }
   ],
   "source": [
    "%timeit insertion_sort(numbers)"
   ]
  },
  {
   "cell_type": "code",
   "execution_count": 305,
   "metadata": {},
   "outputs": [
    {
     "name": "stdout",
     "output_type": "stream",
     "text": [
      "True\n"
     ]
    }
   ],
   "source": [
    "def insertionSort(unsorted_ls):\n",
    "    sorted_ls = unsorted_ls[:]\n",
    "    # Traverse through 1 to len(arr)\n",
    "    for i in range(1, len(sorted_ls)):\n",
    "  \n",
    "        key = sorted_ls[i]\n",
    "  \n",
    "        # Move elements of arr[0..i-1], that are\n",
    "        # greater than key, to one position ahead\n",
    "        # of their current position\n",
    "        j = i-1\n",
    "        while j >= 0 and key < sorted_ls[j] :\n",
    "                sorted_ls[j+1] = sorted_ls[j]\n",
    "                j -= 1\n",
    "        sorted_ls[j+1] = key\n",
    "        \n",
    "    return sorted_ls\n",
    "\n",
    "print(sorted(numbers) == insertionSort(numbers))"
   ]
  },
  {
   "cell_type": "code",
   "execution_count": 306,
   "metadata": {},
   "outputs": [
    {
     "name": "stdout",
     "output_type": "stream",
     "text": [
      "7.34 µs ± 485 ns per loop (mean ± std. dev. of 7 runs, 100000 loops each)\n"
     ]
    }
   ],
   "source": [
    "%timeit insertionSort(numbers)"
   ]
  },
  {
   "cell_type": "markdown",
   "metadata": {},
   "source": [
    "### Merge sort"
   ]
  },
  {
   "cell_type": "code",
   "execution_count": 422,
   "metadata": {},
   "outputs": [
    {
     "name": "stdout",
     "output_type": "stream",
     "text": [
      "[1, 2, 3, 4, 5, 6, 7, 8, 9]\n"
     ]
    }
   ],
   "source": [
    "#Let's implement Mergesort! This is a complex problem\n",
    "#because it applies recursion to sorting algorithms, but\n",
    "#it's also by far the most efficient sorting algorithm we'll\n",
    "#cover.\n",
    "\n",
    "#First, we need a function definition: MergeSort should take\n",
    "#as input one list.\n",
    "\n",
    "def mergesort(lst):\n",
    "    \n",
    "    #Then, what does it do? mergesort should recursively\n",
    "    #run mergesort on the left and right sides of lst until\n",
    "    #it's given a list only one item. So, if lst has only\n",
    "    #one item, we should just return that one-item list.\n",
    "    \n",
    "    if len(lst) <= 1:\n",
    "        return lst\n",
    "    \n",
    "    #Otherwise, we should call mergesort separately on the\n",
    "    #left and right sides. Since each successive call to\n",
    "    #mergesort sends half as many items, we're guaranteed\n",
    "    #to eventually send it a list with only one item, at\n",
    "    #which point we'll stop calling mergesort again.\n",
    "    else:\n",
    "\n",
    "        #Floor division on the length of the list will\n",
    "        #find us the index of the middle value.\n",
    "        midpoint = len(lst) // 2\n",
    "\n",
    "        #lst[:midpoint] will get the left side of the\n",
    "        #list based on list slicing syntax. So, we want\n",
    "        #to sort the left side of the list alone and\n",
    "        #assign the result to the new smaller list left.\n",
    "        left = mergesort(lst[:midpoint])\n",
    "\n",
    "        #And same for the right side.\n",
    "        right = mergesort(lst[midpoint:])\n",
    "\n",
    "        #So, left and right now hold sorted lists of\n",
    "        #each half of the original list. They might\n",
    "        #each have only one item, or they could each\n",
    "        #have several items.\n",
    "\n",
    "        #Now we want to compare the first items in each\n",
    "        #list one-by-one, adding the smaller to our new\n",
    "        #result list until one list is completely empty.\n",
    "\n",
    "        newlist = []\n",
    "        while len(left) and len(right) > 0:\n",
    "\n",
    "            #If the first number in left is lower, add\n",
    "            #it to the new list and remove it from left\n",
    "            if left[0] < right[0]:\n",
    "                newlist.append(left[0])\n",
    "                del left[0]\n",
    "\n",
    "            #Otherwise, add the first number from right\n",
    "            #to the new list and remove it from right\n",
    "            else:\n",
    "                newlist.append(right[0])\n",
    "                del right[0]\n",
    "\n",
    "        #When the while loop above is done, it means\n",
    "        #one of the two lists is empty. Because both\n",
    "        #lists were sorted, we can now add the remainder\n",
    "        #of each list to the new list. The empty list\n",
    "        #will have no items to add, and the non-empty\n",
    "        #list will add its items in order.\n",
    "\n",
    "        newlist.extend(left)\n",
    "        newlist.extend(right)\n",
    "\n",
    "        #newlist is now the sorted version of lst! So,\n",
    "        #we can return it. If this was a recursive call\n",
    "        #to mergesort, then this sends a sorted half-\n",
    "        #list up the ladder. If this was the original\n",
    "        #call, then this is the final sorted list.\n",
    "\n",
    "        return newlist\n",
    "\n",
    "#Let's try it out!\n",
    "print(mergesort([2, 5, 3, 8, 6, 9, 1, 4, 7]))\n",
    "\n",
    "#It works! To see more about how it works, check out\n",
    "#MergesortwithPrints.py. To get a succinct version of\n",
    "#this algorithm, checkout MergesortShort.py."
   ]
  },
  {
   "cell_type": "code",
   "execution_count": 423,
   "metadata": {},
   "outputs": [
    {
     "name": "stdout",
     "output_type": "stream",
     "text": [
      "[1, 2, 3, 4, 5, 6, 7, 8, 9]\n"
     ]
    }
   ],
   "source": [
    "#Without the explanatory comments, Mergesort is much shorter:\n",
    "def mergesort(lst):\n",
    "    if len(lst) <= 1:\n",
    "        return lst\n",
    "    \n",
    "    else:\n",
    "        midpoint = len(lst) // 2\n",
    "        left = mergesort(lst[:midpoint])\n",
    "        right = mergesort(lst[midpoint:])\n",
    "\n",
    "        newlist = []\n",
    "        while len(left) > 0 and len(right) > 0:\n",
    "            if left[0] < right[0]:\n",
    "                newlist.append(left[0])\n",
    "                del left[0]\n",
    "            else:\n",
    "                newlist.append(right[0])\n",
    "                del right[0]\n",
    "\n",
    "        newlist.extend(left)\n",
    "        newlist.extend(right)\n",
    "\n",
    "        return newlist\n",
    "\n",
    "print(mergesort([2, 5, 3, 8, 6, 9, 1, 4, 7]))"
   ]
  },
  {
   "cell_type": "code",
   "execution_count": 291,
   "metadata": {},
   "outputs": [],
   "source": [
    "def merge_sort(unsorted_ls):\n",
    "    \n",
    "    if len(unsorted_ls) > 1:\n",
    "        \n",
    "        m = len(unsorted_ls) // 2\n",
    "        \n",
    "        left_half = unsorted_ls[:m]\n",
    "        right_half = unsorted_ls[m:]\n",
    "        \n",
    "        merge_sort(left_half)\n",
    "        merge_sort(right_half)\n",
    "        \n",
    "        i = j = k = 0  # track current position\n",
    "        \n",
    "        while i < len(left_half) and j < len(right_half):\n",
    "            if left_half[i] > right_half[j]:\n",
    "                unsorted_ls[k] = right_half[j]\n",
    "                j += 1\n",
    "            else:\n",
    "                unsorted_ls[k] = left_half[i]\n",
    "                i += 1\n",
    "            k += 1\n",
    "\n",
    "        while i < len(left_half):\n",
    "            unsorted_ls[k] = left_half[i]\n",
    "            i += 1\n",
    "            k += 1\n",
    "            \n",
    "        while j < len(right_half):\n",
    "            unsorted_ls[k] = right_half[j]\n",
    "            j += 1\n",
    "            k += 1\n",
    "        "
   ]
  },
  {
   "cell_type": "code",
   "execution_count": 307,
   "metadata": {},
   "outputs": [
    {
     "name": "stdout",
     "output_type": "stream",
     "text": [
      "Before: [3, 44, 38, 5, 47, 15, 36, 26, 27, 1]\n",
      "After: [1, 3, 5, 15, 26, 27, 36, 38, 44, 47]\n"
     ]
    }
   ],
   "source": [
    "print('Before:', numbers)\n",
    "merge_sort(numbers)\n",
    "print('After:', numbers)"
   ]
  },
  {
   "cell_type": "code",
   "execution_count": 309,
   "metadata": {},
   "outputs": [
    {
     "name": "stdout",
     "output_type": "stream",
     "text": [
      "12.9 µs ± 311 ns per loop (mean ± std. dev. of 7 runs, 100000 loops each)\n"
     ]
    }
   ],
   "source": [
    "%timeit merge_sort(numbers)"
   ]
  },
  {
   "cell_type": "markdown",
   "metadata": {},
   "source": [
    "### Sorting algorithm comparison"
   ]
  },
  {
   "cell_type": "code",
   "execution_count": 319,
   "metadata": {},
   "outputs": [],
   "source": [
    "numbers = [*np.random.randint(-100, 100, 100)]"
   ]
  },
  {
   "cell_type": "code",
   "execution_count": 325,
   "metadata": {},
   "outputs": [
    {
     "name": "stdout",
     "output_type": "stream",
     "text": [
      "True\n",
      "True\n",
      "True\n",
      "True\n",
      "True\n"
     ]
    }
   ],
   "source": [
    "print(sorted(numbers) == bubble_sort(numbers))\n",
    "print(sorted(numbers) == selection_sort(numbers))\n",
    "print(sorted(numbers) == insertion_sort(numbers))\n",
    "print(sorted(numbers) == insertionSort(numbers))\n",
    "\n",
    "numbers_copy = numbers[:]\n",
    "merge_sort(numbers_copy)\n",
    "print(sorted(numbers) == numbers_copy)"
   ]
  },
  {
   "cell_type": "code",
   "execution_count": 329,
   "metadata": {},
   "outputs": [
    {
     "name": "stdout",
     "output_type": "stream",
     "text": [
      "1.03 ms ± 109 µs per loop (mean ± std. dev. of 7 runs, 1000 loops each)\n"
     ]
    }
   ],
   "source": [
    "%timeit bubble_sort(numbers)"
   ]
  },
  {
   "cell_type": "code",
   "execution_count": 330,
   "metadata": {},
   "outputs": [
    {
     "name": "stdout",
     "output_type": "stream",
     "text": [
      "514 µs ± 36.3 µs per loop (mean ± std. dev. of 7 runs, 1000 loops each)\n"
     ]
    }
   ],
   "source": [
    "%timeit selection_sort(numbers)"
   ]
  },
  {
   "cell_type": "code",
   "execution_count": 331,
   "metadata": {},
   "outputs": [
    {
     "name": "stdout",
     "output_type": "stream",
     "text": [
      "585 µs ± 46.5 µs per loop (mean ± std. dev. of 7 runs, 1000 loops each)\n"
     ]
    }
   ],
   "source": [
    "%timeit insertion_sort(numbers)"
   ]
  },
  {
   "cell_type": "code",
   "execution_count": 332,
   "metadata": {},
   "outputs": [
    {
     "name": "stdout",
     "output_type": "stream",
     "text": [
      "450 µs ± 33.1 µs per loop (mean ± std. dev. of 7 runs, 1000 loops each)\n"
     ]
    }
   ],
   "source": [
    "%timeit insertionSort(numbers)"
   ]
  },
  {
   "cell_type": "code",
   "execution_count": 333,
   "metadata": {},
   "outputs": [
    {
     "name": "stdout",
     "output_type": "stream",
     "text": [
      "208 µs ± 7.8 µs per loop (mean ± std. dev. of 7 runs, 1000 loops each)\n"
     ]
    }
   ],
   "source": [
    "%timeit merge_sort(numbers)"
   ]
  },
  {
   "cell_type": "markdown",
   "metadata": {},
   "source": [
    "## Search algorithms"
   ]
  },
  {
   "cell_type": "markdown",
   "metadata": {},
   "source": [
    "### Linear search"
   ]
  },
  {
   "cell_type": "code",
   "execution_count": 345,
   "metadata": {},
   "outputs": [
    {
     "data": {
      "text/plain": [
       "52"
      ]
     },
     "execution_count": 345,
     "metadata": {},
     "output_type": "execute_result"
    }
   ],
   "source": [
    "def linear_search(arr, target):\n",
    "    for i in range(len(arr)):\n",
    "        if arr[i] == target:\n",
    "            return i\n",
    "    return -1\n",
    "        \n",
    "linear_search(numbers, 3)        "
   ]
  },
  {
   "cell_type": "code",
   "execution_count": 346,
   "metadata": {},
   "outputs": [
    {
     "name": "stdout",
     "output_type": "stream",
     "text": [
      "9.59 µs ± 572 ns per loop (mean ± std. dev. of 7 runs, 100000 loops each)\n"
     ]
    }
   ],
   "source": [
    "%timeit linear_search(numbers, 3)"
   ]
  },
  {
   "cell_type": "markdown",
   "metadata": {},
   "source": [
    "### Binary search"
   ]
  },
  {
   "cell_type": "code",
   "execution_count": 111,
   "metadata": {},
   "outputs": [
    {
     "data": {
      "text/plain": [
       "0"
      ]
     },
     "execution_count": 111,
     "metadata": {},
     "output_type": "execute_result"
    }
   ],
   "source": [
    "def binary_search(arr, target, l=0, r=0):\n",
    "    if l - r > 1:\n",
    "        m = l + (r-l) // 2\n",
    "#         print(l, m, r)\n",
    "#         print(target, arr[m])\n",
    "        if target == arr[m]:\n",
    "            return m\n",
    "        \n",
    "        elif target < arr[m]:  # search in the lower half\n",
    "            return binary_search(arr, target, l, m-1)\n",
    "        \n",
    "        elif target > arr[m]:  # search in the upper hlf\n",
    "            return binary_search(arr, target, m+1, r)\n",
    "        \n",
    "    elif arr[l] == target:\n",
    "        return l\n",
    "    elif arr[r] == target:\n",
    "        return r\n",
    "    else:\n",
    "        return -1\n",
    "    \n",
    "binary_search(numbers, 3, 0, len(numbers)-1)  "
   ]
  },
  {
   "cell_type": "code",
   "execution_count": 421,
   "metadata": {},
   "outputs": [
    {
     "name": "stdout",
     "output_type": "stream",
     "text": [
      "3.42 µs ± 419 ns per loop (mean ± std. dev. of 7 runs, 100000 loops each)\n"
     ]
    }
   ],
   "source": [
    "%timeit binary_search(numbers, 3, 0, len(numbers)-1)"
   ]
  },
  {
   "cell_type": "markdown",
   "metadata": {},
   "source": [
    "# Chapter review problems"
   ]
  },
  {
   "cell_type": "markdown",
   "metadata": {},
   "source": [
    "## Objects"
   ]
  },
  {
   "cell_type": "code",
   "execution_count": 482,
   "metadata": {},
   "outputs": [
    {
     "name": "stdout",
     "output_type": "stream",
     "text": [
      "45.0\n"
     ]
    }
   ],
   "source": [
    "#Imagine you're writing a program to calculate the class\n",
    "#average from a gradebook. The gradebook is a list of\n",
    "#instances of the Student object.\n",
    "#\n",
    "#You don't know everything that's inside the Student object,\n",
    "#but you know that it has a method called get_grade().\n",
    "#get_grade() will return the average for the student\n",
    "#represented by a given instance of Student.\n",
    "#\n",
    "#You don't know if get_grade() is stored in memory or if\n",
    "#it's calculated when it's needed, but you don't need to.\n",
    "#All you need to know is that the class Student has a method\n",
    "#get_grade() that returns an integer representing the\n",
    "#student's numeric grade.\n",
    "#\n",
    "#Write a function called class_average. class_average()\n",
    "#should take as input a list of instances of Student, and it\n",
    "#should return as output the average grade of those\n",
    "#students, as calculated via their get_grade() method.\n",
    "#Remember, average is the sum of all their individual\n",
    "#grades, divided by the number of students.\n",
    "#\n",
    "#Hint: You do NOT need to write the Student class to\n",
    "#complete this problem. You may if you want to in order to\n",
    "#run and test your code, but when you submit your code for\n",
    "#grading, we will test it with our Student class. Don't let\n",
    "#this throw you off: throughout this course, you've been\n",
    "#using lots of classes without knowing how they work: you\n",
    "#don't know how the String class works, but you know what\n",
    "#its upper() method does. You do not need to know how the\n",
    "#Student class works to use its get_grade() method.\n",
    "\n",
    "\n",
    "#Write your function here!\n",
    "def class_average(students_ls):\n",
    "    total_grade = 0\n",
    "    for student in students_ls:\n",
    "        total_grade += student.get_grade()\n",
    "    \n",
    "    return total_grade/len(students_ls)\n",
    "\n",
    "#If you want to write a Student class to test your code,\n",
    "#you could below, and then add your own test cases below\n",
    "#that. The only requirement you would need to meet is that\n",
    "#your Student class would need to have a get_grade()\n",
    "#method that returns an integer (in addition to any other\n",
    "#usual requirements for classes).\n",
    "\n",
    "class Student:\n",
    "    \n",
    "    def __init__(self, name, age, grade=0):\n",
    "        self.name = name\n",
    "        self.age = age\n",
    "        self.grade = grade\n",
    "    \n",
    "    def get_grade(self):\n",
    "        \n",
    "        return self.grade\n",
    "    \n",
    "students_ls = []\n",
    "for i in range(10):\n",
    "    students_ls.append(Student(str(i)+\"'s student\", i, i*10))\n",
    "    \n",
    "print(class_average(students_ls))"
   ]
  },
  {
   "cell_type": "code",
   "execution_count": 121,
   "metadata": {},
   "outputs": [
    {
     "name": "stdout",
     "output_type": "stream",
     "text": [
      "M\n",
      "2\n",
      "4.2\n"
     ]
    }
   ],
   "source": [
    "#Create a class called FrapOrder. FrapOrder should\n",
    "#have two attributes (instance variables): size and\n",
    "#extra_shots. Make sure the variable names match those\n",
    "#words. size will be a character, either \"S\", \"M\", or \"L\".\n",
    "#extra_shots will be an integer.\n",
    "#\n",
    "#FrapOrder should have a constructor with two required\n",
    "#parameters, one for each of those attributes (size and\n",
    "#extra_shots, in that order).\n",
    "#\n",
    "#FrapOrder should also have a method called get_total.\n",
    "#get_total should calculate the total cost of the order.\n",
    "#If size is \"S\", the base cost is 2.50. If the size is \"M\",\n",
    "#the base cost is 3.50. If the size is \"L\", the base cost is\n",
    "#4.50. Then, each extra shot costs $0.35.\n",
    "#\n",
    "#For example, if size is \"M\" and extra_shots is 2, then\n",
    "#get_total would return 4.2: 3.50 + 0.70 = 4.20 (and Python\n",
    "#drops trailing 0s).\n",
    "#\n",
    "#total should NOT be an attribute of the class; instead,\n",
    "#total should be calculated and returned live when the method\n",
    "#get_total is called.\n",
    "#\n",
    "#The get_total method should have NO parameters besides self.\n",
    "#Instead, it should calculate the total based on the current\n",
    "#values for the size and extra_shots attributes.\n",
    "\n",
    "\n",
    "#Write your class here!\n",
    "class FrapOrder:\n",
    "    def __init__(self, size, extra_shots):\n",
    "        self.size = size\n",
    "        self.extra_shots = extra_shots\n",
    "        \n",
    "    def get_total(self):\n",
    "        price = self.extra_shots * 0.35\n",
    "        \n",
    "        if self.size == 'S':\n",
    "            price += 2.5\n",
    "        elif self.size == 'M':\n",
    "            price += 3.5\n",
    "        elif self.size == 'L':\n",
    "            price += 4.5\n",
    "        \n",
    "        return price\n",
    "\n",
    "#The code below will test your function. If it works, it\n",
    "#should print \"M\" (without the quotes), 2, and 4.2 in that\n",
    "#order.\n",
    "test_order = FrapOrder(\"M\", 2)\n",
    "print(test_order.size)\n",
    "print(test_order.extra_shots)\n",
    "print(test_order.get_total())"
   ]
  },
  {
   "cell_type": "code",
   "execution_count": null,
   "metadata": {},
   "outputs": [],
   "source": [
    "#Imagine you're writing a program to check registration status\n",
    "#at a conference. The list of registrants comes in the form of\n",
    "#a list of instances of the Registrant class.\n",
    "#\n",
    "#You don't have access to the code for the Registrant class.\n",
    "#However, you know that it has at least two attributes:\n",
    "#name (a string) and authorized (a boolean).\n",
    "#\n",
    "#Write a function called is_authorized. is_authorized should\n",
    "#take two parameters: a list of instances of Registrant\n",
    "#representing the registered individuals, and a name as a\n",
    "#string.\n",
    "#\n",
    "#The function should return True if _any_ instance in the list\n",
    "#has the same name and an authorized status of True. It should\n",
    "#return False if either (a) no instance in the list of\n",
    "#registrants has the same name, or (b) the instance with the\n",
    "#same name has an authorized status of False.\n",
    "#\n",
    "#You should not assume that the list of registrants is sorted\n",
    "#in any way.\n",
    "#\n",
    "#Hint: Beware of registrants who appear in the list twice with\n",
    "#different values for authorized. If _any_ instance has a\n",
    "#the value True for authorized, the function should return True.\n",
    "\n",
    "\n",
    "#Write your function here!\n",
    "class Registrant:\n",
    "    def __init__(self, name, authorized):\n",
    "        self.name = name\n",
    "        self.authorized = authorized\n",
    "        \n",
    "def is_authorized(registrants, name):\n",
    "    ls_authorization = [registrant.authorized for registrant in registrants \n",
    "                        if registrant.name == name]\n",
    "    \n",
    "    if ls_authorization:\n",
    "        return sum(ls_authorization) >= 1\n",
    "    \n",
    "    else:\n",
    "        return False\n",
    "\n",
    "\n",
    "#If you would like, you may implement the Registrant class as\n",
    "#described and use it to test your code. This is not necessary\n",
    "#to complete the problem, but it may help you debug. If you\n",
    "#create a Registrant class, all you need is a constructor that\n",
    "#assigns values to two attributes: self.name and self.authorized."
   ]
  },
  {
   "cell_type": "markdown",
   "metadata": {},
   "source": [
    "## Recursion"
   ]
  },
  {
   "cell_type": "code",
   "execution_count": 485,
   "metadata": {},
   "outputs": [
    {
     "name": "stdout",
     "output_type": "stream",
     "text": [
      "1\n",
      "2\n",
      "2\n",
      "2097152\n"
     ]
    }
   ],
   "source": [
    "#Remember that Fibonacci's sequence is a sequence of numbers\n",
    "#where every number is the sum of the previous two numbers.\n",
    "#\n",
    "#There exists a variant of Fibonacci's sequence called\n",
    "#Fibonacci's multiplicative sequence. Fibonacci's\n",
    "#multiplicative sequence is identical to Fibonacci's\n",
    "#sequence, except that each number is the PRODUCT of the\n",
    "#previous two numbers instead of the sum. Let's call these\n",
    "#FibMult numbers.\n",
    "#\n",
    "#In order to make this interesting, we set the first two\n",
    "#FibMult numbers to 1 and 2. So, the 1st FibMult number is\n",
    "#1, and the second FibMult number is 2.\n",
    "#\n",
    "#So, here are the first few FibMult numbers:\n",
    "#\n",
    "#         n  = 1 2 3 4 5  6   7    8       9          10\n",
    "# FibMult(n) = 1 2 2 4 8 32 256 8192 2097152 17179869184\n",
    "#\n",
    "#The sequence gets large fast!\n",
    "#\n",
    "#Write the function fib_mult using recursion. fib_mult\n",
    "#takes as input an integer, and returns the FibMult\n",
    "#number corresponding to that integer. For example:\n",
    "#\n",
    "# - fib_mult(1) = 1\n",
    "# - fib_mult(2) = 2\n",
    "# - fib_mult(3) = 2\n",
    "# - fib_mult(9) = 2097152\n",
    "# - fib_mult(12) = 618970019642690137449562112\n",
    "#\n",
    "#fib_mult MUST be implemented recursively.\n",
    "#\n",
    "#Hint: You will actually have two separate base cases,\n",
    "#one for n = 1 and one for n = 2.\n",
    "\n",
    "\n",
    "#Write your code here!\n",
    "def fib_mult(n):\n",
    "    if n < 1:\n",
    "        return -1\n",
    "    else:\n",
    "        if n == 1 or n == 2:\n",
    "            return n\n",
    "        else:\n",
    "            return fib_mult(n-1) * fib_mult(n-2)\n",
    "\n",
    "#The lines below will test your code. If your funciton is\n",
    "#correct, they will print 1, 2, 2, and 2097152.\n",
    "print(fib_mult(1))\n",
    "print(fib_mult(2))\n",
    "print(fib_mult(3))\n",
    "print(fib_mult(9))"
   ]
  },
  {
   "cell_type": "markdown",
   "metadata": {},
   "source": [
    "## Sorting"
   ]
  },
  {
   "cell_type": "code",
   "execution_count": 1,
   "metadata": {},
   "outputs": [
    {
     "name": "stdout",
     "output_type": "stream",
     "text": [
      "[10, 9, 8, 7, 6, 5, 4, 3, 2, 1]\n"
     ]
    }
   ],
   "source": [
    "#Write a function called inverted_sort. inverted_ should\n",
    "#take as input a list of integers, and return as output a\n",
    "#list with the integers sorted from HIGHEST to LOWEST.\n",
    "#\n",
    "#You may use any sorting algorithm you want: bubble, merge,\n",
    "#insertion, selection, a new sort that you learned on your\n",
    "#own, or even one you created yourself. You may use loops,\n",
    "#or you may use recursion.\n",
    "#\n",
    "#You may not use Python's native list sort or reverse \n",
    "#methods; you must write your own sort.\n",
    "\n",
    "\n",
    "#Write your function here!\n",
    "def inverted_sort(integer_ls):\n",
    "    if len(integer_ls) <= 1:\n",
    "        return integer_ls\n",
    "    \n",
    "    else:\n",
    "        midpoint = len(integer_ls) // 2\n",
    "        left = inverted_sort(integer_ls[:midpoint])\n",
    "        right = inverted_sort(integer_ls[midpoint:])\n",
    "\n",
    "        new_list = []\n",
    "        while len(left) > 0 and len(right) > 0:\n",
    "            if left[0] > right[0]:\n",
    "                new_list.append(left[0])\n",
    "                del left[0]\n",
    "            else:\n",
    "                new_list.append(right[0])\n",
    "                del right[0]\n",
    "\n",
    "        new_list.extend(left)\n",
    "        new_list.extend(right)\n",
    "    \n",
    "    return new_list\n",
    "\n",
    "#The code below will test your function. Feel free to\n",
    "#modify it. As written originally, it will print the list:\n",
    "# [10, 9, 8, 7, 6, 5, 4, 3, 2, 1]\n",
    "print(inverted_sort([5, 4, 10, 1, 7, 2, 3, 6, 8, 9]))"
   ]
  },
  {
   "cell_type": "markdown",
   "metadata": {},
   "source": [
    "## Combined"
   ]
  },
  {
   "cell_type": "code",
   "execution_count": 125,
   "metadata": {
    "tags": []
   },
   "outputs": [
    {
     "data": {
      "text/plain": [
       "True"
      ]
     },
     "execution_count": 125,
     "metadata": {},
     "output_type": "execute_result"
    }
   ],
   "source": [
    "#Imagine you're writing a program to check attendance on a\n",
    "#classroom roster. The list of students in attendance comes\n",
    "#in the form of a list of instances of the Student class.\n",
    "#\n",
    "#You don't have access to the code for the Student class.\n",
    "#However, you know that it has at least two attributes:\n",
    "#first_name and last_name.\n",
    "#\n",
    "#Write a function called check_attendance. check_attendance\n",
    "#should take three parameters: a list of instances of\n",
    "#Student representing the students in attendance, a first\n",
    "#name as a string, and a last name as a string (in that\n",
    "#order).\n",
    "#\n",
    "#The function should return True if any instance in the\n",
    "#list has the same first and last name as the two\n",
    "#arguments. It should return False otherwise.\n",
    "#\n",
    "#You may assume that the list of students is sorted\n",
    "#alphabetically, by last name and then by first name. This\n",
    "#allows you to solve this with a binary search. However,\n",
    "#you may also solve this problem with a linear search if\n",
    "#you would prefer.\n",
    "\n",
    "\n",
    "#Write your function here!\n",
    "class Student:\n",
    "    def __init__(self, first_name, last_name):\n",
    "        self.first_name = first_name\n",
    "        self.last_name = last_name\n",
    "        \n",
    "def check_attendance(students, first_name, last_name):\n",
    "    first_names = [student.first_name for student in students \n",
    "                          if student.last_name == last_name]\n",
    "    \n",
    "    if first_names:\n",
    "        first_name_ix = binary_search(first_names, first_name, 0, len(first_names)-1)\n",
    "        \n",
    "        if first_name_ix == -1:\n",
    "            return False\n",
    "        else:\n",
    "            return True\n",
    "        \n",
    "    else:\n",
    "        return False\n",
    "\n",
    "\n",
    "#If you would like, you may implement the Student class as\n",
    "#described and use it to test your code. This is not\n",
    "#necessary to complete the problem, but it may help you\n",
    "#debug. If you create a Student class, all you need is\n",
    "#a constructor that assigns values to two attributes:\n",
    "#self.first_name and self.last_name.\n",
    "students = [Student('Gautam', 'Moran'), Student('Maria', 'White'), \n",
    "            Student('Ping', 'White'), Student('Gautam', 'Hunt'), \n",
    "            Student('Jackie', 'Morales'), Student('Jackie', 'Sparks'), \n",
    "            Student('Franklin', 'Moran'), Student('Rayan', 'Howell'), \n",
    "            Student('Taryn', 'Joyner'), Student('Taryn', 'Moran')]\n",
    "check_attendance(students, 'Gautam', 'Moran')"
   ]
  },
  {
   "cell_type": "code",
   "execution_count": 196,
   "metadata": {},
   "outputs": [
    {
     "name": "stdout",
     "output_type": "stream",
     "text": [
      "3\n",
      "8\n",
      "0\n",
      "0\n"
     ]
    }
   ],
   "source": [
    "#Write a function called count_squares. This function\n",
    "#should take as input a list of integers, and return as\n",
    "#output a single integer. The number the function returns\n",
    "#should be the number of perfect squares it found in the\n",
    "#list of integers. You may assume every number in the list\n",
    "#is between 1 and 1 billion (1,000,000,000).\n",
    "#\n",
    "#For example:\n",
    "#\n",
    "# count_squares([1, 2, 3, 4, 5, 6, 7, 8, 9]) -> 3\n",
    "# count_squares([1, 4, 9, 16, 25, 36, 49, 64]) -> 8\n",
    "# count_squares([2, 3, 5, 6, 7, 8, 10, 11]) -> 0\n",
    "#\n",
    "#For this problem, 0 is considered a square.\n",
    "#\n",
    "#Hint: Don't get caught up trying to \"remember\" how to\n",
    "#calculate if a number is a square: we've never done it\n",
    "#before, but we've covered all the tools you need to do it\n",
    "#in one of several different ways.\n",
    "\n",
    "\n",
    "#Write your function here!\n",
    "def count_squares_dict(ls_integers):\n",
    "    no_of_squares = 0\n",
    "    \n",
    "    square_dict = {}\n",
    "    i = 0\n",
    "    curr_val = i*i\n",
    "    while curr_val < 1000000000:\n",
    "        square_dict[curr_val] = i\n",
    "        i += 1\n",
    "        curr_val = i*i\n",
    "    \n",
    "    for item in ls_integers:\n",
    "        if item in square_dict: \n",
    "            no_of_squares += 1\n",
    "    \n",
    "    return no_of_squares\n",
    "\n",
    "\n",
    "def count_squares_linear(ls_integers):\n",
    "    no_of_squares = 0\n",
    "    for item in ls_integers:\n",
    "        if item == 0:\n",
    "            no_of_squares += 1\n",
    "        else:\n",
    "            for i in range(1, item+1):\n",
    "                if i == item / i:  # e.g., 3 = 9 / 3\n",
    "                    no_of_squares += 1\n",
    "    return no_of_squares\n",
    "\n",
    "\n",
    "def count_squares_binary(ls_integers):\n",
    "    no_of_squares = 0\n",
    "    \n",
    "    for item in ls_integers:\n",
    "        if item == 0 or item == 1:\n",
    "            no_of_squares += 1\n",
    "        else:\n",
    "            left = 1\n",
    "            right = item\n",
    "            while left <= right:\n",
    "                mid = (right + left) // 2\n",
    "                estimate = mid * mid\n",
    "                if item == estimate:\n",
    "                    no_of_squares += 1\n",
    "                    break\n",
    "                elif item < estimate:\n",
    "                    right = mid - 1\n",
    "                else:\n",
    "                    left = mid + 1\n",
    "                    \n",
    "    return no_of_squares\n",
    "\n",
    "\n",
    "def count_squares_adap_dict(ls_integers):\n",
    "    no_of_squares = 0\n",
    "    \n",
    "    # Sort the integers\n",
    "    ls_integers.sort()\n",
    "\n",
    "    # Construct square dict from minimum to maximum\n",
    "    square_dict = {}\n",
    "    i = 0\n",
    "    curr_val = i*i\n",
    "    while curr_val <= ls_integers[-1]:\n",
    "        square_dict[curr_val] = i\n",
    "        i += 1\n",
    "        curr_val = i*i \n",
    "        \n",
    "    for item in ls_integers:\n",
    "        if item in square_dict: \n",
    "            no_of_squares += 1\n",
    "    \n",
    "    return no_of_squares  \n",
    "            \n",
    "#The lines below will test your code. Feel free to modify\n",
    "#them. If your code is working properly, these will print\n",
    "#the same output as shown above in the examples.\n",
    "print(count_squares_dict([1, 2, 3, 4, 5, 6, 7, 8, 9]))\n",
    "print(count_squares_linear([1, 4, 9, 16, 25, 36, 49, 64]))\n",
    "print(count_squares_binary([2, 3, 5, 6, 7, 8, 10, 11]))\n",
    "print(count_squares_adap_dict([2, 3, 5, 6, 7, 8, 10, 11]))"
   ]
  },
  {
   "cell_type": "code",
   "execution_count": 197,
   "metadata": {},
   "outputs": [
    {
     "name": "stdout",
     "output_type": "stream",
     "text": [
      "6.09 ms ± 551 µs per loop (mean ± std. dev. of 7 runs, 100 loops each)\n"
     ]
    }
   ],
   "source": [
    "%timeit count_squares_dict([1, 4, 9, 16, 25, 36, 49, 64])"
   ]
  },
  {
   "cell_type": "code",
   "execution_count": 198,
   "metadata": {},
   "outputs": [
    {
     "name": "stdout",
     "output_type": "stream",
     "text": [
      "16.7 µs ± 1.05 µs per loop (mean ± std. dev. of 7 runs, 100000 loops each)\n"
     ]
    }
   ],
   "source": [
    "%timeit count_squares_linear([1, 4, 9, 16, 25, 36, 49, 64])"
   ]
  },
  {
   "cell_type": "code",
   "execution_count": 199,
   "metadata": {},
   "outputs": [
    {
     "name": "stdout",
     "output_type": "stream",
     "text": [
      "4.2 µs ± 78.9 ns per loop (mean ± std. dev. of 7 runs, 100000 loops each)\n"
     ]
    }
   ],
   "source": [
    "%timeit count_squares_binary([1, 4, 9, 16, 25, 36, 49, 64])"
   ]
  },
  {
   "cell_type": "code",
   "execution_count": 200,
   "metadata": {},
   "outputs": [
    {
     "name": "stdout",
     "output_type": "stream",
     "text": [
      "2.07 µs ± 18.6 ns per loop (mean ± std. dev. of 7 runs, 100000 loops each)\n"
     ]
    }
   ],
   "source": [
    "%timeit count_squares_adap_dict([1, 4, 9, 16, 25, 36, 49, 64])"
   ]
  },
  {
   "cell_type": "code",
   "execution_count": 208,
   "metadata": {},
   "outputs": [
    {
     "name": "stdout",
     "output_type": "stream",
     "text": [
      "6\n",
      "7\n",
      "1\n"
     ]
    }
   ],
   "source": [
    "#The Greatest Common Factor (GCF) of two numbers is the\n",
    "#largest number that divides evenly into those two\n",
    "#numbers. For example, the Greatest Common Factor of 48\n",
    "#and 18 is 6. 6 is the largest number that divides evenly\n",
    "#into 48 (48 / 6 = 8) and 18 (18 / 6 = 3).\n",
    "#\n",
    "#Write a function called find_gcf. find_gcf should have\n",
    "#two parameters, both integers. find_gcf should return\n",
    "#the greatest common factor of those two numbers.\n",
    "#\n",
    "#For example:\n",
    "#\n",
    "# find_gcf(48, 18) -> 6\n",
    "# find_gcf(21, 7) -> 7\n",
    "# find_gcf(47, 17) -> 1\n",
    "#\n",
    "#If one number is a multiple of the other, the greatest\n",
    "#common factor is the smaller number (e.g. 21 and 7). If\n",
    "#the numbers have no common factors, then their greatest\n",
    "#common factor is 1 (e.g. 47 and 17).\n",
    "\n",
    "\n",
    "#Write your function here!\n",
    "def find_gcf(num_1, num_2):\n",
    "    num_1, num_2 = abs(num_1), abs(num_2)\n",
    "    \n",
    "    if num_1 > num_2:\n",
    "        if num_1 % num_2 == 0:\n",
    "            return num_2\n",
    "        else:\n",
    "            for i in range(num_2, 0, -1):\n",
    "                if num_2 % i == 0 and num_1 % i == 0:\n",
    "                    return i\n",
    "            return 1\n",
    "    else:\n",
    "        if num_2 % num_1 == 0:\n",
    "            return num_1\n",
    "        else:\n",
    "            for i in range(num_1, 0, -1):\n",
    "                if num_1 % i == 0 and num_2 % i == 0:\n",
    "                    return i\n",
    "            return 1\n",
    "    \n",
    "\n",
    "\n",
    "#The lines below will test your code. Feel free to modify\n",
    "#them. If your code is working properly, these will print\n",
    "#the same output as shown above in the examples.\n",
    "print(find_gcf(48, 18))\n",
    "print(find_gcf(21, 7))\n",
    "print(find_gcf(47, 17))"
   ]
  },
  {
   "cell_type": "code",
   "execution_count": 209,
   "metadata": {},
   "outputs": [
    {
     "name": "stdout",
     "output_type": "stream",
     "text": [
      "1.33 µs ± 63.4 ns per loop (mean ± std. dev. of 7 runs, 100000 loops each)\n"
     ]
    }
   ],
   "source": [
    "%timeit find_gcf(48, 18)"
   ]
  },
  {
   "cell_type": "markdown",
   "metadata": {},
   "source": [
    "# Test problems"
   ]
  },
  {
   "cell_type": "code",
   "execution_count": null,
   "metadata": {},
   "outputs": [],
   "source": [
    "#Remember that Fibonacci's sequence is a sequence of numbers\n",
    "#where every number is the sum of the previous two numbers.\n",
    "#\n",
    "#Joynernacci numbers are similar to Fibonacci numbers, but\n",
    "#with two differences:\n",
    "#\n",
    "# - Fibonacci numbers are famous, Joynernacci numbers are\n",
    "#   not (yet).\n",
    "# - In Joynernacci numbers, even-indexed numbers are the\n",
    "#   sum of the previous two numbers, while odd-indexed\n",
    "#   numbers are the absolute value of the difference\n",
    "#   between the previous two numbers.\n",
    "#\n",
    "#For example: the Joynernacci sequence starts with 1 and 1\n",
    "#as the numbers at index 1 and 2. 3 is an odd index, so\n",
    "#the third number would be 0 (1 - 1 = 0). 4 is an even\n",
    "#index, so the fourth number would be 1 (0 + 1). 5 is an\n",
    "#odd index, so the fifth number would be 1 (1 - 0). And\n",
    "#so on.\n",
    "#\n",
    "#The first several Joynernacci numbers (and their indices)\n",
    "#are thus:\n",
    "#\n",
    "# 1  1  0  1  1  2  1  3  2  5  3  8  5 13  8 21 13 34 21\n",
    "# 1  2  3  4  5  6  7  8  9 10 11 12 13 14 15 16 17 18 19\n",
    "#\n",
    "#Write a function called joynernacci that returns the nth\n",
    "#Joynernacci number. For example:\n",
    "#\n",
    "# joynernacci(5) -> 1\n",
    "# joynernacci(12) -> 8\n",
    "#\n",
    "#We recommend implementing joynernacci recursively, but it\n",
    "#is not required.\n",
    "\n",
    "\n",
    "#Write your code here!\n",
    "\n",
    "\n",
    "#Below are some lines of code that will test your function.\n",
    "#You can change the value of the variable(s) to test your\n",
    "#function with different inputs.\n",
    "#\n",
    "#If your function works correctly, this will originally\n",
    "#print: 1, then 8\n",
    "print(joynernacci(5))\n",
    "print(joynernacci(12))"
   ]
  },
  {
   "cell_type": "code",
   "execution_count": null,
   "metadata": {},
   "outputs": [],
   "source": [
    "#Imagine you're writing a program to check if a person is\n",
    "#available at a certain time.\n",
    "#\n",
    "#To do this, you want to write a function called\n",
    "#check_availability. check_availability will have two\n",
    "#parameters: a list of instances of the Meeting class, and\n",
    "#proposed_time, a particular date and time.\n",
    "#\n",
    "#check_availability should return True (meaning the person\n",
    "#is available) if there are no instances of Meeting that\n",
    "#conflict with the proposed_time. In other words, it should\n",
    "#return False if proposed_time is between the start_time and\n",
    "#end_time for any meeting in the list of meetings.\n",
    "#\n",
    "#The Meeting class is defined below. It has two attributes:\n",
    "#start_time and end_time. start_time is an instance of the\n",
    "#datetime class showing when the meeting starts, and\n",
    "#end_time is an instance of the datetime class indicating\n",
    "#when the meeting ends.\n",
    "#\n",
    "#Hint: Instances of the datetime have at least six\n",
    "#attributes: year, month, day, hour, minute, and second.\n",
    "#\n",
    "#Hint 2: Comparison operators work with instances of the\n",
    "#datetime class. time_1 < time_2 will be True if time_1 is\n",
    "#earlier than time_2, and False otherwise.\n",
    "#\n",
    "#You should not assume that the list is sorted.\n",
    "\n",
    "#Here is our definition of the Meeting class:\n",
    "from datetime import datetime\n",
    "class Meeting:\n",
    "    def __init__(self, start_time, end_time):\n",
    "        self.start_time = start_time\n",
    "        self.end_time = end_time\n",
    "\n",
    "#Write your function here!\n",
    "\n",
    "\n",
    "\n",
    "#Below are some lines of code that will test your function.\n",
    "#You can change the value of the variable(s) to test your\n",
    "#function with different inputs.\n",
    "#\n",
    "#If your function works correctly, this will originally\n",
    "#print: True, then False\n",
    "meetings = [Meeting(datetime(2018, 8, 1, 9, 0, 0), datetime(2018, 8, 1, 11, 0, 0)),\n",
    "            Meeting(datetime(2018, 8, 1, 15, 0, 0), datetime(2018, 8, 1, 16, 0, 0)),\n",
    "            Meeting(datetime(2018, 8, 2, 9, 0, 0), datetime(2018, 8, 2, 10, 0, 0))]\n",
    "print(check_availability(meetings, datetime(2018, 8, 1, 12, 0, 0)))\n",
    "print(check_availability(meetings, datetime(2018, 8, 1, 10, 0, 0)))"
   ]
  },
  {
   "cell_type": "code",
   "execution_count": null,
   "metadata": {},
   "outputs": [],
   "source": [
    "#Write a function called rabbit_hole. rabbit_hole should have\n",
    "#two parameters: a dictionary and a string. The string may be\n",
    "#a key to the dictionary. The value associated with that key,\n",
    "#in turn, may be another key to the dictionary.\n",
    "#\n",
    "#Keep looking up the keys until you reach a key that has no\n",
    "#associated value. Then, return that key.\n",
    "#\n",
    "#For example, imagine if you had the following dictionary.\n",
    "#This one is sorted to make this example easier to follow:\n",
    "#\n",
    "# d = {\"bat\": \"pig\", \"pig\": \"cat\", \"cat\": \"dog\", \"dog\": \"ant\",\n",
    "#      \"cow\": \"bee\", \"bee\": \"elk\", \"elk\": \"fly\", \"ewe\": \"cod\",\n",
    "#      \"cod\": \"hen\", \"hog\": \"fox\", \"fox\": \"jay\", \"jay\": \"doe\",\n",
    "#      \"rat\": \"ram\", \"ram\": \"rat\"}\n",
    "#\n",
    "#If we called rabbit_hole(d, \"bat\"), then our code should...\n",
    "#\n",
    "# - Look up \"bat\", and find \"pig\"\n",
    "# - Look up \"pig\", and find \"cat\"\n",
    "# - Look up \"cat\", and find \"dog\"\n",
    "# - Look up \"dog\", and find \"ant\"\n",
    "# - Look up \"ant\", and find no associated value, and so it would\n",
    "#   return \"ant\".\n",
    "#\n",
    "#Other possible results are:\n",
    "#\n",
    "# rabbit_hole(d, \"bat\") -> \"fly\"\n",
    "# rabbit_hole(d, \"ewe\") -> \"hen\"\n",
    "# rabbit_hole(d, \"jay\") -> \"doe\"\n",
    "# rabbit_hole(d, \"yak\") -> \"yak\"\n",
    "#\n",
    "#Notice that if the initial string passed in is not a key in\n",
    "#the dictionary, that string should be returned as the result as\n",
    "#well.\n",
    "#\n",
    "#Note, however, that it is possible to get into a loop. In the\n",
    "#dictionary above, rabbit_hole(d, \"rat\") would infinitely go\n",
    "#around between \"rat\" and \"ram\". You should prevent this: if a\n",
    "#key is ever accessed more than once (meaning a loop has been\n",
    "#reached), return the boolean False.\n",
    "#\n",
    "#Hint: If you try to access a value from a dictionary that does\n",
    "#not exist, a KeyError will be raised.\n",
    "\n",
    "\n",
    "\n",
    "#Write your function here!\n",
    "\n",
    "\n",
    "#Below are some lines of code that will test your function.\n",
    "#You can change the value of the variable(s) to test your\n",
    "#function with different inputs.\n",
    "#\n",
    "#If your function works correctly, this will originally\n",
    "#print: ant, hen, doe, yak, False, each on their own line.\n",
    "d = {\"bat\": \"pig\", \"pig\": \"cat\", \"cat\": \"dog\", \"dog\": \"ant\",\n",
    "     \"cow\": \"bee\", \"bee\": \"elk\", \"elk\": \"fly\", \"ewe\": \"cod\",\n",
    "     \"cod\": \"hen\", \"hog\": \"fox\", \"fox\": \"jay\", \"jay\": \"doe\",\n",
    "     \"rat\": \"ram\", \"ram\": \"rat\"}\n",
    "\n",
    "print(rabbit_hole(d, \"bat\"))\n",
    "print(rabbit_hole(d, \"ewe\"))\n",
    "print(rabbit_hole(d, \"jay\"))\n",
    "print(rabbit_hole(d, \"yak\"))\n",
    "print(rabbit_hole(d, \"rat\"))"
   ]
  },
  {
   "cell_type": "code",
   "execution_count": null,
   "metadata": {},
   "outputs": [],
   "source": []
  },
  {
   "cell_type": "code",
   "execution_count": null,
   "metadata": {},
   "outputs": [],
   "source": []
  },
  {
   "cell_type": "code",
   "execution_count": null,
   "metadata": {},
   "outputs": [],
   "source": []
  },
  {
   "cell_type": "code",
   "execution_count": null,
   "metadata": {},
   "outputs": [],
   "source": []
  },
  {
   "cell_type": "code",
   "execution_count": null,
   "metadata": {},
   "outputs": [],
   "source": []
  }
 ],
 "metadata": {
  "kernelspec": {
   "display_name": "Python 3",
   "language": "python",
   "name": "python3"
  },
  "language_info": {
   "codemirror_mode": {
    "name": "ipython",
    "version": 3
   },
   "file_extension": ".py",
   "mimetype": "text/x-python",
   "name": "python",
   "nbconvert_exporter": "python",
   "pygments_lexer": "ipython3",
   "version": "3.8.6"
  },
  "toc": {
   "base_numbering": 1,
   "nav_menu": {},
   "number_sections": true,
   "sideBar": true,
   "skip_h1_title": false,
   "title_cell": "Table of Contents",
   "title_sidebar": "Contents",
   "toc_cell": false,
   "toc_position": {},
   "toc_section_display": true,
   "toc_window_display": true
  },
  "toc-autonumbering": true,
  "toc-showcode": false,
  "toc-showmarkdowntxt": false,
  "toc-showtags": false
 },
 "nbformat": 4,
 "nbformat_minor": 4
}
